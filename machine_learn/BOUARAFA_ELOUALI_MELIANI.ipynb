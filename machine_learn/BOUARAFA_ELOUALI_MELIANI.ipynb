{
  "cells": [
    {
      "cell_type": "markdown",
      "source": [
        "# **Part 1 : @Pr EL ASRI**"
      ],
      "metadata": {
        "id": "b0BQ5vMuiGyt"
      },
      "id": "b0BQ5vMuiGyt"
    },
    {
      "cell_type": "markdown",
      "source": [
        "## **1. Data visualization and exploration to better understand our dataset**"
      ],
      "metadata": {
        "id": "lh_ww23_iOZf"
      },
      "id": "lh_ww23_iOZf"
    },
    {
      "cell_type": "code",
      "execution_count": 14,
      "id": "3ac81ae0",
      "metadata": {
        "id": "3ac81ae0"
      },
      "outputs": [],
      "source": [
        "# data manipulation\n",
        "import pandas as pd\n",
        "import numpy as np\n",
        "from operator import itemgetter \n",
        "import missingno as msno \n",
        "import datetime as dt\n",
        "\n",
        "# visualiation\n",
        "import seaborn as sb\n",
        "import matplotlib.pyplot as plt\n",
        "%matplotlib inline\n",
        "\n",
        "# model training\n",
        "from sklearn.model_selection import train_test_split\n",
        "from sklearn.model_selection import GridSearchCV\n",
        "from sklearn.model_selection import RandomizedSearchCV\n",
        "\n",
        "# classifiers\n",
        "from sklearn.neighbors import KNeighborsClassifier # KNN\n",
        "from sklearn.tree import DecisionTreeClassifier # decision Tree\n",
        "\n",
        "\n",
        "# metrics\n",
        "from sklearn.metrics import f1_score # F1-score\n",
        "from sklearn.metrics import confusion_matrix # Confusion matrix"
      ]
    },
    {
      "cell_type": "code",
      "execution_count": 2,
      "id": "d97befd3",
      "metadata": {
        "id": "d97befd3"
      },
      "outputs": [],
      "source": [
        "# Read in the dataset\n",
        "data = pd.read_csv('dataset_car_auction.csv',sep=\";\")"
      ]
    },
    {
      "cell_type": "code",
      "execution_count": 3,
      "id": "0822ac7e",
      "metadata": {
        "colab": {
          "base_uri": "https://localhost:8080/",
          "height": 487
        },
        "id": "0822ac7e",
        "outputId": "dc348439-f53c-4521-a9c2-60f5ce75d198"
      },
      "outputs": [
        {
          "output_type": "execute_result",
          "data": {
            "text/plain": [
              "       RefId   PurchDate  Auction  VehYear  VehicleAge       Make   Color  \\\n",
              "0        326  10/25/2010    ADESA     2008           2        KIA    BLUE   \n",
              "1      42991   5/27/2009  MANHEIM     2006           3      DODGE  SILVER   \n",
              "2      55273   3/18/2010    OTHER     2008           2      DODGE   BLACK   \n",
              "3      29058  06/08/2009    OTHER     2005           4       FORD   BROWN   \n",
              "4      34991  03/04/2009  MANHEIM     2005           4   CHRYSLER    BLUE   \n",
              "...      ...         ...      ...      ...         ...        ...     ...   \n",
              "58381  20065  03/09/2010    OTHER     2007           3  CHEVROLET     RED   \n",
              "58382  12550   1/26/2010    OTHER     2006           4       FORD    GOLD   \n",
              "58383  15626  10/28/2010    OTHER     2007           3  CHEVROLET  SILVER   \n",
              "58384  21224  12/01/2010  MANHEIM     2005           5     NISSAN    GOLD   \n",
              "58385  40898  10/08/2009  MANHEIM     2001           8  CHEVROLET   BLACK   \n",
              "\n",
              "      Transmission  WheelTypeID WheelType  ...  MMRAcquisitonRetailCleanPrice  \\\n",
              "0             AUTO          2.0    Covers  ...                        10805.0   \n",
              "1             AUTO          2.0    Covers  ...                         7478.0   \n",
              "2             AUTO          2.0    Covers  ...                        11652.0   \n",
              "3             AUTO          2.0    Covers  ...                         7691.0   \n",
              "4             AUTO          1.0     Alloy  ...                         7664.0   \n",
              "...            ...          ...       ...  ...                            ...   \n",
              "58381         AUTO          1.0     Alloy  ...                        13762.0   \n",
              "58382         AUTO          1.0     Alloy  ...                         9145.0   \n",
              "58383         AUTO          2.0    Covers  ...                        12303.0   \n",
              "58384         AUTO          1.0     Alloy  ...                         8696.0   \n",
              "58385         AUTO          2.0    Covers  ...                         2461.0   \n",
              "\n",
              "      MMRCurrentAuctionAveragePrice  MMRCurrentAuctionCleanPrice  \\\n",
              "0                            6628.0                       7535.0   \n",
              "1                            5480.0                       6461.0   \n",
              "2                            7497.0                       8102.0   \n",
              "3                            4817.0                       6658.0   \n",
              "4                            5370.0                       6811.0   \n",
              "...                             ...                          ...   \n",
              "58381                        8043.0                       9560.0   \n",
              "58382                        4661.0                       5634.0   \n",
              "58383                        7421.0                       8642.0   \n",
              "58384                        4065.0                       5066.0   \n",
              "58385                        1471.0                       1932.0   \n",
              "\n",
              "       MMRCurrentRetailAveragePrice  MMRCurrentRetailCleanPrice  VNZIP1  VNST  \\\n",
              "0                            9605.0                     10650.0   33619    FL   \n",
              "1                            6418.0                      7478.0   32124    FL   \n",
              "2                           10721.0                     11350.0   74135    OK   \n",
              "3                            5702.0                      7691.0   85018    AZ   \n",
              "4                            6300.0                      7856.0   75236    TX   \n",
              "...                             ...                         ...     ...   ...   \n",
              "58381                       11325.0                     12762.0   95673    CA   \n",
              "58382                        8401.0                      9193.0   95673    CA   \n",
              "58383                       10120.0                     11695.0   21014    MD   \n",
              "58384                        7179.0                      8436.0   75236    TX   \n",
              "58385                        2089.0                      2587.0   29532    SC   \n",
              "\n",
              "       WarrantyCost  VehBCost  IsBadBuy  \n",
              "0               533    6100.0         1  \n",
              "1              1630    4000.0         0  \n",
              "2               693    7500.0         0  \n",
              "3              1633    4725.0         0  \n",
              "4              1623    5670.0         0  \n",
              "...             ...       ...       ...  \n",
              "58381          1974    7205.0         0  \n",
              "58382          1155    4690.0         0  \n",
              "58383          1703    7000.0         0  \n",
              "58384           594    5525.0         1  \n",
              "58385          1455    3240.0         1  \n",
              "\n",
              "[58386 rows x 25 columns]"
            ],
            "text/html": [
              "\n",
              "  <div id=\"df-907da83d-9490-4176-bde5-279b517ba718\">\n",
              "    <div class=\"colab-df-container\">\n",
              "      <div>\n",
              "<style scoped>\n",
              "    .dataframe tbody tr th:only-of-type {\n",
              "        vertical-align: middle;\n",
              "    }\n",
              "\n",
              "    .dataframe tbody tr th {\n",
              "        vertical-align: top;\n",
              "    }\n",
              "\n",
              "    .dataframe thead th {\n",
              "        text-align: right;\n",
              "    }\n",
              "</style>\n",
              "<table border=\"1\" class=\"dataframe\">\n",
              "  <thead>\n",
              "    <tr style=\"text-align: right;\">\n",
              "      <th></th>\n",
              "      <th>RefId</th>\n",
              "      <th>PurchDate</th>\n",
              "      <th>Auction</th>\n",
              "      <th>VehYear</th>\n",
              "      <th>VehicleAge</th>\n",
              "      <th>Make</th>\n",
              "      <th>Color</th>\n",
              "      <th>Transmission</th>\n",
              "      <th>WheelTypeID</th>\n",
              "      <th>WheelType</th>\n",
              "      <th>...</th>\n",
              "      <th>MMRAcquisitonRetailCleanPrice</th>\n",
              "      <th>MMRCurrentAuctionAveragePrice</th>\n",
              "      <th>MMRCurrentAuctionCleanPrice</th>\n",
              "      <th>MMRCurrentRetailAveragePrice</th>\n",
              "      <th>MMRCurrentRetailCleanPrice</th>\n",
              "      <th>VNZIP1</th>\n",
              "      <th>VNST</th>\n",
              "      <th>WarrantyCost</th>\n",
              "      <th>VehBCost</th>\n",
              "      <th>IsBadBuy</th>\n",
              "    </tr>\n",
              "  </thead>\n",
              "  <tbody>\n",
              "    <tr>\n",
              "      <th>0</th>\n",
              "      <td>326</td>\n",
              "      <td>10/25/2010</td>\n",
              "      <td>ADESA</td>\n",
              "      <td>2008</td>\n",
              "      <td>2</td>\n",
              "      <td>KIA</td>\n",
              "      <td>BLUE</td>\n",
              "      <td>AUTO</td>\n",
              "      <td>2.0</td>\n",
              "      <td>Covers</td>\n",
              "      <td>...</td>\n",
              "      <td>10805.0</td>\n",
              "      <td>6628.0</td>\n",
              "      <td>7535.0</td>\n",
              "      <td>9605.0</td>\n",
              "      <td>10650.0</td>\n",
              "      <td>33619</td>\n",
              "      <td>FL</td>\n",
              "      <td>533</td>\n",
              "      <td>6100.0</td>\n",
              "      <td>1</td>\n",
              "    </tr>\n",
              "    <tr>\n",
              "      <th>1</th>\n",
              "      <td>42991</td>\n",
              "      <td>5/27/2009</td>\n",
              "      <td>MANHEIM</td>\n",
              "      <td>2006</td>\n",
              "      <td>3</td>\n",
              "      <td>DODGE</td>\n",
              "      <td>SILVER</td>\n",
              "      <td>AUTO</td>\n",
              "      <td>2.0</td>\n",
              "      <td>Covers</td>\n",
              "      <td>...</td>\n",
              "      <td>7478.0</td>\n",
              "      <td>5480.0</td>\n",
              "      <td>6461.0</td>\n",
              "      <td>6418.0</td>\n",
              "      <td>7478.0</td>\n",
              "      <td>32124</td>\n",
              "      <td>FL</td>\n",
              "      <td>1630</td>\n",
              "      <td>4000.0</td>\n",
              "      <td>0</td>\n",
              "    </tr>\n",
              "    <tr>\n",
              "      <th>2</th>\n",
              "      <td>55273</td>\n",
              "      <td>3/18/2010</td>\n",
              "      <td>OTHER</td>\n",
              "      <td>2008</td>\n",
              "      <td>2</td>\n",
              "      <td>DODGE</td>\n",
              "      <td>BLACK</td>\n",
              "      <td>AUTO</td>\n",
              "      <td>2.0</td>\n",
              "      <td>Covers</td>\n",
              "      <td>...</td>\n",
              "      <td>11652.0</td>\n",
              "      <td>7497.0</td>\n",
              "      <td>8102.0</td>\n",
              "      <td>10721.0</td>\n",
              "      <td>11350.0</td>\n",
              "      <td>74135</td>\n",
              "      <td>OK</td>\n",
              "      <td>693</td>\n",
              "      <td>7500.0</td>\n",
              "      <td>0</td>\n",
              "    </tr>\n",
              "    <tr>\n",
              "      <th>3</th>\n",
              "      <td>29058</td>\n",
              "      <td>06/08/2009</td>\n",
              "      <td>OTHER</td>\n",
              "      <td>2005</td>\n",
              "      <td>4</td>\n",
              "      <td>FORD</td>\n",
              "      <td>BROWN</td>\n",
              "      <td>AUTO</td>\n",
              "      <td>2.0</td>\n",
              "      <td>Covers</td>\n",
              "      <td>...</td>\n",
              "      <td>7691.0</td>\n",
              "      <td>4817.0</td>\n",
              "      <td>6658.0</td>\n",
              "      <td>5702.0</td>\n",
              "      <td>7691.0</td>\n",
              "      <td>85018</td>\n",
              "      <td>AZ</td>\n",
              "      <td>1633</td>\n",
              "      <td>4725.0</td>\n",
              "      <td>0</td>\n",
              "    </tr>\n",
              "    <tr>\n",
              "      <th>4</th>\n",
              "      <td>34991</td>\n",
              "      <td>03/04/2009</td>\n",
              "      <td>MANHEIM</td>\n",
              "      <td>2005</td>\n",
              "      <td>4</td>\n",
              "      <td>CHRYSLER</td>\n",
              "      <td>BLUE</td>\n",
              "      <td>AUTO</td>\n",
              "      <td>1.0</td>\n",
              "      <td>Alloy</td>\n",
              "      <td>...</td>\n",
              "      <td>7664.0</td>\n",
              "      <td>5370.0</td>\n",
              "      <td>6811.0</td>\n",
              "      <td>6300.0</td>\n",
              "      <td>7856.0</td>\n",
              "      <td>75236</td>\n",
              "      <td>TX</td>\n",
              "      <td>1623</td>\n",
              "      <td>5670.0</td>\n",
              "      <td>0</td>\n",
              "    </tr>\n",
              "    <tr>\n",
              "      <th>...</th>\n",
              "      <td>...</td>\n",
              "      <td>...</td>\n",
              "      <td>...</td>\n",
              "      <td>...</td>\n",
              "      <td>...</td>\n",
              "      <td>...</td>\n",
              "      <td>...</td>\n",
              "      <td>...</td>\n",
              "      <td>...</td>\n",
              "      <td>...</td>\n",
              "      <td>...</td>\n",
              "      <td>...</td>\n",
              "      <td>...</td>\n",
              "      <td>...</td>\n",
              "      <td>...</td>\n",
              "      <td>...</td>\n",
              "      <td>...</td>\n",
              "      <td>...</td>\n",
              "      <td>...</td>\n",
              "      <td>...</td>\n",
              "      <td>...</td>\n",
              "    </tr>\n",
              "    <tr>\n",
              "      <th>58381</th>\n",
              "      <td>20065</td>\n",
              "      <td>03/09/2010</td>\n",
              "      <td>OTHER</td>\n",
              "      <td>2007</td>\n",
              "      <td>3</td>\n",
              "      <td>CHEVROLET</td>\n",
              "      <td>RED</td>\n",
              "      <td>AUTO</td>\n",
              "      <td>1.0</td>\n",
              "      <td>Alloy</td>\n",
              "      <td>...</td>\n",
              "      <td>13762.0</td>\n",
              "      <td>8043.0</td>\n",
              "      <td>9560.0</td>\n",
              "      <td>11325.0</td>\n",
              "      <td>12762.0</td>\n",
              "      <td>95673</td>\n",
              "      <td>CA</td>\n",
              "      <td>1974</td>\n",
              "      <td>7205.0</td>\n",
              "      <td>0</td>\n",
              "    </tr>\n",
              "    <tr>\n",
              "      <th>58382</th>\n",
              "      <td>12550</td>\n",
              "      <td>1/26/2010</td>\n",
              "      <td>OTHER</td>\n",
              "      <td>2006</td>\n",
              "      <td>4</td>\n",
              "      <td>FORD</td>\n",
              "      <td>GOLD</td>\n",
              "      <td>AUTO</td>\n",
              "      <td>1.0</td>\n",
              "      <td>Alloy</td>\n",
              "      <td>...</td>\n",
              "      <td>9145.0</td>\n",
              "      <td>4661.0</td>\n",
              "      <td>5634.0</td>\n",
              "      <td>8401.0</td>\n",
              "      <td>9193.0</td>\n",
              "      <td>95673</td>\n",
              "      <td>CA</td>\n",
              "      <td>1155</td>\n",
              "      <td>4690.0</td>\n",
              "      <td>0</td>\n",
              "    </tr>\n",
              "    <tr>\n",
              "      <th>58383</th>\n",
              "      <td>15626</td>\n",
              "      <td>10/28/2010</td>\n",
              "      <td>OTHER</td>\n",
              "      <td>2007</td>\n",
              "      <td>3</td>\n",
              "      <td>CHEVROLET</td>\n",
              "      <td>SILVER</td>\n",
              "      <td>AUTO</td>\n",
              "      <td>2.0</td>\n",
              "      <td>Covers</td>\n",
              "      <td>...</td>\n",
              "      <td>12303.0</td>\n",
              "      <td>7421.0</td>\n",
              "      <td>8642.0</td>\n",
              "      <td>10120.0</td>\n",
              "      <td>11695.0</td>\n",
              "      <td>21014</td>\n",
              "      <td>MD</td>\n",
              "      <td>1703</td>\n",
              "      <td>7000.0</td>\n",
              "      <td>0</td>\n",
              "    </tr>\n",
              "    <tr>\n",
              "      <th>58384</th>\n",
              "      <td>21224</td>\n",
              "      <td>12/01/2010</td>\n",
              "      <td>MANHEIM</td>\n",
              "      <td>2005</td>\n",
              "      <td>5</td>\n",
              "      <td>NISSAN</td>\n",
              "      <td>GOLD</td>\n",
              "      <td>AUTO</td>\n",
              "      <td>1.0</td>\n",
              "      <td>Alloy</td>\n",
              "      <td>...</td>\n",
              "      <td>8696.0</td>\n",
              "      <td>4065.0</td>\n",
              "      <td>5066.0</td>\n",
              "      <td>7179.0</td>\n",
              "      <td>8436.0</td>\n",
              "      <td>75236</td>\n",
              "      <td>TX</td>\n",
              "      <td>594</td>\n",
              "      <td>5525.0</td>\n",
              "      <td>1</td>\n",
              "    </tr>\n",
              "    <tr>\n",
              "      <th>58385</th>\n",
              "      <td>40898</td>\n",
              "      <td>10/08/2009</td>\n",
              "      <td>MANHEIM</td>\n",
              "      <td>2001</td>\n",
              "      <td>8</td>\n",
              "      <td>CHEVROLET</td>\n",
              "      <td>BLACK</td>\n",
              "      <td>AUTO</td>\n",
              "      <td>2.0</td>\n",
              "      <td>Covers</td>\n",
              "      <td>...</td>\n",
              "      <td>2461.0</td>\n",
              "      <td>1471.0</td>\n",
              "      <td>1932.0</td>\n",
              "      <td>2089.0</td>\n",
              "      <td>2587.0</td>\n",
              "      <td>29532</td>\n",
              "      <td>SC</td>\n",
              "      <td>1455</td>\n",
              "      <td>3240.0</td>\n",
              "      <td>1</td>\n",
              "    </tr>\n",
              "  </tbody>\n",
              "</table>\n",
              "<p>58386 rows × 25 columns</p>\n",
              "</div>\n",
              "      <button class=\"colab-df-convert\" onclick=\"convertToInteractive('df-907da83d-9490-4176-bde5-279b517ba718')\"\n",
              "              title=\"Convert this dataframe to an interactive table.\"\n",
              "              style=\"display:none;\">\n",
              "        \n",
              "  <svg xmlns=\"http://www.w3.org/2000/svg\" height=\"24px\"viewBox=\"0 0 24 24\"\n",
              "       width=\"24px\">\n",
              "    <path d=\"M0 0h24v24H0V0z\" fill=\"none\"/>\n",
              "    <path d=\"M18.56 5.44l.94 2.06.94-2.06 2.06-.94-2.06-.94-.94-2.06-.94 2.06-2.06.94zm-11 1L8.5 8.5l.94-2.06 2.06-.94-2.06-.94L8.5 2.5l-.94 2.06-2.06.94zm10 10l.94 2.06.94-2.06 2.06-.94-2.06-.94-.94-2.06-.94 2.06-2.06.94z\"/><path d=\"M17.41 7.96l-1.37-1.37c-.4-.4-.92-.59-1.43-.59-.52 0-1.04.2-1.43.59L10.3 9.45l-7.72 7.72c-.78.78-.78 2.05 0 2.83L4 21.41c.39.39.9.59 1.41.59.51 0 1.02-.2 1.41-.59l7.78-7.78 2.81-2.81c.8-.78.8-2.07 0-2.86zM5.41 20L4 18.59l7.72-7.72 1.47 1.35L5.41 20z\"/>\n",
              "  </svg>\n",
              "      </button>\n",
              "      \n",
              "  <style>\n",
              "    .colab-df-container {\n",
              "      display:flex;\n",
              "      flex-wrap:wrap;\n",
              "      gap: 12px;\n",
              "    }\n",
              "\n",
              "    .colab-df-convert {\n",
              "      background-color: #E8F0FE;\n",
              "      border: none;\n",
              "      border-radius: 50%;\n",
              "      cursor: pointer;\n",
              "      display: none;\n",
              "      fill: #1967D2;\n",
              "      height: 32px;\n",
              "      padding: 0 0 0 0;\n",
              "      width: 32px;\n",
              "    }\n",
              "\n",
              "    .colab-df-convert:hover {\n",
              "      background-color: #E2EBFA;\n",
              "      box-shadow: 0px 1px 2px rgba(60, 64, 67, 0.3), 0px 1px 3px 1px rgba(60, 64, 67, 0.15);\n",
              "      fill: #174EA6;\n",
              "    }\n",
              "\n",
              "    [theme=dark] .colab-df-convert {\n",
              "      background-color: #3B4455;\n",
              "      fill: #D2E3FC;\n",
              "    }\n",
              "\n",
              "    [theme=dark] .colab-df-convert:hover {\n",
              "      background-color: #434B5C;\n",
              "      box-shadow: 0px 1px 3px 1px rgba(0, 0, 0, 0.15);\n",
              "      filter: drop-shadow(0px 1px 2px rgba(0, 0, 0, 0.3));\n",
              "      fill: #FFFFFF;\n",
              "    }\n",
              "  </style>\n",
              "\n",
              "      <script>\n",
              "        const buttonEl =\n",
              "          document.querySelector('#df-907da83d-9490-4176-bde5-279b517ba718 button.colab-df-convert');\n",
              "        buttonEl.style.display =\n",
              "          google.colab.kernel.accessAllowed ? 'block' : 'none';\n",
              "\n",
              "        async function convertToInteractive(key) {\n",
              "          const element = document.querySelector('#df-907da83d-9490-4176-bde5-279b517ba718');\n",
              "          const dataTable =\n",
              "            await google.colab.kernel.invokeFunction('convertToInteractive',\n",
              "                                                     [key], {});\n",
              "          if (!dataTable) return;\n",
              "\n",
              "          const docLinkHtml = 'Like what you see? Visit the ' +\n",
              "            '<a target=\"_blank\" href=https://colab.research.google.com/notebooks/data_table.ipynb>data table notebook</a>'\n",
              "            + ' to learn more about interactive tables.';\n",
              "          element.innerHTML = '';\n",
              "          dataTable['output_type'] = 'display_data';\n",
              "          await google.colab.output.renderOutput(dataTable, element);\n",
              "          const docLink = document.createElement('div');\n",
              "          docLink.innerHTML = docLinkHtml;\n",
              "          element.appendChild(docLink);\n",
              "        }\n",
              "      </script>\n",
              "    </div>\n",
              "  </div>\n",
              "  "
            ]
          },
          "metadata": {},
          "execution_count": 3
        }
      ],
      "source": [
        "data"
      ]
    },
    {
      "cell_type": "code",
      "source": [
        "# Print data types of DataFrame\n",
        "data.dtypes"
      ],
      "metadata": {
        "colab": {
          "base_uri": "https://localhost:8080/"
        },
        "id": "pt0QNRWxixuU",
        "outputId": "758616fb-8609-4f6e-843c-4b4d83486d34"
      },
      "id": "pt0QNRWxixuU",
      "execution_count": 4,
      "outputs": [
        {
          "output_type": "execute_result",
          "data": {
            "text/plain": [
              "RefId                                  int64\n",
              "PurchDate                             object\n",
              "Auction                               object\n",
              "VehYear                                int64\n",
              "VehicleAge                             int64\n",
              "Make                                  object\n",
              "Color                                 object\n",
              "Transmission                          object\n",
              "WheelTypeID                          float64\n",
              "WheelType                             object\n",
              "VehOdo                                 int64\n",
              "Size                                  object\n",
              "MMRAcquisitionAuctionAveragePrice    float64\n",
              "MMRAcquisitionAuctionCleanPrice      float64\n",
              "MMRAcquisitionRetailAveragePrice     float64\n",
              "MMRAcquisitonRetailCleanPrice        float64\n",
              "MMRCurrentAuctionAveragePrice        float64\n",
              "MMRCurrentAuctionCleanPrice          float64\n",
              "MMRCurrentRetailAveragePrice         float64\n",
              "MMRCurrentRetailCleanPrice           float64\n",
              "VNZIP1                                 int64\n",
              "VNST                                  object\n",
              "WarrantyCost                           int64\n",
              "VehBCost                             float64\n",
              "IsBadBuy                               int64\n",
              "dtype: object"
            ]
          },
          "metadata": {},
          "execution_count": 4
        }
      ]
    },
    {
      "cell_type": "markdown",
      "source": [
        "### **a. Plot Distribution of vehicle age**"
      ],
      "metadata": {
        "id": "CzBsLczCinOA"
      },
      "id": "CzBsLczCinOA"
    },
    {
      "cell_type": "code",
      "execution_count": 5,
      "id": "5c3eda74",
      "metadata": {
        "colab": {
          "base_uri": "https://localhost:8080/",
          "height": 350
        },
        "id": "5c3eda74",
        "outputId": "cbb4160b-5f7f-4353-a31f-b32cd10add9c"
      },
      "outputs": [
        {
          "output_type": "stream",
          "name": "stderr",
          "text": [
            "/usr/local/lib/python3.7/dist-packages/seaborn/distributions.py:2619: FutureWarning: `distplot` is a deprecated function and will be removed in a future version. Please adapt your code to use either `displot` (a figure-level function with similar flexibility) or `histplot` (an axes-level function for histograms).\n",
            "  warnings.warn(msg, FutureWarning)\n"
          ]
        },
        {
          "output_type": "display_data",
          "data": {
            "text/plain": [
              "<Figure size 432x288 with 1 Axes>"
            ],
            "image/png": "[encoded data removed]"
          },
          "metadata": {
            "needs_background": "light"
          }
        }
      ],
      "source": [
        "sb.distplot(data['VehicleAge'], bins = 20)\n",
        "plt.title('Distribution of vehicle Age')\n",
        "plt.show()\n"
      ]
    },
    {
      "cell_type": "markdown",
      "source": [
        "### **b. Plot Distribution of the target variable IsBadBuy**"
      ],
      "metadata": {
        "id": "ad8H696Ei74I"
      },
      "id": "ad8H696Ei74I"
    },
    {
      "cell_type": "code",
      "execution_count": 6,
      "id": "11f661fd",
      "metadata": {
        "colab": {
          "base_uri": "https://localhost:8080/",
          "height": 350
        },
        "id": "11f661fd",
        "outputId": "9256cecf-7c0c-41c3-b93f-8f770d02cb65"
      },
      "outputs": [
        {
          "output_type": "stream",
          "name": "stderr",
          "text": [
            "/usr/local/lib/python3.7/dist-packages/seaborn/distributions.py:2619: FutureWarning: `distplot` is a deprecated function and will be removed in a future version. Please adapt your code to use either `displot` (a figure-level function with similar flexibility) or `histplot` (an axes-level function for histograms).\n",
            "  warnings.warn(msg, FutureWarning)\n"
          ]
        },
        {
          "output_type": "display_data",
          "data": {
            "text/plain": [
              "<Figure size 432x288 with 1 Axes>"
            ],
            "image/png": "[encoded data removed]"
          },
          "metadata": {
            "needs_background": "light"
          }
        }
      ],
      "source": [
        "sb.distplot(data['IsBadBuy'], bins = 20)\n",
        "plt.title('Distribution of IsBadBuy')\n",
        "plt.show()"
      ]
    },
    {
      "cell_type": "markdown",
      "source": [
        "datasetcounts 20 records(total  amount  of  cars),  of  which 2.5 have been  returned  as  bad  purchases , while the remaining 17.5% are good buys"
      ],
      "metadata": {
        "id": "h1qSfQMMby51"
      },
      "id": "h1qSfQMMby51"
    },
    {
      "cell_type": "markdown",
      "source": [
        "### **c. Investigate the attribute VehBCost**\n"
      ],
      "metadata": {
        "id": "5XrvyRBJ28Vo"
      },
      "id": "5XrvyRBJ28Vo"
    },
    {
      "cell_type": "code",
      "source": [
        "ax = sb.boxplot(x=data[\"VehBCost\"])\n"
      ],
      "metadata": {
        "colab": {
          "base_uri": "https://localhost:8080/",
          "height": 279
        },
        "id": "YqHDN0AFcl8m",
        "outputId": "e261a524-e00e-4528-d617-496d5188e60f"
      },
      "id": "YqHDN0AFcl8m",
      "execution_count": 7,
      "outputs": [
        {
          "output_type": "display_data",
          "data": {
            "text/plain": [
              "<Figure size 432x288 with 1 Axes>"
            ],
            "image/png": "[encoded data removed]"
          },
          "metadata": {
            "needs_background": "light"
          }
        }
      ]
    },
    {
      "cell_type": "markdown",
      "source": [
        "we can observe that Vehicles are usually sold for a price between 5000 and 7500, and a very low percentage of cars is sold above 1750 or below 2500"
      ],
      "metadata": {
        "id": "IuZihz7OcyFr"
      },
      "id": "IuZihz7OcyFr"
    },
    {
      "cell_type": "markdown",
      "source": [
        "### **d. Plot the distribution of the attribute Color**"
      ],
      "metadata": {
        "id": "n7ZnbNom3lnL"
      },
      "id": "n7ZnbNom3lnL"
    },
    {
      "cell_type": "code",
      "source": [
        "g=sb.countplot('Color',data=data)\n",
        "plt.xticks(rotation=90)"
      ],
      "metadata": {
        "id": "bSskSt6Sdon8",
        "colab": {
          "base_uri": "https://localhost:8080/",
          "height": 410
        },
        "outputId": "8c771c40-f6d6-4352-a76f-3cb749802392"
      },
      "id": "bSskSt6Sdon8",
      "execution_count": 8,
      "outputs": [
        {
          "output_type": "stream",
          "name": "stderr",
          "text": [
            "/usr/local/lib/python3.7/dist-packages/seaborn/_decorators.py:43: FutureWarning: Pass the following variable as a keyword arg: x. From version 0.12, the only valid positional argument will be `data`, and passing other arguments without an explicit keyword will result in an error or misinterpretation.\n",
            "  FutureWarning\n"
          ]
        },
        {
          "output_type": "execute_result",
          "data": {
            "text/plain": [
              "(array([ 0,  1,  2,  3,  4,  5,  6,  7,  8,  9, 10, 11, 12, 13, 14, 15]),\n",
              " <a list of 16 Text major ticklabel objects>)"
            ]
          },
          "metadata": {},
          "execution_count": 8
        },
        {
          "output_type": "display_data",
          "data": {
            "text/plain": [
              "<Figure size 432x288 with 1 Axes>"
            ],
            "image/png": "[encoded data removed]"
          },
          "metadata": {
            "needs_background": "light"
          }
        }
      ]
    },
    {
      "cell_type": "markdown",
      "source": [
        "the most tree common colours are SILVER,WHITE & BLUE."
      ],
      "metadata": {
        "id": "QuqZk1vr4sNd"
      },
      "id": "QuqZk1vr4sNd"
    },
    {
      "cell_type": "markdown",
      "source": [
        "### **e. Choose tree other features to explore**"
      ],
      "metadata": {
        "id": "13Qls1_p3-Ya"
      },
      "id": "13Qls1_p3-Ya"
    },
    {
      "cell_type": "code",
      "source": [
        "sb.countplot(data['Auction'])\n",
        "plt.title('Distribution of Auction')\n",
        "plt.show()"
      ],
      "metadata": {
        "colab": {
          "base_uri": "https://localhost:8080/",
          "height": 350
        },
        "id": "lg7zyhkucHzJ",
        "outputId": "141f5f2b-b4aa-47a2-a29b-1def43e0c11e"
      },
      "id": "lg7zyhkucHzJ",
      "execution_count": 8,
      "outputs": [
        {
          "output_type": "stream",
          "name": "stderr",
          "text": [
            "/usr/local/lib/python3.7/dist-packages/seaborn/_decorators.py:43: FutureWarning: Pass the following variable as a keyword arg: x. From version 0.12, the only valid positional argument will be `data`, and passing other arguments without an explicit keyword will result in an error or misinterpretation.\n",
            "  FutureWarning\n"
          ]
        },
        {
          "output_type": "display_data",
          "data": {
            "text/plain": [
              "<Figure size 432x288 with 1 Axes>"
            ],
            "image/png": "[encoded data removed]"
          },
          "metadata": {
            "needs_background": "light"
          }
        }
      ]
    },
    {
      "cell_type": "markdown",
      "source": [
        "We observe that MANHEIM is the auction that provides the most auctions  in comparaison with ADESA and other providers"
      ],
      "metadata": {
        "id": "sK6Zomh2glI3"
      },
      "id": "sK6Zomh2glI3"
    },
    {
      "cell_type": "code",
      "source": [
        "g=sb.countplot('Make',data=data)\n",
        "plt.xticks(rotation=90)"
      ],
      "metadata": {
        "colab": {
          "base_uri": "https://localhost:8080/",
          "height": 449
        },
        "id": "3jaeveA2gwsy",
        "outputId": "7d9ec09f-3f59-4ede-ce85-eed265ed0584"
      },
      "id": "3jaeveA2gwsy",
      "execution_count": 9,
      "outputs": [
        {
          "output_type": "stream",
          "name": "stderr",
          "text": [
            "/usr/local/lib/python3.7/dist-packages/seaborn/_decorators.py:43: FutureWarning: Pass the following variable as a keyword arg: x. From version 0.12, the only valid positional argument will be `data`, and passing other arguments without an explicit keyword will result in an error or misinterpretation.\n",
            "  FutureWarning\n"
          ]
        },
        {
          "output_type": "execute_result",
          "data": {
            "text/plain": [
              "(array([ 0,  1,  2,  3,  4,  5,  6,  7,  8,  9, 10, 11, 12, 13, 14, 15, 16,\n",
              "        17, 18, 19, 20, 21, 22, 23, 24, 25, 26, 27, 28, 29, 30, 31, 32]),\n",
              " <a list of 33 Text major ticklabel objects>)"
            ]
          },
          "metadata": {},
          "execution_count": 9
        },
        {
          "output_type": "display_data",
          "data": {
            "text/plain": [
              "<Figure size 432x288 with 1 Axes>"
            ],
            "image/png": "[encoded data removed]"
          },
          "metadata": {
            "needs_background": "light"
          }
        }
      ]
    },
    {
      "cell_type": "markdown",
      "source": [
        "The distribution of attribute values for manufacturers presents a preponderance of automobiles a Chevrolet brand, followed by Dodge, Ford and Chrysler. American cars are the majority"
      ],
      "metadata": {
        "id": "Z8mX9rMchYk7"
      },
      "id": "Z8mX9rMchYk7"
    },
    {
      "cell_type": "code",
      "source": [
        "sb.countplot(data['Transmission'])\n",
        "plt.title('Distribution of transmission')\n",
        "plt.show()"
      ],
      "metadata": {
        "colab": {
          "base_uri": "https://localhost:8080/",
          "height": 350
        },
        "id": "H8l7K6eJhgqA",
        "outputId": "f8021911-9d08-4f45-d25a-589386e155a8"
      },
      "id": "H8l7K6eJhgqA",
      "execution_count": 10,
      "outputs": [
        {
          "output_type": "stream",
          "name": "stderr",
          "text": [
            "/usr/local/lib/python3.7/dist-packages/seaborn/_decorators.py:43: FutureWarning: Pass the following variable as a keyword arg: x. From version 0.12, the only valid positional argument will be `data`, and passing other arguments without an explicit keyword will result in an error or misinterpretation.\n",
            "  FutureWarning\n"
          ]
        },
        {
          "output_type": "display_data",
          "data": {
            "text/plain": [
              "<Figure size 432x288 with 1 Axes>"
            ],
            "image/png": "[encoded data removed]"
          },
          "metadata": {
            "needs_background": "light"
          }
        }
      ]
    },
    {
      "cell_type": "markdown",
      "source": [
        "We can observe that most of the vehicles have AUTO transmission."
      ],
      "metadata": {
        "id": "JCe9dEgfhrFQ"
      },
      "id": "JCe9dEgfhrFQ"
    },
    {
      "cell_type": "markdown",
      "source": [
        "### **f. Plot correlation matrix between numerical features**"
      ],
      "metadata": {
        "id": "tO7eZ5T15Nag"
      },
      "id": "tO7eZ5T15Nag"
    },
    {
      "cell_type": "code",
      "source": [
        "num_co=data.drop(columns=['PurchDate','Auction','Make','Color','Transmission','WheelType','Size','VNST'])\n",
        "num_co.head()\n",
        "sb.clustermap(data.corr(), annot=True)"
      ],
      "metadata": {
        "colab": {
          "base_uri": "https://localhost:8080/",
          "height": 747
        },
        "id": "sn3kHFEu5QOF",
        "outputId": "891054e2-7840-4924-c97f-6b8a10be7aff"
      },
      "id": "sn3kHFEu5QOF",
      "execution_count": 10,
      "outputs": [
        {
          "output_type": "execute_result",
          "data": {
            "text/plain": [
              "<seaborn.matrix.ClusterGrid at 0x7f07e6792310>"
            ]
          },
          "metadata": {},
          "execution_count": 10
        },
        {
          "output_type": "display_data",
          "data": {
            "text/plain": [
              "<Figure size 720x720 with 4 Axes>"
            ],
            "image/png": "[encoded data removed]"
          },
          "metadata": {
            "needs_background": "light"
          }
        }
      ]
    },
    {
      "cell_type": "markdown",
      "source": [
        "## **2.Missing value imputation**\n"
      ],
      "metadata": {
        "id": "qM_gUrv1gs1u"
      },
      "id": "qM_gUrv1gs1u"
    },
    {
      "cell_type": "markdown",
      "source": [
        "### **a. Check for duplicate RefId and remove them**"
      ],
      "metadata": {
        "id": "jZkspKTC6Hod"
      },
      "id": "jZkspKTC6Hod"
    },
    {
      "cell_type": "code",
      "source": [
        "duplicates = data.duplicated(subset = 'RefId', keep = False)\n",
        "duplicates"
      ],
      "metadata": {
        "colab": {
          "base_uri": "https://localhost:8080/"
        },
        "id": "GfQEIQ7K55yV",
        "outputId": "00d58aed-ca02-4d47-96ac-327cf51623a3"
      },
      "id": "GfQEIQ7K55yV",
      "execution_count": 11,
      "outputs": [
        {
          "output_type": "execute_result",
          "data": {
            "text/plain": [
              "0        False\n",
              "1        False\n",
              "2        False\n",
              "3        False\n",
              "4        False\n",
              "         ...  \n",
              "58381    False\n",
              "58382    False\n",
              "58383    False\n",
              "58384    False\n",
              "58385    False\n",
              "Length: 58386, dtype: bool"
            ]
          },
          "metadata": {},
          "execution_count": 11
        }
      ]
    },
    {
      "cell_type": "code",
      "source": [
        "data[duplicates].sort_values('RefId')"
      ],
      "metadata": {
        "colab": {
          "base_uri": "https://localhost:8080/",
          "height": 142
        },
        "id": "RK1U1i2z5_91",
        "outputId": "54cd13b2-f16e-44ad-ac6b-55cfa522202c"
      },
      "id": "RK1U1i2z5_91",
      "execution_count": 12,
      "outputs": [
        {
          "output_type": "execute_result",
          "data": {
            "text/plain": [
              "Empty DataFrame\n",
              "Columns: [RefId, PurchDate, Auction, VehYear, VehicleAge, Make, Color, Transmission, WheelTypeID, WheelType, VehOdo, Size, MMRAcquisitionAuctionAveragePrice, MMRAcquisitionAuctionCleanPrice, MMRAcquisitionRetailAveragePrice, MMRAcquisitonRetailCleanPrice, MMRCurrentAuctionAveragePrice, MMRCurrentAuctionCleanPrice, MMRCurrentRetailAveragePrice, MMRCurrentRetailCleanPrice, VNZIP1, VNST, WarrantyCost, VehBCost, IsBadBuy]\n",
              "Index: []\n",
              "\n",
              "[0 rows x 25 columns]"
            ],
            "text/html": [
              "\n",
              "  <div id=\"df-d8b8ce8e-9aa2-4263-90d8-e06216c39afe\">\n",
              "    <div class=\"colab-df-container\">\n",
              "      <div>\n",
              "<style scoped>\n",
              "    .dataframe tbody tr th:only-of-type {\n",
              "        vertical-align: middle;\n",
              "    }\n",
              "\n",
              "    .dataframe tbody tr th {\n",
              "        vertical-align: top;\n",
              "    }\n",
              "\n",
              "    .dataframe thead th {\n",
              "        text-align: right;\n",
              "    }\n",
              "</style>\n",
              "<table border=\"1\" class=\"dataframe\">\n",
              "  <thead>\n",
              "    <tr style=\"text-align: right;\">\n",
              "      <th></th>\n",
              "      <th>RefId</th>\n",
              "      <th>PurchDate</th>\n",
              "      <th>Auction</th>\n",
              "      <th>VehYear</th>\n",
              "      <th>VehicleAge</th>\n",
              "      <th>Make</th>\n",
              "      <th>Color</th>\n",
              "      <th>Transmission</th>\n",
              "      <th>WheelTypeID</th>\n",
              "      <th>WheelType</th>\n",
              "      <th>...</th>\n",
              "      <th>MMRAcquisitonRetailCleanPrice</th>\n",
              "      <th>MMRCurrentAuctionAveragePrice</th>\n",
              "      <th>MMRCurrentAuctionCleanPrice</th>\n",
              "      <th>MMRCurrentRetailAveragePrice</th>\n",
              "      <th>MMRCurrentRetailCleanPrice</th>\n",
              "      <th>VNZIP1</th>\n",
              "      <th>VNST</th>\n",
              "      <th>WarrantyCost</th>\n",
              "      <th>VehBCost</th>\n",
              "      <th>IsBadBuy</th>\n",
              "    </tr>\n",
              "  </thead>\n",
              "  <tbody>\n",
              "  </tbody>\n",
              "</table>\n",
              "<p>0 rows × 25 columns</p>\n",
              "</div>\n",
              "      <button class=\"colab-df-convert\" onclick=\"convertToInteractive('df-d8b8ce8e-9aa2-4263-90d8-e06216c39afe')\"\n",
              "              title=\"Convert this dataframe to an interactive table.\"\n",
              "              style=\"display:none;\">\n",
              "        \n",
              "  <svg xmlns=\"http://www.w3.org/2000/svg\" height=\"24px\"viewBox=\"0 0 24 24\"\n",
              "       width=\"24px\">\n",
              "    <path d=\"M0 0h24v24H0V0z\" fill=\"none\"/>\n",
              "    <path d=\"M18.56 5.44l.94 2.06.94-2.06 2.06-.94-2.06-.94-.94-2.06-.94 2.06-2.06.94zm-11 1L8.5 8.5l.94-2.06 2.06-.94-2.06-.94L8.5 2.5l-.94 2.06-2.06.94zm10 10l.94 2.06.94-2.06 2.06-.94-2.06-.94-.94-2.06-.94 2.06-2.06.94z\"/><path d=\"M17.41 7.96l-1.37-1.37c-.4-.4-.92-.59-1.43-.59-.52 0-1.04.2-1.43.59L10.3 9.45l-7.72 7.72c-.78.78-.78 2.05 0 2.83L4 21.41c.39.39.9.59 1.41.59.51 0 1.02-.2 1.41-.59l7.78-7.78 2.81-2.81c.8-.78.8-2.07 0-2.86zM5.41 20L4 18.59l7.72-7.72 1.47 1.35L5.41 20z\"/>\n",
              "  </svg>\n",
              "      </button>\n",
              "      \n",
              "  <style>\n",
              "    .colab-df-container {\n",
              "      display:flex;\n",
              "      flex-wrap:wrap;\n",
              "      gap: 12px;\n",
              "    }\n",
              "\n",
              "    .colab-df-convert {\n",
              "      background-color: #E8F0FE;\n",
              "      border: none;\n",
              "      border-radius: 50%;\n",
              "      cursor: pointer;\n",
              "      display: none;\n",
              "      fill: #1967D2;\n",
              "      height: 32px;\n",
              "      padding: 0 0 0 0;\n",
              "      width: 32px;\n",
              "    }\n",
              "\n",
              "    .colab-df-convert:hover {\n",
              "      background-color: #E2EBFA;\n",
              "      box-shadow: 0px 1px 2px rgba(60, 64, 67, 0.3), 0px 1px 3px 1px rgba(60, 64, 67, 0.15);\n",
              "      fill: #174EA6;\n",
              "    }\n",
              "\n",
              "    [theme=dark] .colab-df-convert {\n",
              "      background-color: #3B4455;\n",
              "      fill: #D2E3FC;\n",
              "    }\n",
              "\n",
              "    [theme=dark] .colab-df-convert:hover {\n",
              "      background-color: #434B5C;\n",
              "      box-shadow: 0px 1px 3px 1px rgba(0, 0, 0, 0.15);\n",
              "      filter: drop-shadow(0px 1px 2px rgba(0, 0, 0, 0.3));\n",
              "      fill: #FFFFFF;\n",
              "    }\n",
              "  </style>\n",
              "\n",
              "      <script>\n",
              "        const buttonEl =\n",
              "          document.querySelector('#df-d8b8ce8e-9aa2-4263-90d8-e06216c39afe button.colab-df-convert');\n",
              "        buttonEl.style.display =\n",
              "          google.colab.kernel.accessAllowed ? 'block' : 'none';\n",
              "\n",
              "        async function convertToInteractive(key) {\n",
              "          const element = document.querySelector('#df-d8b8ce8e-9aa2-4263-90d8-e06216c39afe');\n",
              "          const dataTable =\n",
              "            await google.colab.kernel.invokeFunction('convertToInteractive',\n",
              "                                                     [key], {});\n",
              "          if (!dataTable) return;\n",
              "\n",
              "          const docLinkHtml = 'Like what you see? Visit the ' +\n",
              "            '<a target=\"_blank\" href=https://colab.research.google.com/notebooks/data_table.ipynb>data table notebook</a>'\n",
              "            + ' to learn more about interactive tables.';\n",
              "          element.innerHTML = '';\n",
              "          dataTable['output_type'] = 'display_data';\n",
              "          await google.colab.output.renderOutput(dataTable, element);\n",
              "          const docLink = document.createElement('div');\n",
              "          docLink.innerHTML = docLinkHtml;\n",
              "          element.appendChild(docLink);\n",
              "        }\n",
              "      </script>\n",
              "    </div>\n",
              "  </div>\n",
              "  "
            ]
          },
          "metadata": {},
          "execution_count": 12
        }
      ]
    },
    {
      "cell_type": "code",
      "source": [
        "# drop duplicates\n",
        "data.drop_duplicates()"
      ],
      "metadata": {
        "colab": {
          "base_uri": "https://localhost:8080/",
          "height": 487
        },
        "id": "xus3H3Nwgtyd",
        "outputId": "09052b6e-9d1c-4788-acbb-4f639924fc3d"
      },
      "id": "xus3H3Nwgtyd",
      "execution_count": null,
      "outputs": [
        {
          "output_type": "execute_result",
          "data": {
            "text/plain": [
              "       RefId   PurchDate  Auction  VehYear  VehicleAge       Make   Color  \\\n",
              "0        326  10/25/2010    ADESA     2008           2        KIA    BLUE   \n",
              "1      42991   5/27/2009  MANHEIM     2006           3      DODGE  SILVER   \n",
              "2      55273   3/18/2010    OTHER     2008           2      DODGE   BLACK   \n",
              "3      29058  06/08/2009    OTHER     2005           4       FORD   BROWN   \n",
              "4      34991  03/04/2009  MANHEIM     2005           4   CHRYSLER    BLUE   \n",
              "...      ...         ...      ...      ...         ...        ...     ...   \n",
              "58381  20065  03/09/2010    OTHER     2007           3  CHEVROLET     RED   \n",
              "58382  12550   1/26/2010    OTHER     2006           4       FORD    GOLD   \n",
              "58383  15626  10/28/2010    OTHER     2007           3  CHEVROLET  SILVER   \n",
              "58384  21224  12/01/2010  MANHEIM     2005           5     NISSAN    GOLD   \n",
              "58385  40898  10/08/2009  MANHEIM     2001           8  CHEVROLET   BLACK   \n",
              "\n",
              "      Transmission  WheelTypeID WheelType  ...  MMRAcquisitonRetailCleanPrice  \\\n",
              "0             AUTO          2.0    Covers  ...                        10805.0   \n",
              "1             AUTO          2.0    Covers  ...                         7478.0   \n",
              "2             AUTO          2.0    Covers  ...                        11652.0   \n",
              "3             AUTO          2.0    Covers  ...                         7691.0   \n",
              "4             AUTO          1.0     Alloy  ...                         7664.0   \n",
              "...            ...          ...       ...  ...                            ...   \n",
              "58381         AUTO          1.0     Alloy  ...                        13762.0   \n",
              "58382         AUTO          1.0     Alloy  ...                         9145.0   \n",
              "58383         AUTO          2.0    Covers  ...                        12303.0   \n",
              "58384         AUTO          1.0     Alloy  ...                         8696.0   \n",
              "58385         AUTO          2.0    Covers  ...                         2461.0   \n",
              "\n",
              "      MMRCurrentAuctionAveragePrice  MMRCurrentAuctionCleanPrice  \\\n",
              "0                            6628.0                       7535.0   \n",
              "1                            5480.0                       6461.0   \n",
              "2                            7497.0                       8102.0   \n",
              "3                            4817.0                       6658.0   \n",
              "4                            5370.0                       6811.0   \n",
              "...                             ...                          ...   \n",
              "58381                        8043.0                       9560.0   \n",
              "58382                        4661.0                       5634.0   \n",
              "58383                        7421.0                       8642.0   \n",
              "58384                        4065.0                       5066.0   \n",
              "58385                        1471.0                       1932.0   \n",
              "\n",
              "       MMRCurrentRetailAveragePrice  MMRCurrentRetailCleanPrice  VNZIP1  VNST  \\\n",
              "0                            9605.0                     10650.0   33619    FL   \n",
              "1                            6418.0                      7478.0   32124    FL   \n",
              "2                           10721.0                     11350.0   74135    OK   \n",
              "3                            5702.0                      7691.0   85018    AZ   \n",
              "4                            6300.0                      7856.0   75236    TX   \n",
              "...                             ...                         ...     ...   ...   \n",
              "58381                       11325.0                     12762.0   95673    CA   \n",
              "58382                        8401.0                      9193.0   95673    CA   \n",
              "58383                       10120.0                     11695.0   21014    MD   \n",
              "58384                        7179.0                      8436.0   75236    TX   \n",
              "58385                        2089.0                      2587.0   29532    SC   \n",
              "\n",
              "       WarrantyCost  VehBCost  IsBadBuy  \n",
              "0               533    6100.0         1  \n",
              "1              1630    4000.0         0  \n",
              "2               693    7500.0         0  \n",
              "3              1633    4725.0         0  \n",
              "4              1623    5670.0         0  \n",
              "...             ...       ...       ...  \n",
              "58381          1974    7205.0         0  \n",
              "58382          1155    4690.0         0  \n",
              "58383          1703    7000.0         0  \n",
              "58384           594    5525.0         1  \n",
              "58385          1455    3240.0         1  \n",
              "\n",
              "[58386 rows x 25 columns]"
            ],
            "text/html": [
              "\n",
              "  <div id=\"df-84324809-d557-4a0a-a101-20ab88ba8145\">\n",
              "    <div class=\"colab-df-container\">\n",
              "      <div>\n",
              "<style scoped>\n",
              "    .dataframe tbody tr th:only-of-type {\n",
              "        vertical-align: middle;\n",
              "    }\n",
              "\n",
              "    .dataframe tbody tr th {\n",
              "        vertical-align: top;\n",
              "    }\n",
              "\n",
              "    .dataframe thead th {\n",
              "        text-align: right;\n",
              "    }\n",
              "</style>\n",
              "<table border=\"1\" class=\"dataframe\">\n",
              "  <thead>\n",
              "    <tr style=\"text-align: right;\">\n",
              "      <th></th>\n",
              "      <th>RefId</th>\n",
              "      <th>PurchDate</th>\n",
              "      <th>Auction</th>\n",
              "      <th>VehYear</th>\n",
              "      <th>VehicleAge</th>\n",
              "      <th>Make</th>\n",
              "      <th>Color</th>\n",
              "      <th>Transmission</th>\n",
              "      <th>WheelTypeID</th>\n",
              "      <th>WheelType</th>\n",
              "      <th>...</th>\n",
              "      <th>MMRAcquisitonRetailCleanPrice</th>\n",
              "      <th>MMRCurrentAuctionAveragePrice</th>\n",
              "      <th>MMRCurrentAuctionCleanPrice</th>\n",
              "      <th>MMRCurrentRetailAveragePrice</th>\n",
              "      <th>MMRCurrentRetailCleanPrice</th>\n",
              "      <th>VNZIP1</th>\n",
              "      <th>VNST</th>\n",
              "      <th>WarrantyCost</th>\n",
              "      <th>VehBCost</th>\n",
              "      <th>IsBadBuy</th>\n",
              "    </tr>\n",
              "  </thead>\n",
              "  <tbody>\n",
              "    <tr>\n",
              "      <th>0</th>\n",
              "      <td>326</td>\n",
              "      <td>10/25/2010</td>\n",
              "      <td>ADESA</td>\n",
              "      <td>2008</td>\n",
              "      <td>2</td>\n",
              "      <td>KIA</td>\n",
              "      <td>BLUE</td>\n",
              "      <td>AUTO</td>\n",
              "      <td>2.0</td>\n",
              "      <td>Covers</td>\n",
              "      <td>...</td>\n",
              "      <td>10805.0</td>\n",
              "      <td>6628.0</td>\n",
              "      <td>7535.0</td>\n",
              "      <td>9605.0</td>\n",
              "      <td>10650.0</td>\n",
              "      <td>33619</td>\n",
              "      <td>FL</td>\n",
              "      <td>533</td>\n",
              "      <td>6100.0</td>\n",
              "      <td>1</td>\n",
              "    </tr>\n",
              "    <tr>\n",
              "      <th>1</th>\n",
              "      <td>42991</td>\n",
              "      <td>5/27/2009</td>\n",
              "      <td>MANHEIM</td>\n",
              "      <td>2006</td>\n",
              "      <td>3</td>\n",
              "      <td>DODGE</td>\n",
              "      <td>SILVER</td>\n",
              "      <td>AUTO</td>\n",
              "      <td>2.0</td>\n",
              "      <td>Covers</td>\n",
              "      <td>...</td>\n",
              "      <td>7478.0</td>\n",
              "      <td>5480.0</td>\n",
              "      <td>6461.0</td>\n",
              "      <td>6418.0</td>\n",
              "      <td>7478.0</td>\n",
              "      <td>32124</td>\n",
              "      <td>FL</td>\n",
              "      <td>1630</td>\n",
              "      <td>4000.0</td>\n",
              "      <td>0</td>\n",
              "    </tr>\n",
              "    <tr>\n",
              "      <th>2</th>\n",
              "      <td>55273</td>\n",
              "      <td>3/18/2010</td>\n",
              "      <td>OTHER</td>\n",
              "      <td>2008</td>\n",
              "      <td>2</td>\n",
              "      <td>DODGE</td>\n",
              "      <td>BLACK</td>\n",
              "      <td>AUTO</td>\n",
              "      <td>2.0</td>\n",
              "      <td>Covers</td>\n",
              "      <td>...</td>\n",
              "      <td>11652.0</td>\n",
              "      <td>7497.0</td>\n",
              "      <td>8102.0</td>\n",
              "      <td>10721.0</td>\n",
              "      <td>11350.0</td>\n",
              "      <td>74135</td>\n",
              "      <td>OK</td>\n",
              "      <td>693</td>\n",
              "      <td>7500.0</td>\n",
              "      <td>0</td>\n",
              "    </tr>\n",
              "    <tr>\n",
              "      <th>3</th>\n",
              "      <td>29058</td>\n",
              "      <td>06/08/2009</td>\n",
              "      <td>OTHER</td>\n",
              "      <td>2005</td>\n",
              "      <td>4</td>\n",
              "      <td>FORD</td>\n",
              "      <td>BROWN</td>\n",
              "      <td>AUTO</td>\n",
              "      <td>2.0</td>\n",
              "      <td>Covers</td>\n",
              "      <td>...</td>\n",
              "      <td>7691.0</td>\n",
              "      <td>4817.0</td>\n",
              "      <td>6658.0</td>\n",
              "      <td>5702.0</td>\n",
              "      <td>7691.0</td>\n",
              "      <td>85018</td>\n",
              "      <td>AZ</td>\n",
              "      <td>1633</td>\n",
              "      <td>4725.0</td>\n",
              "      <td>0</td>\n",
              "    </tr>\n",
              "    <tr>\n",
              "      <th>4</th>\n",
              "      <td>34991</td>\n",
              "      <td>03/04/2009</td>\n",
              "      <td>MANHEIM</td>\n",
              "      <td>2005</td>\n",
              "      <td>4</td>\n",
              "      <td>CHRYSLER</td>\n",
              "      <td>BLUE</td>\n",
              "      <td>AUTO</td>\n",
              "      <td>1.0</td>\n",
              "      <td>Alloy</td>\n",
              "      <td>...</td>\n",
              "      <td>7664.0</td>\n",
              "      <td>5370.0</td>\n",
              "      <td>6811.0</td>\n",
              "      <td>6300.0</td>\n",
              "      <td>7856.0</td>\n",
              "      <td>75236</td>\n",
              "      <td>TX</td>\n",
              "      <td>1623</td>\n",
              "      <td>5670.0</td>\n",
              "      <td>0</td>\n",
              "    </tr>\n",
              "    <tr>\n",
              "      <th>...</th>\n",
              "      <td>...</td>\n",
              "      <td>...</td>\n",
              "      <td>...</td>\n",
              "      <td>...</td>\n",
              "      <td>...</td>\n",
              "      <td>...</td>\n",
              "      <td>...</td>\n",
              "      <td>...</td>\n",
              "      <td>...</td>\n",
              "      <td>...</td>\n",
              "      <td>...</td>\n",
              "      <td>...</td>\n",
              "      <td>...</td>\n",
              "      <td>...</td>\n",
              "      <td>...</td>\n",
              "      <td>...</td>\n",
              "      <td>...</td>\n",
              "      <td>...</td>\n",
              "      <td>...</td>\n",
              "      <td>...</td>\n",
              "      <td>...</td>\n",
              "    </tr>\n",
              "    <tr>\n",
              "      <th>58381</th>\n",
              "      <td>20065</td>\n",
              "      <td>03/09/2010</td>\n",
              "      <td>OTHER</td>\n",
              "      <td>2007</td>\n",
              "      <td>3</td>\n",
              "      <td>CHEVROLET</td>\n",
              "      <td>RED</td>\n",
              "      <td>AUTO</td>\n",
              "      <td>1.0</td>\n",
              "      <td>Alloy</td>\n",
              "      <td>...</td>\n",
              "      <td>13762.0</td>\n",
              "      <td>8043.0</td>\n",
              "      <td>9560.0</td>\n",
              "      <td>11325.0</td>\n",
              "      <td>12762.0</td>\n",
              "      <td>95673</td>\n",
              "      <td>CA</td>\n",
              "      <td>1974</td>\n",
              "      <td>7205.0</td>\n",
              "      <td>0</td>\n",
              "    </tr>\n",
              "    <tr>\n",
              "      <th>58382</th>\n",
              "      <td>12550</td>\n",
              "      <td>1/26/2010</td>\n",
              "      <td>OTHER</td>\n",
              "      <td>2006</td>\n",
              "      <td>4</td>\n",
              "      <td>FORD</td>\n",
              "      <td>GOLD</td>\n",
              "      <td>AUTO</td>\n",
              "      <td>1.0</td>\n",
              "      <td>Alloy</td>\n",
              "      <td>...</td>\n",
              "      <td>9145.0</td>\n",
              "      <td>4661.0</td>\n",
              "      <td>5634.0</td>\n",
              "      <td>8401.0</td>\n",
              "      <td>9193.0</td>\n",
              "      <td>95673</td>\n",
              "      <td>CA</td>\n",
              "      <td>1155</td>\n",
              "      <td>4690.0</td>\n",
              "      <td>0</td>\n",
              "    </tr>\n",
              "    <tr>\n",
              "      <th>58383</th>\n",
              "      <td>15626</td>\n",
              "      <td>10/28/2010</td>\n",
              "      <td>OTHER</td>\n",
              "      <td>2007</td>\n",
              "      <td>3</td>\n",
              "      <td>CHEVROLET</td>\n",
              "      <td>SILVER</td>\n",
              "      <td>AUTO</td>\n",
              "      <td>2.0</td>\n",
              "      <td>Covers</td>\n",
              "      <td>...</td>\n",
              "      <td>12303.0</td>\n",
              "      <td>7421.0</td>\n",
              "      <td>8642.0</td>\n",
              "      <td>10120.0</td>\n",
              "      <td>11695.0</td>\n",
              "      <td>21014</td>\n",
              "      <td>MD</td>\n",
              "      <td>1703</td>\n",
              "      <td>7000.0</td>\n",
              "      <td>0</td>\n",
              "    </tr>\n",
              "    <tr>\n",
              "      <th>58384</th>\n",
              "      <td>21224</td>\n",
              "      <td>12/01/2010</td>\n",
              "      <td>MANHEIM</td>\n",
              "      <td>2005</td>\n",
              "      <td>5</td>\n",
              "      <td>NISSAN</td>\n",
              "      <td>GOLD</td>\n",
              "      <td>AUTO</td>\n",
              "      <td>1.0</td>\n",
              "      <td>Alloy</td>\n",
              "      <td>...</td>\n",
              "      <td>8696.0</td>\n",
              "      <td>4065.0</td>\n",
              "      <td>5066.0</td>\n",
              "      <td>7179.0</td>\n",
              "      <td>8436.0</td>\n",
              "      <td>75236</td>\n",
              "      <td>TX</td>\n",
              "      <td>594</td>\n",
              "      <td>5525.0</td>\n",
              "      <td>1</td>\n",
              "    </tr>\n",
              "    <tr>\n",
              "      <th>58385</th>\n",
              "      <td>40898</td>\n",
              "      <td>10/08/2009</td>\n",
              "      <td>MANHEIM</td>\n",
              "      <td>2001</td>\n",
              "      <td>8</td>\n",
              "      <td>CHEVROLET</td>\n",
              "      <td>BLACK</td>\n",
              "      <td>AUTO</td>\n",
              "      <td>2.0</td>\n",
              "      <td>Covers</td>\n",
              "      <td>...</td>\n",
              "      <td>2461.0</td>\n",
              "      <td>1471.0</td>\n",
              "      <td>1932.0</td>\n",
              "      <td>2089.0</td>\n",
              "      <td>2587.0</td>\n",
              "      <td>29532</td>\n",
              "      <td>SC</td>\n",
              "      <td>1455</td>\n",
              "      <td>3240.0</td>\n",
              "      <td>1</td>\n",
              "    </tr>\n",
              "  </tbody>\n",
              "</table>\n",
              "<p>58386 rows × 25 columns</p>\n",
              "</div>\n",
              "      <button class=\"colab-df-convert\" onclick=\"convertToInteractive('df-84324809-d557-4a0a-a101-20ab88ba8145')\"\n",
              "              title=\"Convert this dataframe to an interactive table.\"\n",
              "              style=\"display:none;\">\n",
              "        \n",
              "  <svg xmlns=\"http://www.w3.org/2000/svg\" height=\"24px\"viewBox=\"0 0 24 24\"\n",
              "       width=\"24px\">\n",
              "    <path d=\"M0 0h24v24H0V0z\" fill=\"none\"/>\n",
              "    <path d=\"M18.56 5.44l.94 2.06.94-2.06 2.06-.94-2.06-.94-.94-2.06-.94 2.06-2.06.94zm-11 1L8.5 8.5l.94-2.06 2.06-.94-2.06-.94L8.5 2.5l-.94 2.06-2.06.94zm10 10l.94 2.06.94-2.06 2.06-.94-2.06-.94-.94-2.06-.94 2.06-2.06.94z\"/><path d=\"M17.41 7.96l-1.37-1.37c-.4-.4-.92-.59-1.43-.59-.52 0-1.04.2-1.43.59L10.3 9.45l-7.72 7.72c-.78.78-.78 2.05 0 2.83L4 21.41c.39.39.9.59 1.41.59.51 0 1.02-.2 1.41-.59l7.78-7.78 2.81-2.81c.8-.78.8-2.07 0-2.86zM5.41 20L4 18.59l7.72-7.72 1.47 1.35L5.41 20z\"/>\n",
              "  </svg>\n",
              "      </button>\n",
              "      \n",
              "  <style>\n",
              "    .colab-df-container {\n",
              "      display:flex;\n",
              "      flex-wrap:wrap;\n",
              "      gap: 12px;\n",
              "    }\n",
              "\n",
              "    .colab-df-convert {\n",
              "      background-color: #E8F0FE;\n",
              "      border: none;\n",
              "      border-radius: 50%;\n",
              "      cursor: pointer;\n",
              "      display: none;\n",
              "      fill: #1967D2;\n",
              "      height: 32px;\n",
              "      padding: 0 0 0 0;\n",
              "      width: 32px;\n",
              "    }\n",
              "\n",
              "    .colab-df-convert:hover {\n",
              "      background-color: #E2EBFA;\n",
              "      box-shadow: 0px 1px 2px rgba(60, 64, 67, 0.3), 0px 1px 3px 1px rgba(60, 64, 67, 0.15);\n",
              "      fill: #174EA6;\n",
              "    }\n",
              "\n",
              "    [theme=dark] .colab-df-convert {\n",
              "      background-color: #3B4455;\n",
              "      fill: #D2E3FC;\n",
              "    }\n",
              "\n",
              "    [theme=dark] .colab-df-convert:hover {\n",
              "      background-color: #434B5C;\n",
              "      box-shadow: 0px 1px 3px 1px rgba(0, 0, 0, 0.15);\n",
              "      filter: drop-shadow(0px 1px 2px rgba(0, 0, 0, 0.3));\n",
              "      fill: #FFFFFF;\n",
              "    }\n",
              "  </style>\n",
              "\n",
              "      <script>\n",
              "        const buttonEl =\n",
              "          document.querySelector('#df-84324809-d557-4a0a-a101-20ab88ba8145 button.colab-df-convert');\n",
              "        buttonEl.style.display =\n",
              "          google.colab.kernel.accessAllowed ? 'block' : 'none';\n",
              "\n",
              "        async function convertToInteractive(key) {\n",
              "          const element = document.querySelector('#df-84324809-d557-4a0a-a101-20ab88ba8145');\n",
              "          const dataTable =\n",
              "            await google.colab.kernel.invokeFunction('convertToInteractive',\n",
              "                                                     [key], {});\n",
              "          if (!dataTable) return;\n",
              "\n",
              "          const docLinkHtml = 'Like what you see? Visit the ' +\n",
              "            '<a target=\"_blank\" href=https://colab.research.google.com/notebooks/data_table.ipynb>data table notebook</a>'\n",
              "            + ' to learn more about interactive tables.';\n",
              "          element.innerHTML = '';\n",
              "          dataTable['output_type'] = 'display_data';\n",
              "          await google.colab.output.renderOutput(dataTable, element);\n",
              "          const docLink = document.createElement('div');\n",
              "          docLink.innerHTML = docLinkHtml;\n",
              "          element.appendChild(docLink);\n",
              "        }\n",
              "      </script>\n",
              "    </div>\n",
              "  </div>\n",
              "  "
            ]
          },
          "metadata": {},
          "execution_count": 9
        }
      ]
    },
    {
      "cell_type": "markdown",
      "source": [
        "### **b. Quantify missing values**"
      ],
      "metadata": {
        "id": "GqUieg0B6MRW"
      },
      "id": "GqUieg0B6MRW"
    },
    {
      "cell_type": "code",
      "source": [
        "import missingno as msno \n",
        "msno.matrix(data)\n",
        "plt.show()"
      ],
      "metadata": {
        "colab": {
          "base_uri": "https://localhost:8080/",
          "height": 830
        },
        "id": "L02g61ZN6Rkj",
        "outputId": "97de43a1-2b17-4792-d4c5-207358f4d1ab"
      },
      "id": "L02g61ZN6Rkj",
      "execution_count": 15,
      "outputs": [
        {
          "output_type": "display_data",
          "data": {
            "text/plain": [
              "<Figure size 1800x720 with 2 Axes>"
            ],
            "image/png": "[encoded data removed]"
          },
          "metadata": {
            "needs_background": "light"
          }
        }
      ]
    },
    {
      "cell_type": "code",
      "source": [
        "# Missingness barplot\n",
        "msno.bar(data)"
      ],
      "metadata": {
        "colab": {
          "base_uri": "https://localhost:8080/",
          "height": 655
        },
        "id": "MOaSYEFH6xAF",
        "outputId": "ffd55c91-b2ef-4aaf-850f-e64e7f0ed22e"
      },
      "id": "MOaSYEFH6xAF",
      "execution_count": 17,
      "outputs": [
        {
          "output_type": "execute_result",
          "data": {
            "text/plain": [
              "<matplotlib.axes._subplots.AxesSubplot at 0x7f07e4604d90>"
            ]
          },
          "metadata": {},
          "execution_count": 17
        },
        {
          "output_type": "display_data",
          "data": {
            "text/plain": [
              "<Figure size 1800x720 with 3 Axes>"
            ],
            "image/png": "[encoded data removed]"
          },
          "metadata": {
            "needs_background": "light"
          }
        }
      ]
    },
    {
      "cell_type": "code",
      "source": [
        "data.isna().sum()"
      ],
      "metadata": {
        "colab": {
          "base_uri": "https://localhost:8080/"
        },
        "id": "TiGlFZcgh3D7",
        "outputId": "4c8169c4-056d-4881-ff59-1938392f26d3"
      },
      "id": "TiGlFZcgh3D7",
      "execution_count": 18,
      "outputs": [
        {
          "output_type": "execute_result",
          "data": {
            "text/plain": [
              "RefId                                   0\n",
              "PurchDate                               0\n",
              "Auction                                 0\n",
              "VehYear                                 0\n",
              "VehicleAge                              0\n",
              "Make                                    0\n",
              "Color                                   7\n",
              "Transmission                            8\n",
              "WheelTypeID                          2573\n",
              "WheelType                            2577\n",
              "VehOdo                                  0\n",
              "Size                                    4\n",
              "MMRAcquisitionAuctionAveragePrice      13\n",
              "MMRAcquisitionAuctionCleanPrice        13\n",
              "MMRAcquisitionRetailAveragePrice       13\n",
              "MMRAcquisitonRetailCleanPrice          13\n",
              "MMRCurrentAuctionAveragePrice         245\n",
              "MMRCurrentAuctionCleanPrice           245\n",
              "MMRCurrentRetailAveragePrice          245\n",
              "MMRCurrentRetailCleanPrice            245\n",
              "VNZIP1                                  0\n",
              "VNST                                    0\n",
              "WarrantyCost                            0\n",
              "VehBCost                                0\n",
              "IsBadBuy                                0\n",
              "dtype: int64"
            ]
          },
          "metadata": {},
          "execution_count": 18
        }
      ]
    },
    {
      "cell_type": "code",
      "source": [
        "data.info()"
      ],
      "metadata": {
        "colab": {
          "base_uri": "https://localhost:8080/"
        },
        "id": "-NiRAwyJieEk",
        "outputId": "33a98aa3-bf4b-4741-ee46-1efa6c0416c4"
      },
      "id": "-NiRAwyJieEk",
      "execution_count": 19,
      "outputs": [
        {
          "output_type": "stream",
          "name": "stdout",
          "text": [
            "<class 'pandas.core.frame.DataFrame'>\n",
            "RangeIndex: 58386 entries, 0 to 58385\n",
            "Data columns (total 25 columns):\n",
            " #   Column                             Non-Null Count  Dtype  \n",
            "---  ------                             --------------  -----  \n",
            " 0   RefId                              58386 non-null  int64  \n",
            " 1   PurchDate                          58386 non-null  object \n",
            " 2   Auction                            58386 non-null  object \n",
            " 3   VehYear                            58386 non-null  int64  \n",
            " 4   VehicleAge                         58386 non-null  int64  \n",
            " 5   Make                               58386 non-null  object \n",
            " 6   Color                              58379 non-null  object \n",
            " 7   Transmission                       58378 non-null  object \n",
            " 8   WheelTypeID                        55813 non-null  float64\n",
            " 9   WheelType                          55809 non-null  object \n",
            " 10  VehOdo                             58386 non-null  int64  \n",
            " 11  Size                               58382 non-null  object \n",
            " 12  MMRAcquisitionAuctionAveragePrice  58373 non-null  float64\n",
            " 13  MMRAcquisitionAuctionCleanPrice    58373 non-null  float64\n",
            " 14  MMRAcquisitionRetailAveragePrice   58373 non-null  float64\n",
            " 15  MMRAcquisitonRetailCleanPrice      58373 non-null  float64\n",
            " 16  MMRCurrentAuctionAveragePrice      58141 non-null  float64\n",
            " 17  MMRCurrentAuctionCleanPrice        58141 non-null  float64\n",
            " 18  MMRCurrentRetailAveragePrice       58141 non-null  float64\n",
            " 19  MMRCurrentRetailCleanPrice         58141 non-null  float64\n",
            " 20  VNZIP1                             58386 non-null  int64  \n",
            " 21  VNST                               58386 non-null  object \n",
            " 22  WarrantyCost                       58386 non-null  int64  \n",
            " 23  VehBCost                           58386 non-null  float64\n",
            " 24  IsBadBuy                           58386 non-null  int64  \n",
            "dtypes: float64(10), int64(7), object(8)\n",
            "memory usage: 11.1+ MB\n"
          ]
        }
      ]
    },
    {
      "cell_type": "code",
      "source": [
        "data['MMRCurrentRetailCleanPrice'] = data['MMRCurrentRetailCleanPrice'].fillna(data['MMRCurrentRetailCleanPrice'].mean())\n",
        "data['MMRCurrentRetailAveragePrice'] = data['MMRCurrentRetailAveragePrice'].fillna(data['MMRCurrentRetailAveragePrice'].mean())\n",
        "data['MMRCurrentAuctionCleanPrice'] = data['MMRCurrentAuctionCleanPrice'].fillna(data['MMRCurrentAuctionCleanPrice'].mean())\n",
        "data['MMRCurrentAuctionAveragePrice'] = data['MMRCurrentAuctionAveragePrice'].fillna(data['MMRCurrentAuctionAveragePrice'].mean())\n",
        "data['MMRAcquisitonRetailCleanPrice'] = data['MMRAcquisitonRetailCleanPrice'].fillna(data['MMRAcquisitonRetailCleanPrice'].mean())\n",
        "data['MMRAcquisitionRetailAveragePrice'] = data['MMRAcquisitionRetailAveragePrice'].fillna(data['MMRAcquisitionRetailAveragePrice'].mean())\n",
        "data['MMRAcquisitionAuctionCleanPrice'] = data['MMRAcquisitionAuctionCleanPrice'].fillna(data['MMRAcquisitionAuctionCleanPrice'].mean())\n",
        "data['MMRAcquisitionAuctionAveragePrice'] = data['MMRAcquisitionAuctionAveragePrice'].fillna(data['MMRAcquisitionAuctionAveragePrice'].mean())\n",
        "data['WheelTypeID'] = data['WheelTypeID'].fillna(data['WheelTypeID'].mean())\n",
        "\n"
      ],
      "metadata": {
        "id": "YhovvXmWlI8U"
      },
      "id": "YhovvXmWlI8U",
      "execution_count": 20,
      "outputs": []
    },
    {
      "cell_type": "code",
      "source": [
        "data.isna().sum()"
      ],
      "metadata": {
        "colab": {
          "base_uri": "https://localhost:8080/"
        },
        "id": "Ebma08e77Bvf",
        "outputId": "13c91e41-1553-4e1e-d814-2e8bae74bf71"
      },
      "id": "Ebma08e77Bvf",
      "execution_count": 21,
      "outputs": [
        {
          "output_type": "execute_result",
          "data": {
            "text/plain": [
              "RefId                                   0\n",
              "PurchDate                               0\n",
              "Auction                                 0\n",
              "VehYear                                 0\n",
              "VehicleAge                              0\n",
              "Make                                    0\n",
              "Color                                   7\n",
              "Transmission                            8\n",
              "WheelTypeID                             0\n",
              "WheelType                            2577\n",
              "VehOdo                                  0\n",
              "Size                                    4\n",
              "MMRAcquisitionAuctionAveragePrice       0\n",
              "MMRAcquisitionAuctionCleanPrice         0\n",
              "MMRAcquisitionRetailAveragePrice        0\n",
              "MMRAcquisitonRetailCleanPrice           0\n",
              "MMRCurrentAuctionAveragePrice           0\n",
              "MMRCurrentAuctionCleanPrice             0\n",
              "MMRCurrentRetailAveragePrice            0\n",
              "MMRCurrentRetailCleanPrice              0\n",
              "VNZIP1                                  0\n",
              "VNST                                    0\n",
              "WarrantyCost                            0\n",
              "VehBCost                                0\n",
              "IsBadBuy                                0\n",
              "dtype: int64"
            ]
          },
          "metadata": {},
          "execution_count": 21
        }
      ]
    },
    {
      "cell_type": "markdown",
      "source": [
        "### **c. Perform mean value imputation for all numerical features and frequent occurring value for categorical features.**"
      ],
      "metadata": {
        "id": "-OhN887R8Nbg"
      },
      "id": "-OhN887R8Nbg"
    },
    {
      "cell_type": "code",
      "source": [
        "cols = [\"Color\", \"Size\",\"WheelType\",\"Transmission\"]\n",
        "data[cols]=data[cols].fillna(data.mode().iloc[0])"
      ],
      "metadata": {
        "id": "Ksa8tqdbnwL-"
      },
      "id": "Ksa8tqdbnwL-",
      "execution_count": 22,
      "outputs": []
    },
    {
      "cell_type": "code",
      "source": [
        "data.isna().sum()"
      ],
      "metadata": {
        "colab": {
          "base_uri": "https://localhost:8080/"
        },
        "id": "PGS2d9DToR9E",
        "outputId": "92bf5da7-a2f5-4b6f-9b39-02e123afcb69"
      },
      "id": "PGS2d9DToR9E",
      "execution_count": 23,
      "outputs": [
        {
          "output_type": "execute_result",
          "data": {
            "text/plain": [
              "RefId                                0\n",
              "PurchDate                            0\n",
              "Auction                              0\n",
              "VehYear                              0\n",
              "VehicleAge                           0\n",
              "Make                                 0\n",
              "Color                                0\n",
              "Transmission                         0\n",
              "WheelTypeID                          0\n",
              "WheelType                            0\n",
              "VehOdo                               0\n",
              "Size                                 0\n",
              "MMRAcquisitionAuctionAveragePrice    0\n",
              "MMRAcquisitionAuctionCleanPrice      0\n",
              "MMRAcquisitionRetailAveragePrice     0\n",
              "MMRAcquisitonRetailCleanPrice        0\n",
              "MMRCurrentAuctionAveragePrice        0\n",
              "MMRCurrentAuctionCleanPrice          0\n",
              "MMRCurrentRetailAveragePrice         0\n",
              "MMRCurrentRetailCleanPrice           0\n",
              "VNZIP1                               0\n",
              "VNST                                 0\n",
              "WarrantyCost                         0\n",
              "VehBCost                             0\n",
              "IsBadBuy                             0\n",
              "dtype: int64"
            ]
          },
          "metadata": {},
          "execution_count": 23
        }
      ]
    },
    {
      "cell_type": "markdown",
      "source": [
        "## **3. Feature Engineering**"
      ],
      "metadata": {
        "id": "ItzgRfVR7JQn"
      },
      "id": "ItzgRfVR7JQn"
    },
    {
      "cell_type": "markdown",
      "source": [
        "### **a. Remove unnecessary attributes**"
      ],
      "metadata": {
        "id": "jfG3DZ1X7SkK"
      },
      "id": "jfG3DZ1X7SkK"
    },
    {
      "cell_type": "code",
      "source": [
        "data.drop([\"RefId\",\"WheelTypeID\",\"VehYear\",\"VNZIP1\"], axis=1, inplace=True)\n",
        "data"
      ],
      "metadata": {
        "colab": {
          "base_uri": "https://localhost:8080/",
          "height": 487
        },
        "id": "b0UeZcS-onxr",
        "outputId": "741ac3d0-916e-4fb7-bb2e-5676d692a782"
      },
      "id": "b0UeZcS-onxr",
      "execution_count": 24,
      "outputs": [
        {
          "output_type": "execute_result",
          "data": {
            "text/plain": [
              "        PurchDate  Auction  VehicleAge       Make   Color Transmission  \\\n",
              "0      10/25/2010    ADESA           2        KIA    BLUE         AUTO   \n",
              "1       5/27/2009  MANHEIM           3      DODGE  SILVER         AUTO   \n",
              "2       3/18/2010    OTHER           2      DODGE   BLACK         AUTO   \n",
              "3      06/08/2009    OTHER           4       FORD   BROWN         AUTO   \n",
              "4      03/04/2009  MANHEIM           4   CHRYSLER    BLUE         AUTO   \n",
              "...           ...      ...         ...        ...     ...          ...   \n",
              "58381  03/09/2010    OTHER           3  CHEVROLET     RED         AUTO   \n",
              "58382   1/26/2010    OTHER           4       FORD    GOLD         AUTO   \n",
              "58383  10/28/2010    OTHER           3  CHEVROLET  SILVER         AUTO   \n",
              "58384  12/01/2010  MANHEIM           5     NISSAN    GOLD         AUTO   \n",
              "58385  10/08/2009  MANHEIM           8  CHEVROLET   BLACK         AUTO   \n",
              "\n",
              "      WheelType  VehOdo     Size  MMRAcquisitionAuctionAveragePrice  ...  \\\n",
              "0        Covers   61184   MEDIUM                             6796.0  ...   \n",
              "1        Covers   92383   MEDIUM                             5480.0  ...   \n",
              "2        Covers   45965   MEDIUM                             8067.0  ...   \n",
              "3        Covers   80169      VAN                             4817.0  ...   \n",
              "4         Alloy   77372      VAN                             5430.0  ...   \n",
              "...         ...     ...      ...                                ...  ...   \n",
              "58381     Alloy   78226    LARGE                             8081.0  ...   \n",
              "58382     Alloy   71169  COMPACT                             4411.0  ...   \n",
              "58383    Covers   69795    LARGE                             7575.0  ...   \n",
              "58384     Alloy   85326  COMPACT                             4278.0  ...   \n",
              "58385    Covers   73317  COMPACT                             1252.0  ...   \n",
              "\n",
              "       MMRAcquisitionRetailAveragePrice  MMRAcquisitonRetailCleanPrice  \\\n",
              "0                               10140.0                        10805.0   \n",
              "1                                6418.0                         7478.0   \n",
              "2                               11073.0                        11652.0   \n",
              "3                                5702.0                         7691.0   \n",
              "4                                6364.0                         7664.0   \n",
              "...                                 ...                            ...   \n",
              "58381                           11947.0                        13762.0   \n",
              "58382                            8377.0                         9145.0   \n",
              "58383                           11092.0                        12303.0   \n",
              "58384                            7790.0                         8696.0   \n",
              "58385                            1852.0                         2461.0   \n",
              "\n",
              "       MMRCurrentAuctionAveragePrice  MMRCurrentAuctionCleanPrice  \\\n",
              "0                             6628.0                       7535.0   \n",
              "1                             5480.0                       6461.0   \n",
              "2                             7497.0                       8102.0   \n",
              "3                             4817.0                       6658.0   \n",
              "4                             5370.0                       6811.0   \n",
              "...                              ...                          ...   \n",
              "58381                         8043.0                       9560.0   \n",
              "58382                         4661.0                       5634.0   \n",
              "58383                         7421.0                       8642.0   \n",
              "58384                         4065.0                       5066.0   \n",
              "58385                         1471.0                       1932.0   \n",
              "\n",
              "       MMRCurrentRetailAveragePrice  MMRCurrentRetailCleanPrice  VNST  \\\n",
              "0                            9605.0                     10650.0    FL   \n",
              "1                            6418.0                      7478.0    FL   \n",
              "2                           10721.0                     11350.0    OK   \n",
              "3                            5702.0                      7691.0    AZ   \n",
              "4                            6300.0                      7856.0    TX   \n",
              "...                             ...                         ...   ...   \n",
              "58381                       11325.0                     12762.0    CA   \n",
              "58382                        8401.0                      9193.0    CA   \n",
              "58383                       10120.0                     11695.0    MD   \n",
              "58384                        7179.0                      8436.0    TX   \n",
              "58385                        2089.0                      2587.0    SC   \n",
              "\n",
              "      WarrantyCost  VehBCost  IsBadBuy  \n",
              "0              533    6100.0         1  \n",
              "1             1630    4000.0         0  \n",
              "2              693    7500.0         0  \n",
              "3             1633    4725.0         0  \n",
              "4             1623    5670.0         0  \n",
              "...            ...       ...       ...  \n",
              "58381         1974    7205.0         0  \n",
              "58382         1155    4690.0         0  \n",
              "58383         1703    7000.0         0  \n",
              "58384          594    5525.0         1  \n",
              "58385         1455    3240.0         1  \n",
              "\n",
              "[58386 rows x 21 columns]"
            ],
            "text/html": [
              "\n",
              "  <div id=\"df-18afd4cc-584b-484e-be47-814b35b6537b\">\n",
              "    <div class=\"colab-df-container\">\n",
              "      <div>\n",
              "<style scoped>\n",
              "    .dataframe tbody tr th:only-of-type {\n",
              "        vertical-align: middle;\n",
              "    }\n",
              "\n",
              "    .dataframe tbody tr th {\n",
              "        vertical-align: top;\n",
              "    }\n",
              "\n",
              "    .dataframe thead th {\n",
              "        text-align: right;\n",
              "    }\n",
              "</style>\n",
              "<table border=\"1\" class=\"dataframe\">\n",
              "  <thead>\n",
              "    <tr style=\"text-align: right;\">\n",
              "      <th></th>\n",
              "      <th>PurchDate</th>\n",
              "      <th>Auction</th>\n",
              "      <th>VehicleAge</th>\n",
              "      <th>Make</th>\n",
              "      <th>Color</th>\n",
              "      <th>Transmission</th>\n",
              "      <th>WheelType</th>\n",
              "      <th>VehOdo</th>\n",
              "      <th>Size</th>\n",
              "      <th>MMRAcquisitionAuctionAveragePrice</th>\n",
              "      <th>...</th>\n",
              "      <th>MMRAcquisitionRetailAveragePrice</th>\n",
              "      <th>MMRAcquisitonRetailCleanPrice</th>\n",
              "      <th>MMRCurrentAuctionAveragePrice</th>\n",
              "      <th>MMRCurrentAuctionCleanPrice</th>\n",
              "      <th>MMRCurrentRetailAveragePrice</th>\n",
              "      <th>MMRCurrentRetailCleanPrice</th>\n",
              "      <th>VNST</th>\n",
              "      <th>WarrantyCost</th>\n",
              "      <th>VehBCost</th>\n",
              "      <th>IsBadBuy</th>\n",
              "    </tr>\n",
              "  </thead>\n",
              "  <tbody>\n",
              "    <tr>\n",
              "      <th>0</th>\n",
              "      <td>10/25/2010</td>\n",
              "      <td>ADESA</td>\n",
              "      <td>2</td>\n",
              "      <td>KIA</td>\n",
              "      <td>BLUE</td>\n",
              "      <td>AUTO</td>\n",
              "      <td>Covers</td>\n",
              "      <td>61184</td>\n",
              "      <td>MEDIUM</td>\n",
              "      <td>6796.0</td>\n",
              "      <td>...</td>\n",
              "      <td>10140.0</td>\n",
              "      <td>10805.0</td>\n",
              "      <td>6628.0</td>\n",
              "      <td>7535.0</td>\n",
              "      <td>9605.0</td>\n",
              "      <td>10650.0</td>\n",
              "      <td>FL</td>\n",
              "      <td>533</td>\n",
              "      <td>6100.0</td>\n",
              "      <td>1</td>\n",
              "    </tr>\n",
              "    <tr>\n",
              "      <th>1</th>\n",
              "      <td>5/27/2009</td>\n",
              "      <td>MANHEIM</td>\n",
              "      <td>3</td>\n",
              "      <td>DODGE</td>\n",
              "      <td>SILVER</td>\n",
              "      <td>AUTO</td>\n",
              "      <td>Covers</td>\n",
              "      <td>92383</td>\n",
              "      <td>MEDIUM</td>\n",
              "      <td>5480.0</td>\n",
              "      <td>...</td>\n",
              "      <td>6418.0</td>\n",
              "      <td>7478.0</td>\n",
              "      <td>5480.0</td>\n",
              "      <td>6461.0</td>\n",
              "      <td>6418.0</td>\n",
              "      <td>7478.0</td>\n",
              "      <td>FL</td>\n",
              "      <td>1630</td>\n",
              "      <td>4000.0</td>\n",
              "      <td>0</td>\n",
              "    </tr>\n",
              "    <tr>\n",
              "      <th>2</th>\n",
              "      <td>3/18/2010</td>\n",
              "      <td>OTHER</td>\n",
              "      <td>2</td>\n",
              "      <td>DODGE</td>\n",
              "      <td>BLACK</td>\n",
              "      <td>AUTO</td>\n",
              "      <td>Covers</td>\n",
              "      <td>45965</td>\n",
              "      <td>MEDIUM</td>\n",
              "      <td>8067.0</td>\n",
              "      <td>...</td>\n",
              "      <td>11073.0</td>\n",
              "      <td>11652.0</td>\n",
              "      <td>7497.0</td>\n",
              "      <td>8102.0</td>\n",
              "      <td>10721.0</td>\n",
              "      <td>11350.0</td>\n",
              "      <td>OK</td>\n",
              "      <td>693</td>\n",
              "      <td>7500.0</td>\n",
              "      <td>0</td>\n",
              "    </tr>\n",
              "    <tr>\n",
              "      <th>3</th>\n",
              "      <td>06/08/2009</td>\n",
              "      <td>OTHER</td>\n",
              "      <td>4</td>\n",
              "      <td>FORD</td>\n",
              "      <td>BROWN</td>\n",
              "      <td>AUTO</td>\n",
              "      <td>Covers</td>\n",
              "      <td>80169</td>\n",
              "      <td>VAN</td>\n",
              "      <td>4817.0</td>\n",
              "      <td>...</td>\n",
              "      <td>5702.0</td>\n",
              "      <td>7691.0</td>\n",
              "      <td>4817.0</td>\n",
              "      <td>6658.0</td>\n",
              "      <td>5702.0</td>\n",
              "      <td>7691.0</td>\n",
              "      <td>AZ</td>\n",
              "      <td>1633</td>\n",
              "      <td>4725.0</td>\n",
              "      <td>0</td>\n",
              "    </tr>\n",
              "    <tr>\n",
              "      <th>4</th>\n",
              "      <td>03/04/2009</td>\n",
              "      <td>MANHEIM</td>\n",
              "      <td>4</td>\n",
              "      <td>CHRYSLER</td>\n",
              "      <td>BLUE</td>\n",
              "      <td>AUTO</td>\n",
              "      <td>Alloy</td>\n",
              "      <td>77372</td>\n",
              "      <td>VAN</td>\n",
              "      <td>5430.0</td>\n",
              "      <td>...</td>\n",
              "      <td>6364.0</td>\n",
              "      <td>7664.0</td>\n",
              "      <td>5370.0</td>\n",
              "      <td>6811.0</td>\n",
              "      <td>6300.0</td>\n",
              "      <td>7856.0</td>\n",
              "      <td>TX</td>\n",
              "      <td>1623</td>\n",
              "      <td>5670.0</td>\n",
              "      <td>0</td>\n",
              "    </tr>\n",
              "    <tr>\n",
              "      <th>...</th>\n",
              "      <td>...</td>\n",
              "      <td>...</td>\n",
              "      <td>...</td>\n",
              "      <td>...</td>\n",
              "      <td>...</td>\n",
              "      <td>...</td>\n",
              "      <td>...</td>\n",
              "      <td>...</td>\n",
              "      <td>...</td>\n",
              "      <td>...</td>\n",
              "      <td>...</td>\n",
              "      <td>...</td>\n",
              "      <td>...</td>\n",
              "      <td>...</td>\n",
              "      <td>...</td>\n",
              "      <td>...</td>\n",
              "      <td>...</td>\n",
              "      <td>...</td>\n",
              "      <td>...</td>\n",
              "      <td>...</td>\n",
              "      <td>...</td>\n",
              "    </tr>\n",
              "    <tr>\n",
              "      <th>58381</th>\n",
              "      <td>03/09/2010</td>\n",
              "      <td>OTHER</td>\n",
              "      <td>3</td>\n",
              "      <td>CHEVROLET</td>\n",
              "      <td>RED</td>\n",
              "      <td>AUTO</td>\n",
              "      <td>Alloy</td>\n",
              "      <td>78226</td>\n",
              "      <td>LARGE</td>\n",
              "      <td>8081.0</td>\n",
              "      <td>...</td>\n",
              "      <td>11947.0</td>\n",
              "      <td>13762.0</td>\n",
              "      <td>8043.0</td>\n",
              "      <td>9560.0</td>\n",
              "      <td>11325.0</td>\n",
              "      <td>12762.0</td>\n",
              "      <td>CA</td>\n",
              "      <td>1974</td>\n",
              "      <td>7205.0</td>\n",
              "      <td>0</td>\n",
              "    </tr>\n",
              "    <tr>\n",
              "      <th>58382</th>\n",
              "      <td>1/26/2010</td>\n",
              "      <td>OTHER</td>\n",
              "      <td>4</td>\n",
              "      <td>FORD</td>\n",
              "      <td>GOLD</td>\n",
              "      <td>AUTO</td>\n",
              "      <td>Alloy</td>\n",
              "      <td>71169</td>\n",
              "      <td>COMPACT</td>\n",
              "      <td>4411.0</td>\n",
              "      <td>...</td>\n",
              "      <td>8377.0</td>\n",
              "      <td>9145.0</td>\n",
              "      <td>4661.0</td>\n",
              "      <td>5634.0</td>\n",
              "      <td>8401.0</td>\n",
              "      <td>9193.0</td>\n",
              "      <td>CA</td>\n",
              "      <td>1155</td>\n",
              "      <td>4690.0</td>\n",
              "      <td>0</td>\n",
              "    </tr>\n",
              "    <tr>\n",
              "      <th>58383</th>\n",
              "      <td>10/28/2010</td>\n",
              "      <td>OTHER</td>\n",
              "      <td>3</td>\n",
              "      <td>CHEVROLET</td>\n",
              "      <td>SILVER</td>\n",
              "      <td>AUTO</td>\n",
              "      <td>Covers</td>\n",
              "      <td>69795</td>\n",
              "      <td>LARGE</td>\n",
              "      <td>7575.0</td>\n",
              "      <td>...</td>\n",
              "      <td>11092.0</td>\n",
              "      <td>12303.0</td>\n",
              "      <td>7421.0</td>\n",
              "      <td>8642.0</td>\n",
              "      <td>10120.0</td>\n",
              "      <td>11695.0</td>\n",
              "      <td>MD</td>\n",
              "      <td>1703</td>\n",
              "      <td>7000.0</td>\n",
              "      <td>0</td>\n",
              "    </tr>\n",
              "    <tr>\n",
              "      <th>58384</th>\n",
              "      <td>12/01/2010</td>\n",
              "      <td>MANHEIM</td>\n",
              "      <td>5</td>\n",
              "      <td>NISSAN</td>\n",
              "      <td>GOLD</td>\n",
              "      <td>AUTO</td>\n",
              "      <td>Alloy</td>\n",
              "      <td>85326</td>\n",
              "      <td>COMPACT</td>\n",
              "      <td>4278.0</td>\n",
              "      <td>...</td>\n",
              "      <td>7790.0</td>\n",
              "      <td>8696.0</td>\n",
              "      <td>4065.0</td>\n",
              "      <td>5066.0</td>\n",
              "      <td>7179.0</td>\n",
              "      <td>8436.0</td>\n",
              "      <td>TX</td>\n",
              "      <td>594</td>\n",
              "      <td>5525.0</td>\n",
              "      <td>1</td>\n",
              "    </tr>\n",
              "    <tr>\n",
              "      <th>58385</th>\n",
              "      <td>10/08/2009</td>\n",
              "      <td>MANHEIM</td>\n",
              "      <td>8</td>\n",
              "      <td>CHEVROLET</td>\n",
              "      <td>BLACK</td>\n",
              "      <td>AUTO</td>\n",
              "      <td>Covers</td>\n",
              "      <td>73317</td>\n",
              "      <td>COMPACT</td>\n",
              "      <td>1252.0</td>\n",
              "      <td>...</td>\n",
              "      <td>1852.0</td>\n",
              "      <td>2461.0</td>\n",
              "      <td>1471.0</td>\n",
              "      <td>1932.0</td>\n",
              "      <td>2089.0</td>\n",
              "      <td>2587.0</td>\n",
              "      <td>SC</td>\n",
              "      <td>1455</td>\n",
              "      <td>3240.0</td>\n",
              "      <td>1</td>\n",
              "    </tr>\n",
              "  </tbody>\n",
              "</table>\n",
              "<p>58386 rows × 21 columns</p>\n",
              "</div>\n",
              "      <button class=\"colab-df-convert\" onclick=\"convertToInteractive('df-18afd4cc-584b-484e-be47-814b35b6537b')\"\n",
              "              title=\"Convert this dataframe to an interactive table.\"\n",
              "              style=\"display:none;\">\n",
              "        \n",
              "  <svg xmlns=\"http://www.w3.org/2000/svg\" height=\"24px\"viewBox=\"0 0 24 24\"\n",
              "       width=\"24px\">\n",
              "    <path d=\"M0 0h24v24H0V0z\" fill=\"none\"/>\n",
              "    <path d=\"M18.56 5.44l.94 2.06.94-2.06 2.06-.94-2.06-.94-.94-2.06-.94 2.06-2.06.94zm-11 1L8.5 8.5l.94-2.06 2.06-.94-2.06-.94L8.5 2.5l-.94 2.06-2.06.94zm10 10l.94 2.06.94-2.06 2.06-.94-2.06-.94-.94-2.06-.94 2.06-2.06.94z\"/><path d=\"M17.41 7.96l-1.37-1.37c-.4-.4-.92-.59-1.43-.59-.52 0-1.04.2-1.43.59L10.3 9.45l-7.72 7.72c-.78.78-.78 2.05 0 2.83L4 21.41c.39.39.9.59 1.41.59.51 0 1.02-.2 1.41-.59l7.78-7.78 2.81-2.81c.8-.78.8-2.07 0-2.86zM5.41 20L4 18.59l7.72-7.72 1.47 1.35L5.41 20z\"/>\n",
              "  </svg>\n",
              "      </button>\n",
              "      \n",
              "  <style>\n",
              "    .colab-df-container {\n",
              "      display:flex;\n",
              "      flex-wrap:wrap;\n",
              "      gap: 12px;\n",
              "    }\n",
              "\n",
              "    .colab-df-convert {\n",
              "      background-color: #E8F0FE;\n",
              "      border: none;\n",
              "      border-radius: 50%;\n",
              "      cursor: pointer;\n",
              "      display: none;\n",
              "      fill: #1967D2;\n",
              "      height: 32px;\n",
              "      padding: 0 0 0 0;\n",
              "      width: 32px;\n",
              "    }\n",
              "\n",
              "    .colab-df-convert:hover {\n",
              "      background-color: #E2EBFA;\n",
              "      box-shadow: 0px 1px 2px rgba(60, 64, 67, 0.3), 0px 1px 3px 1px rgba(60, 64, 67, 0.15);\n",
              "      fill: #174EA6;\n",
              "    }\n",
              "\n",
              "    [theme=dark] .colab-df-convert {\n",
              "      background-color: #3B4455;\n",
              "      fill: #D2E3FC;\n",
              "    }\n",
              "\n",
              "    [theme=dark] .colab-df-convert:hover {\n",
              "      background-color: #434B5C;\n",
              "      box-shadow: 0px 1px 3px 1px rgba(0, 0, 0, 0.15);\n",
              "      filter: drop-shadow(0px 1px 2px rgba(0, 0, 0, 0.3));\n",
              "      fill: #FFFFFF;\n",
              "    }\n",
              "  </style>\n",
              "\n",
              "      <script>\n",
              "        const buttonEl =\n",
              "          document.querySelector('#df-18afd4cc-584b-484e-be47-814b35b6537b button.colab-df-convert');\n",
              "        buttonEl.style.display =\n",
              "          google.colab.kernel.accessAllowed ? 'block' : 'none';\n",
              "\n",
              "        async function convertToInteractive(key) {\n",
              "          const element = document.querySelector('#df-18afd4cc-584b-484e-be47-814b35b6537b');\n",
              "          const dataTable =\n",
              "            await google.colab.kernel.invokeFunction('convertToInteractive',\n",
              "                                                     [key], {});\n",
              "          if (!dataTable) return;\n",
              "\n",
              "          const docLinkHtml = 'Like what you see? Visit the ' +\n",
              "            '<a target=\"_blank\" href=https://colab.research.google.com/notebooks/data_table.ipynb>data table notebook</a>'\n",
              "            + ' to learn more about interactive tables.';\n",
              "          element.innerHTML = '';\n",
              "          dataTable['output_type'] = 'display_data';\n",
              "          await google.colab.output.renderOutput(dataTable, element);\n",
              "          const docLink = document.createElement('div');\n",
              "          docLink.innerHTML = docLinkHtml;\n",
              "          element.appendChild(docLink);\n",
              "        }\n",
              "      </script>\n",
              "    </div>\n",
              "  </div>\n",
              "  "
            ]
          },
          "metadata": {},
          "execution_count": 24
        }
      ]
    },
    {
      "cell_type": "markdown",
      "source": [
        "### **d. Split the purchase date (“purchDate”)**"
      ],
      "metadata": {
        "id": "wDsDlTKZ84ew"
      },
      "id": "wDsDlTKZ84ew"
    },
    {
      "cell_type": "code",
      "source": [
        "data['PurchDate']"
      ],
      "metadata": {
        "colab": {
          "base_uri": "https://localhost:8080/"
        },
        "id": "uKF1PSZVpYrw",
        "outputId": "9685322b-62b8-40f5-cc9a-7ddb5e7711db"
      },
      "id": "uKF1PSZVpYrw",
      "execution_count": 25,
      "outputs": [
        {
          "output_type": "execute_result",
          "data": {
            "text/plain": [
              "0        10/25/2010\n",
              "1         5/27/2009\n",
              "2         3/18/2010\n",
              "3        06/08/2009\n",
              "4        03/04/2009\n",
              "            ...    \n",
              "58381    03/09/2010\n",
              "58382     1/26/2010\n",
              "58383    10/28/2010\n",
              "58384    12/01/2010\n",
              "58385    10/08/2009\n",
              "Name: PurchDate, Length: 58386, dtype: object"
            ]
          },
          "metadata": {},
          "execution_count": 25
        }
      ]
    },
    {
      "cell_type": "code",
      "source": [
        "date = data['PurchDate'].str.split(\"/\", expand = True)\n"
      ],
      "metadata": {
        "id": "VMXNxcdvqVat"
      },
      "id": "VMXNxcdvqVat",
      "execution_count": 26,
      "outputs": []
    },
    {
      "cell_type": "code",
      "source": [
        "data[\"purch_day\"]= date[0]\n",
        "data[\"purch_month\"]= date[1]\n",
        "data[\"purch_year\"]= date[2]"
      ],
      "metadata": {
        "id": "gNjTcaxaqiCJ"
      },
      "id": "gNjTcaxaqiCJ",
      "execution_count": 27,
      "outputs": []
    },
    {
      "cell_type": "code",
      "source": [
        "data.drop(\"PurchDate\", axis=1, inplace = True)\n",
        "data\n"
      ],
      "metadata": {
        "colab": {
          "base_uri": "https://localhost:8080/",
          "height": 487
        },
        "id": "-LvVamvnq73F",
        "outputId": "b4746266-29d2-4d2b-b343-ba5c0954762e"
      },
      "id": "-LvVamvnq73F",
      "execution_count": 28,
      "outputs": [
        {
          "output_type": "execute_result",
          "data": {
            "text/plain": [
              "       Auction  VehicleAge       Make   Color Transmission WheelType  VehOdo  \\\n",
              "0        ADESA           2        KIA    BLUE         AUTO    Covers   61184   \n",
              "1      MANHEIM           3      DODGE  SILVER         AUTO    Covers   92383   \n",
              "2        OTHER           2      DODGE   BLACK         AUTO    Covers   45965   \n",
              "3        OTHER           4       FORD   BROWN         AUTO    Covers   80169   \n",
              "4      MANHEIM           4   CHRYSLER    BLUE         AUTO     Alloy   77372   \n",
              "...        ...         ...        ...     ...          ...       ...     ...   \n",
              "58381    OTHER           3  CHEVROLET     RED         AUTO     Alloy   78226   \n",
              "58382    OTHER           4       FORD    GOLD         AUTO     Alloy   71169   \n",
              "58383    OTHER           3  CHEVROLET  SILVER         AUTO    Covers   69795   \n",
              "58384  MANHEIM           5     NISSAN    GOLD         AUTO     Alloy   85326   \n",
              "58385  MANHEIM           8  CHEVROLET   BLACK         AUTO    Covers   73317   \n",
              "\n",
              "          Size  MMRAcquisitionAuctionAveragePrice  \\\n",
              "0       MEDIUM                             6796.0   \n",
              "1       MEDIUM                             5480.0   \n",
              "2       MEDIUM                             8067.0   \n",
              "3          VAN                             4817.0   \n",
              "4          VAN                             5430.0   \n",
              "...        ...                                ...   \n",
              "58381    LARGE                             8081.0   \n",
              "58382  COMPACT                             4411.0   \n",
              "58383    LARGE                             7575.0   \n",
              "58384  COMPACT                             4278.0   \n",
              "58385  COMPACT                             1252.0   \n",
              "\n",
              "       MMRAcquisitionAuctionCleanPrice  ...  MMRCurrentAuctionCleanPrice  \\\n",
              "0                               7555.0  ...                       7535.0   \n",
              "1                               6461.0  ...                       6461.0   \n",
              "2                               8580.0  ...                       8102.0   \n",
              "3                               6658.0  ...                       6658.0   \n",
              "4                               6633.0  ...                       6811.0   \n",
              "...                                ...  ...                          ...   \n",
              "58381                           9822.0  ...                       9560.0   \n",
              "58382                           5310.0  ...                       5634.0   \n",
              "58383                           8746.0  ...                       8642.0   \n",
              "58384                           5315.0  ...                       5066.0   \n",
              "58385                           1816.0  ...                       1932.0   \n",
              "\n",
              "       MMRCurrentRetailAveragePrice  MMRCurrentRetailCleanPrice  VNST  \\\n",
              "0                            9605.0                     10650.0    FL   \n",
              "1                            6418.0                      7478.0    FL   \n",
              "2                           10721.0                     11350.0    OK   \n",
              "3                            5702.0                      7691.0    AZ   \n",
              "4                            6300.0                      7856.0    TX   \n",
              "...                             ...                         ...   ...   \n",
              "58381                       11325.0                     12762.0    CA   \n",
              "58382                        8401.0                      9193.0    CA   \n",
              "58383                       10120.0                     11695.0    MD   \n",
              "58384                        7179.0                      8436.0    TX   \n",
              "58385                        2089.0                      2587.0    SC   \n",
              "\n",
              "       WarrantyCost  VehBCost IsBadBuy  purch_day  purch_month  purch_year  \n",
              "0               533    6100.0        1         10           25        2010  \n",
              "1              1630    4000.0        0          5           27        2009  \n",
              "2               693    7500.0        0          3           18        2010  \n",
              "3              1633    4725.0        0         06           08        2009  \n",
              "4              1623    5670.0        0         03           04        2009  \n",
              "...             ...       ...      ...        ...          ...         ...  \n",
              "58381          1974    7205.0        0         03           09        2010  \n",
              "58382          1155    4690.0        0          1           26        2010  \n",
              "58383          1703    7000.0        0         10           28        2010  \n",
              "58384           594    5525.0        1         12           01        2010  \n",
              "58385          1455    3240.0        1         10           08        2009  \n",
              "\n",
              "[58386 rows x 23 columns]"
            ],
            "text/html": [
              "\n",
              "  <div id=\"df-9959c60d-beb6-43b2-9d57-1d61c24c7644\">\n",
              "    <div class=\"colab-df-container\">\n",
              "      <div>\n",
              "<style scoped>\n",
              "    .dataframe tbody tr th:only-of-type {\n",
              "        vertical-align: middle;\n",
              "    }\n",
              "\n",
              "    .dataframe tbody tr th {\n",
              "        vertical-align: top;\n",
              "    }\n",
              "\n",
              "    .dataframe thead th {\n",
              "        text-align: right;\n",
              "    }\n",
              "</style>\n",
              "<table border=\"1\" class=\"dataframe\">\n",
              "  <thead>\n",
              "    <tr style=\"text-align: right;\">\n",
              "      <th></th>\n",
              "      <th>Auction</th>\n",
              "      <th>VehicleAge</th>\n",
              "      <th>Make</th>\n",
              "      <th>Color</th>\n",
              "      <th>Transmission</th>\n",
              "      <th>WheelType</th>\n",
              "      <th>VehOdo</th>\n",
              "      <th>Size</th>\n",
              "      <th>MMRAcquisitionAuctionAveragePrice</th>\n",
              "      <th>MMRAcquisitionAuctionCleanPrice</th>\n",
              "      <th>...</th>\n",
              "      <th>MMRCurrentAuctionCleanPrice</th>\n",
              "      <th>MMRCurrentRetailAveragePrice</th>\n",
              "      <th>MMRCurrentRetailCleanPrice</th>\n",
              "      <th>VNST</th>\n",
              "      <th>WarrantyCost</th>\n",
              "      <th>VehBCost</th>\n",
              "      <th>IsBadBuy</th>\n",
              "      <th>purch_day</th>\n",
              "      <th>purch_month</th>\n",
              "      <th>purch_year</th>\n",
              "    </tr>\n",
              "  </thead>\n",
              "  <tbody>\n",
              "    <tr>\n",
              "      <th>0</th>\n",
              "      <td>ADESA</td>\n",
              "      <td>2</td>\n",
              "      <td>KIA</td>\n",
              "      <td>BLUE</td>\n",
              "      <td>AUTO</td>\n",
              "      <td>Covers</td>\n",
              "      <td>61184</td>\n",
              "      <td>MEDIUM</td>\n",
              "      <td>6796.0</td>\n",
              "      <td>7555.0</td>\n",
              "      <td>...</td>\n",
              "      <td>7535.0</td>\n",
              "      <td>9605.0</td>\n",
              "      <td>10650.0</td>\n",
              "      <td>FL</td>\n",
              "      <td>533</td>\n",
              "      <td>6100.0</td>\n",
              "      <td>1</td>\n",
              "      <td>10</td>\n",
              "      <td>25</td>\n",
              "      <td>2010</td>\n",
              "    </tr>\n",
              "    <tr>\n",
              "      <th>1</th>\n",
              "      <td>MANHEIM</td>\n",
              "      <td>3</td>\n",
              "      <td>DODGE</td>\n",
              "      <td>SILVER</td>\n",
              "      <td>AUTO</td>\n",
              "      <td>Covers</td>\n",
              "      <td>92383</td>\n",
              "      <td>MEDIUM</td>\n",
              "      <td>5480.0</td>\n",
              "      <td>6461.0</td>\n",
              "      <td>...</td>\n",
              "      <td>6461.0</td>\n",
              "      <td>6418.0</td>\n",
              "      <td>7478.0</td>\n",
              "      <td>FL</td>\n",
              "      <td>1630</td>\n",
              "      <td>4000.0</td>\n",
              "      <td>0</td>\n",
              "      <td>5</td>\n",
              "      <td>27</td>\n",
              "      <td>2009</td>\n",
              "    </tr>\n",
              "    <tr>\n",
              "      <th>2</th>\n",
              "      <td>OTHER</td>\n",
              "      <td>2</td>\n",
              "      <td>DODGE</td>\n",
              "      <td>BLACK</td>\n",
              "      <td>AUTO</td>\n",
              "      <td>Covers</td>\n",
              "      <td>45965</td>\n",
              "      <td>MEDIUM</td>\n",
              "      <td>8067.0</td>\n",
              "      <td>8580.0</td>\n",
              "      <td>...</td>\n",
              "      <td>8102.0</td>\n",
              "      <td>10721.0</td>\n",
              "      <td>11350.0</td>\n",
              "      <td>OK</td>\n",
              "      <td>693</td>\n",
              "      <td>7500.0</td>\n",
              "      <td>0</td>\n",
              "      <td>3</td>\n",
              "      <td>18</td>\n",
              "      <td>2010</td>\n",
              "    </tr>\n",
              "    <tr>\n",
              "      <th>3</th>\n",
              "      <td>OTHER</td>\n",
              "      <td>4</td>\n",
              "      <td>FORD</td>\n",
              "      <td>BROWN</td>\n",
              "      <td>AUTO</td>\n",
              "      <td>Covers</td>\n",
              "      <td>80169</td>\n",
              "      <td>VAN</td>\n",
              "      <td>4817.0</td>\n",
              "      <td>6658.0</td>\n",
              "      <td>...</td>\n",
              "      <td>6658.0</td>\n",
              "      <td>5702.0</td>\n",
              "      <td>7691.0</td>\n",
              "      <td>AZ</td>\n",
              "      <td>1633</td>\n",
              "      <td>4725.0</td>\n",
              "      <td>0</td>\n",
              "      <td>06</td>\n",
              "      <td>08</td>\n",
              "      <td>2009</td>\n",
              "    </tr>\n",
              "    <tr>\n",
              "      <th>4</th>\n",
              "      <td>MANHEIM</td>\n",
              "      <td>4</td>\n",
              "      <td>CHRYSLER</td>\n",
              "      <td>BLUE</td>\n",
              "      <td>AUTO</td>\n",
              "      <td>Alloy</td>\n",
              "      <td>77372</td>\n",
              "      <td>VAN</td>\n",
              "      <td>5430.0</td>\n",
              "      <td>6633.0</td>\n",
              "      <td>...</td>\n",
              "      <td>6811.0</td>\n",
              "      <td>6300.0</td>\n",
              "      <td>7856.0</td>\n",
              "      <td>TX</td>\n",
              "      <td>1623</td>\n",
              "      <td>5670.0</td>\n",
              "      <td>0</td>\n",
              "      <td>03</td>\n",
              "      <td>04</td>\n",
              "      <td>2009</td>\n",
              "    </tr>\n",
              "    <tr>\n",
              "      <th>...</th>\n",
              "      <td>...</td>\n",
              "      <td>...</td>\n",
              "      <td>...</td>\n",
              "      <td>...</td>\n",
              "      <td>...</td>\n",
              "      <td>...</td>\n",
              "      <td>...</td>\n",
              "      <td>...</td>\n",
              "      <td>...</td>\n",
              "      <td>...</td>\n",
              "      <td>...</td>\n",
              "      <td>...</td>\n",
              "      <td>...</td>\n",
              "      <td>...</td>\n",
              "      <td>...</td>\n",
              "      <td>...</td>\n",
              "      <td>...</td>\n",
              "      <td>...</td>\n",
              "      <td>...</td>\n",
              "      <td>...</td>\n",
              "      <td>...</td>\n",
              "    </tr>\n",
              "    <tr>\n",
              "      <th>58381</th>\n",
              "      <td>OTHER</td>\n",
              "      <td>3</td>\n",
              "      <td>CHEVROLET</td>\n",
              "      <td>RED</td>\n",
              "      <td>AUTO</td>\n",
              "      <td>Alloy</td>\n",
              "      <td>78226</td>\n",
              "      <td>LARGE</td>\n",
              "      <td>8081.0</td>\n",
              "      <td>9822.0</td>\n",
              "      <td>...</td>\n",
              "      <td>9560.0</td>\n",
              "      <td>11325.0</td>\n",
              "      <td>12762.0</td>\n",
              "      <td>CA</td>\n",
              "      <td>1974</td>\n",
              "      <td>7205.0</td>\n",
              "      <td>0</td>\n",
              "      <td>03</td>\n",
              "      <td>09</td>\n",
              "      <td>2010</td>\n",
              "    </tr>\n",
              "    <tr>\n",
              "      <th>58382</th>\n",
              "      <td>OTHER</td>\n",
              "      <td>4</td>\n",
              "      <td>FORD</td>\n",
              "      <td>GOLD</td>\n",
              "      <td>AUTO</td>\n",
              "      <td>Alloy</td>\n",
              "      <td>71169</td>\n",
              "      <td>COMPACT</td>\n",
              "      <td>4411.0</td>\n",
              "      <td>5310.0</td>\n",
              "      <td>...</td>\n",
              "      <td>5634.0</td>\n",
              "      <td>8401.0</td>\n",
              "      <td>9193.0</td>\n",
              "      <td>CA</td>\n",
              "      <td>1155</td>\n",
              "      <td>4690.0</td>\n",
              "      <td>0</td>\n",
              "      <td>1</td>\n",
              "      <td>26</td>\n",
              "      <td>2010</td>\n",
              "    </tr>\n",
              "    <tr>\n",
              "      <th>58383</th>\n",
              "      <td>OTHER</td>\n",
              "      <td>3</td>\n",
              "      <td>CHEVROLET</td>\n",
              "      <td>SILVER</td>\n",
              "      <td>AUTO</td>\n",
              "      <td>Covers</td>\n",
              "      <td>69795</td>\n",
              "      <td>LARGE</td>\n",
              "      <td>7575.0</td>\n",
              "      <td>8746.0</td>\n",
              "      <td>...</td>\n",
              "      <td>8642.0</td>\n",
              "      <td>10120.0</td>\n",
              "      <td>11695.0</td>\n",
              "      <td>MD</td>\n",
              "      <td>1703</td>\n",
              "      <td>7000.0</td>\n",
              "      <td>0</td>\n",
              "      <td>10</td>\n",
              "      <td>28</td>\n",
              "      <td>2010</td>\n",
              "    </tr>\n",
              "    <tr>\n",
              "      <th>58384</th>\n",
              "      <td>MANHEIM</td>\n",
              "      <td>5</td>\n",
              "      <td>NISSAN</td>\n",
              "      <td>GOLD</td>\n",
              "      <td>AUTO</td>\n",
              "      <td>Alloy</td>\n",
              "      <td>85326</td>\n",
              "      <td>COMPACT</td>\n",
              "      <td>4278.0</td>\n",
              "      <td>5315.0</td>\n",
              "      <td>...</td>\n",
              "      <td>5066.0</td>\n",
              "      <td>7179.0</td>\n",
              "      <td>8436.0</td>\n",
              "      <td>TX</td>\n",
              "      <td>594</td>\n",
              "      <td>5525.0</td>\n",
              "      <td>1</td>\n",
              "      <td>12</td>\n",
              "      <td>01</td>\n",
              "      <td>2010</td>\n",
              "    </tr>\n",
              "    <tr>\n",
              "      <th>58385</th>\n",
              "      <td>MANHEIM</td>\n",
              "      <td>8</td>\n",
              "      <td>CHEVROLET</td>\n",
              "      <td>BLACK</td>\n",
              "      <td>AUTO</td>\n",
              "      <td>Covers</td>\n",
              "      <td>73317</td>\n",
              "      <td>COMPACT</td>\n",
              "      <td>1252.0</td>\n",
              "      <td>1816.0</td>\n",
              "      <td>...</td>\n",
              "      <td>1932.0</td>\n",
              "      <td>2089.0</td>\n",
              "      <td>2587.0</td>\n",
              "      <td>SC</td>\n",
              "      <td>1455</td>\n",
              "      <td>3240.0</td>\n",
              "      <td>1</td>\n",
              "      <td>10</td>\n",
              "      <td>08</td>\n",
              "      <td>2009</td>\n",
              "    </tr>\n",
              "  </tbody>\n",
              "</table>\n",
              "<p>58386 rows × 23 columns</p>\n",
              "</div>\n",
              "      <button class=\"colab-df-convert\" onclick=\"convertToInteractive('df-9959c60d-beb6-43b2-9d57-1d61c24c7644')\"\n",
              "              title=\"Convert this dataframe to an interactive table.\"\n",
              "              style=\"display:none;\">\n",
              "        \n",
              "  <svg xmlns=\"http://www.w3.org/2000/svg\" height=\"24px\"viewBox=\"0 0 24 24\"\n",
              "       width=\"24px\">\n",
              "    <path d=\"M0 0h24v24H0V0z\" fill=\"none\"/>\n",
              "    <path d=\"M18.56 5.44l.94 2.06.94-2.06 2.06-.94-2.06-.94-.94-2.06-.94 2.06-2.06.94zm-11 1L8.5 8.5l.94-2.06 2.06-.94-2.06-.94L8.5 2.5l-.94 2.06-2.06.94zm10 10l.94 2.06.94-2.06 2.06-.94-2.06-.94-.94-2.06-.94 2.06-2.06.94z\"/><path d=\"M17.41 7.96l-1.37-1.37c-.4-.4-.92-.59-1.43-.59-.52 0-1.04.2-1.43.59L10.3 9.45l-7.72 7.72c-.78.78-.78 2.05 0 2.83L4 21.41c.39.39.9.59 1.41.59.51 0 1.02-.2 1.41-.59l7.78-7.78 2.81-2.81c.8-.78.8-2.07 0-2.86zM5.41 20L4 18.59l7.72-7.72 1.47 1.35L5.41 20z\"/>\n",
              "  </svg>\n",
              "      </button>\n",
              "      \n",
              "  <style>\n",
              "    .colab-df-container {\n",
              "      display:flex;\n",
              "      flex-wrap:wrap;\n",
              "      gap: 12px;\n",
              "    }\n",
              "\n",
              "    .colab-df-convert {\n",
              "      background-color: #E8F0FE;\n",
              "      border: none;\n",
              "      border-radius: 50%;\n",
              "      cursor: pointer;\n",
              "      display: none;\n",
              "      fill: #1967D2;\n",
              "      height: 32px;\n",
              "      padding: 0 0 0 0;\n",
              "      width: 32px;\n",
              "    }\n",
              "\n",
              "    .colab-df-convert:hover {\n",
              "      background-color: #E2EBFA;\n",
              "      box-shadow: 0px 1px 2px rgba(60, 64, 67, 0.3), 0px 1px 3px 1px rgba(60, 64, 67, 0.15);\n",
              "      fill: #174EA6;\n",
              "    }\n",
              "\n",
              "    [theme=dark] .colab-df-convert {\n",
              "      background-color: #3B4455;\n",
              "      fill: #D2E3FC;\n",
              "    }\n",
              "\n",
              "    [theme=dark] .colab-df-convert:hover {\n",
              "      background-color: #434B5C;\n",
              "      box-shadow: 0px 1px 3px 1px rgba(0, 0, 0, 0.15);\n",
              "      filter: drop-shadow(0px 1px 2px rgba(0, 0, 0, 0.3));\n",
              "      fill: #FFFFFF;\n",
              "    }\n",
              "  </style>\n",
              "\n",
              "      <script>\n",
              "        const buttonEl =\n",
              "          document.querySelector('#df-9959c60d-beb6-43b2-9d57-1d61c24c7644 button.colab-df-convert');\n",
              "        buttonEl.style.display =\n",
              "          google.colab.kernel.accessAllowed ? 'block' : 'none';\n",
              "\n",
              "        async function convertToInteractive(key) {\n",
              "          const element = document.querySelector('#df-9959c60d-beb6-43b2-9d57-1d61c24c7644');\n",
              "          const dataTable =\n",
              "            await google.colab.kernel.invokeFunction('convertToInteractive',\n",
              "                                                     [key], {});\n",
              "          if (!dataTable) return;\n",
              "\n",
              "          const docLinkHtml = 'Like what you see? Visit the ' +\n",
              "            '<a target=\"_blank\" href=https://colab.research.google.com/notebooks/data_table.ipynb>data table notebook</a>'\n",
              "            + ' to learn more about interactive tables.';\n",
              "          element.innerHTML = '';\n",
              "          dataTable['output_type'] = 'display_data';\n",
              "          await google.colab.output.renderOutput(dataTable, element);\n",
              "          const docLink = document.createElement('div');\n",
              "          docLink.innerHTML = docLinkHtml;\n",
              "          element.appendChild(docLink);\n",
              "        }\n",
              "      </script>\n",
              "    </div>\n",
              "  </div>\n",
              "  "
            ]
          },
          "metadata": {},
          "execution_count": 28
        }
      ]
    },
    {
      "cell_type": "markdown",
      "source": [
        "we remarque that day , month and year of purchase are objects so we have to transform them into floats"
      ],
      "metadata": {
        "id": "l8ifcLuz9Ecw"
      },
      "id": "l8ifcLuz9Ecw"
    },
    {
      "cell_type": "code",
      "source": [
        "data['purch_day'] = data['purch_day'].astype('float')\n",
        "data['purch_month'] = data['purch_month'].astype('float')\n",
        "data['purch_year'] = data['purch_year'].astype('float')"
      ],
      "metadata": {
        "id": "4T63usHasbWz"
      },
      "id": "4T63usHasbWz",
      "execution_count": 29,
      "outputs": []
    },
    {
      "cell_type": "code",
      "source": [
        "data.dtypes"
      ],
      "metadata": {
        "colab": {
          "base_uri": "https://localhost:8080/"
        },
        "id": "l_ppVZsJslap",
        "outputId": "79f7fab9-0a00-4485-a838-1a88c224a4ac"
      },
      "id": "l_ppVZsJslap",
      "execution_count": 30,
      "outputs": [
        {
          "output_type": "execute_result",
          "data": {
            "text/plain": [
              "Auction                               object\n",
              "VehicleAge                             int64\n",
              "Make                                  object\n",
              "Color                                 object\n",
              "Transmission                          object\n",
              "WheelType                             object\n",
              "VehOdo                                 int64\n",
              "Size                                  object\n",
              "MMRAcquisitionAuctionAveragePrice    float64\n",
              "MMRAcquisitionAuctionCleanPrice      float64\n",
              "MMRAcquisitionRetailAveragePrice     float64\n",
              "MMRAcquisitonRetailCleanPrice        float64\n",
              "MMRCurrentAuctionAveragePrice        float64\n",
              "MMRCurrentAuctionCleanPrice          float64\n",
              "MMRCurrentRetailAveragePrice         float64\n",
              "MMRCurrentRetailCleanPrice           float64\n",
              "VNST                                  object\n",
              "WarrantyCost                           int64\n",
              "VehBCost                             float64\n",
              "IsBadBuy                               int64\n",
              "purch_day                            float64\n",
              "purch_month                          float64\n",
              "purch_year                           float64\n",
              "dtype: object"
            ]
          },
          "metadata": {},
          "execution_count": 30
        }
      ]
    },
    {
      "cell_type": "markdown",
      "source": [
        "### **e. Keep only cars where WheelType is in (Alloy, Covers)**"
      ],
      "metadata": {
        "id": "RlODkCjI9W5X"
      },
      "id": "RlODkCjI9W5X"
    },
    {
      "cell_type": "code",
      "source": [
        "data['WheelType'].unique()"
      ],
      "metadata": {
        "colab": {
          "base_uri": "https://localhost:8080/"
        },
        "id": "gk2Lvrsh9eew",
        "outputId": "bee242d9-3602-4072-a856-f76521a61219"
      },
      "id": "gk2Lvrsh9eew",
      "execution_count": 32,
      "outputs": [
        {
          "output_type": "execute_result",
          "data": {
            "text/plain": [
              "array(['Covers', 'Alloy', 'Special'], dtype=object)"
            ]
          },
          "metadata": {},
          "execution_count": 32
        }
      ]
    },
    {
      "cell_type": "code",
      "source": [
        "wealType_index = data[ (data['WheelType'] != \"Alloy\") & (data['WheelType'] != \"Covers\")].index\n",
        "data.drop(wealType_index, inplace = True)\n",
        "data['WheelType']"
      ],
      "metadata": {
        "colab": {
          "base_uri": "https://localhost:8080/"
        },
        "id": "udrRqVIOspCF",
        "outputId": "caa8632d-1522-470e-9f60-f107429b4f19"
      },
      "id": "udrRqVIOspCF",
      "execution_count": 33,
      "outputs": [
        {
          "output_type": "execute_result",
          "data": {
            "text/plain": [
              "0        Covers\n",
              "1        Covers\n",
              "2        Covers\n",
              "3        Covers\n",
              "4         Alloy\n",
              "          ...  \n",
              "58381     Alloy\n",
              "58382     Alloy\n",
              "58383    Covers\n",
              "58384     Alloy\n",
              "58385    Covers\n",
              "Name: WheelType, Length: 57797, dtype: object"
            ]
          },
          "metadata": {},
          "execution_count": 33
        }
      ]
    },
    {
      "cell_type": "code",
      "source": [
        "data['WheelType'].unique()"
      ],
      "metadata": {
        "colab": {
          "base_uri": "https://localhost:8080/"
        },
        "id": "6fz8cwgD9kRg",
        "outputId": "ffa4d499-79f4-4f47-af4e-2898459552d1"
      },
      "id": "6fz8cwgD9kRg",
      "execution_count": 34,
      "outputs": [
        {
          "output_type": "execute_result",
          "data": {
            "text/plain": [
              "array(['Covers', 'Alloy'], dtype=object)"
            ]
          },
          "metadata": {},
          "execution_count": 34
        }
      ]
    },
    {
      "cell_type": "markdown",
      "source": [
        "### **f. Dummy code the categorical features**"
      ],
      "metadata": {
        "id": "RqpeH6gt9m4G"
      },
      "id": "RqpeH6gt9m4G"
    },
    {
      "cell_type": "code",
      "source": [
        "data=pd.get_dummies(data=data, columns=['Auction','Make','Color','Transmission','WheelType','Size','VNST'])"
      ],
      "metadata": {
        "id": "ccgL2nOAwm_y"
      },
      "id": "ccgL2nOAwm_y",
      "execution_count": 35,
      "outputs": []
    },
    {
      "cell_type": "markdown",
      "source": [
        "### **g. Perform a Standardization to the continuous variables**"
      ],
      "metadata": {
        "id": "Gl68HfbN95Lc"
      },
      "id": "Gl68HfbN95Lc"
    },
    {
      "cell_type": "code",
      "source": [
        "data.columns"
      ],
      "metadata": {
        "colab": {
          "base_uri": "https://localhost:8080/"
        },
        "id": "h3IDTnm5w4i6",
        "outputId": "59e88983-30bd-47c2-bd6a-db939c95659e"
      },
      "id": "h3IDTnm5w4i6",
      "execution_count": 36,
      "outputs": [
        {
          "output_type": "execute_result",
          "data": {
            "text/plain": [
              "Index(['VehicleAge', 'VehOdo', 'MMRAcquisitionAuctionAveragePrice',\n",
              "       'MMRAcquisitionAuctionCleanPrice', 'MMRAcquisitionRetailAveragePrice',\n",
              "       'MMRAcquisitonRetailCleanPrice', 'MMRCurrentAuctionAveragePrice',\n",
              "       'MMRCurrentAuctionCleanPrice', 'MMRCurrentRetailAveragePrice',\n",
              "       'MMRCurrentRetailCleanPrice',\n",
              "       ...\n",
              "       'VNST_OK', 'VNST_OR', 'VNST_PA', 'VNST_SC', 'VNST_TN', 'VNST_TX',\n",
              "       'VNST_UT', 'VNST_VA', 'VNST_WA', 'VNST_WV'],\n",
              "      dtype='object', length=121)"
            ]
          },
          "metadata": {},
          "execution_count": 36
        }
      ]
    },
    {
      "cell_type": "code",
      "source": [
        "data.dtypes"
      ],
      "metadata": {
        "colab": {
          "base_uri": "https://localhost:8080/"
        },
        "id": "wUXyOqnDxzFD",
        "outputId": "0b4bd132-da75-4956-f24c-38cae485ec9e"
      },
      "id": "wUXyOqnDxzFD",
      "execution_count": 37,
      "outputs": [
        {
          "output_type": "execute_result",
          "data": {
            "text/plain": [
              "VehicleAge                             int64\n",
              "VehOdo                                 int64\n",
              "MMRAcquisitionAuctionAveragePrice    float64\n",
              "MMRAcquisitionAuctionCleanPrice      float64\n",
              "MMRAcquisitionRetailAveragePrice     float64\n",
              "                                      ...   \n",
              "VNST_TX                                uint8\n",
              "VNST_UT                                uint8\n",
              "VNST_VA                                uint8\n",
              "VNST_WA                                uint8\n",
              "VNST_WV                                uint8\n",
              "Length: 121, dtype: object"
            ]
          },
          "metadata": {},
          "execution_count": 37
        }
      ]
    },
    {
      "cell_type": "code",
      "source": [
        "cols= [\"VehicleAge\",\"VehOdo\",\"MMRAcquisitionAuctionAveragePrice\",\"MMRAcquisitionAuctionCleanPrice\",\"MMRAcquisitionRetailAveragePrice\",\"MMRAcquisitonRetailCleanPrice\",\"MMRCurrentAuctionAveragePrice\",\"MMRCurrentAuctionCleanPrice\",\"MMRCurrentRetailAveragePrice\",\"MMRCurrentRetailCleanPrice\",\"WarrantyCost\",\"purch_day\",\"purch_month\",\"purch_year\"]\n",
        "for col in cols:\n",
        "    data[col] = (data[col] - data[col].mean()) / data[col].std()\n",
        "data.head()"
      ],
      "metadata": {
        "colab": {
          "base_uri": "https://localhost:8080/",
          "height": 299
        },
        "id": "rzU1LMmQ1al7",
        "outputId": "1b2606f5-152d-4916-9402-49a5535b31a4"
      },
      "id": "rzU1LMmQ1al7",
      "execution_count": 39,
      "outputs": [
        {
          "output_type": "execute_result",
          "data": {
            "text/plain": [
              "   VehicleAge    VehOdo  MMRAcquisitionAuctionAveragePrice  \\\n",
              "0   -1.265509 -0.704985                           0.271949   \n",
              "1   -0.682100  1.432857                          -0.264266   \n",
              "2   -1.265509 -1.747832                           0.789829   \n",
              "3   -0.098690  0.595920                          -0.534411   \n",
              "4   -0.098690  0.404262                          -0.284639   \n",
              "\n",
              "   MMRAcquisitionAuctionCleanPrice  MMRAcquisitionRetailAveragePrice  \\\n",
              "0                         0.067087                          0.521782   \n",
              "1                        -0.336278                         -0.660179   \n",
              "2                         0.445011                          0.818066   \n",
              "3                        -0.263643                         -0.887552   \n",
              "4                        -0.272861                         -0.677327   \n",
              "\n",
              "   MMRAcquisitonRetailCleanPrice  MMRCurrentAuctionAveragePrice  \\\n",
              "0                       0.282592                       0.204558   \n",
              "1                      -0.702968                      -0.268885   \n",
              "2                       0.533499                       0.562940   \n",
              "3                      -0.639870                      -0.542310   \n",
              "4                      -0.647869                      -0.314249   \n",
              "\n",
              "   MMRCurrentAuctionCleanPrice  MMRCurrentRetailAveragePrice  \\\n",
              "0                     0.054299                      0.269409   \n",
              "1                    -0.347417                     -0.766020   \n",
              "2                     0.266377                      0.631988   \n",
              "3                    -0.273731                     -0.998642   \n",
              "4                    -0.216504                     -0.804357   \n",
              "\n",
              "   MMRCurrentRetailCleanPrice  ...  VNST_OK  VNST_OR  VNST_PA  VNST_SC  \\\n",
              "0                    0.153418  ...        0        0        0        0   \n",
              "1                   -0.809294  ...        0        0        0        0   \n",
              "2                    0.365870  ...        1        0        0        0   \n",
              "3                   -0.744648  ...        0        0        0        0   \n",
              "4                   -0.694570  ...        0        0        0        0   \n",
              "\n",
              "   VNST_TN  VNST_TX  VNST_UT  VNST_VA  VNST_WA  VNST_WV  \n",
              "0        0        0        0        0        0        0  \n",
              "1        0        0        0        0        0        0  \n",
              "2        0        0        0        0        0        0  \n",
              "3        0        0        0        0        0        0  \n",
              "4        0        1        0        0        0        0  \n",
              "\n",
              "[5 rows x 121 columns]"
            ],
            "text/html": [
              "\n",
              "  <div id=\"df-aa798581-4e0f-4cb6-b53f-10a4ae0b0942\">\n",
              "    <div class=\"colab-df-container\">\n",
              "      <div>\n",
              "<style scoped>\n",
              "    .dataframe tbody tr th:only-of-type {\n",
              "        vertical-align: middle;\n",
              "    }\n",
              "\n",
              "    .dataframe tbody tr th {\n",
              "        vertical-align: top;\n",
              "    }\n",
              "\n",
              "    .dataframe thead th {\n",
              "        text-align: right;\n",
              "    }\n",
              "</style>\n",
              "<table border=\"1\" class=\"dataframe\">\n",
              "  <thead>\n",
              "    <tr style=\"text-align: right;\">\n",
              "      <th></th>\n",
              "      <th>VehicleAge</th>\n",
              "      <th>VehOdo</th>\n",
              "      <th>MMRAcquisitionAuctionAveragePrice</th>\n",
              "      <th>MMRAcquisitionAuctionCleanPrice</th>\n",
              "      <th>MMRAcquisitionRetailAveragePrice</th>\n",
              "      <th>MMRAcquisitonRetailCleanPrice</th>\n",
              "      <th>MMRCurrentAuctionAveragePrice</th>\n",
              "      <th>MMRCurrentAuctionCleanPrice</th>\n",
              "      <th>MMRCurrentRetailAveragePrice</th>\n",
              "      <th>MMRCurrentRetailCleanPrice</th>\n",
              "      <th>...</th>\n",
              "      <th>VNST_OK</th>\n",
              "      <th>VNST_OR</th>\n",
              "      <th>VNST_PA</th>\n",
              "      <th>VNST_SC</th>\n",
              "      <th>VNST_TN</th>\n",
              "      <th>VNST_TX</th>\n",
              "      <th>VNST_UT</th>\n",
              "      <th>VNST_VA</th>\n",
              "      <th>VNST_WA</th>\n",
              "      <th>VNST_WV</th>\n",
              "    </tr>\n",
              "  </thead>\n",
              "  <tbody>\n",
              "    <tr>\n",
              "      <th>0</th>\n",
              "      <td>-1.265509</td>\n",
              "      <td>-0.704985</td>\n",
              "      <td>0.271949</td>\n",
              "      <td>0.067087</td>\n",
              "      <td>0.521782</td>\n",
              "      <td>0.282592</td>\n",
              "      <td>0.204558</td>\n",
              "      <td>0.054299</td>\n",
              "      <td>0.269409</td>\n",
              "      <td>0.153418</td>\n",
              "      <td>...</td>\n",
              "      <td>0</td>\n",
              "      <td>0</td>\n",
              "      <td>0</td>\n",
              "      <td>0</td>\n",
              "      <td>0</td>\n",
              "      <td>0</td>\n",
              "      <td>0</td>\n",
              "      <td>0</td>\n",
              "      <td>0</td>\n",
              "      <td>0</td>\n",
              "    </tr>\n",
              "    <tr>\n",
              "      <th>1</th>\n",
              "      <td>-0.682100</td>\n",
              "      <td>1.432857</td>\n",
              "      <td>-0.264266</td>\n",
              "      <td>-0.336278</td>\n",
              "      <td>-0.660179</td>\n",
              "      <td>-0.702968</td>\n",
              "      <td>-0.268885</td>\n",
              "      <td>-0.347417</td>\n",
              "      <td>-0.766020</td>\n",
              "      <td>-0.809294</td>\n",
              "      <td>...</td>\n",
              "      <td>0</td>\n",
              "      <td>0</td>\n",
              "      <td>0</td>\n",
              "      <td>0</td>\n",
              "      <td>0</td>\n",
              "      <td>0</td>\n",
              "      <td>0</td>\n",
              "      <td>0</td>\n",
              "      <td>0</td>\n",
              "      <td>0</td>\n",
              "    </tr>\n",
              "    <tr>\n",
              "      <th>2</th>\n",
              "      <td>-1.265509</td>\n",
              "      <td>-1.747832</td>\n",
              "      <td>0.789829</td>\n",
              "      <td>0.445011</td>\n",
              "      <td>0.818066</td>\n",
              "      <td>0.533499</td>\n",
              "      <td>0.562940</td>\n",
              "      <td>0.266377</td>\n",
              "      <td>0.631988</td>\n",
              "      <td>0.365870</td>\n",
              "      <td>...</td>\n",
              "      <td>1</td>\n",
              "      <td>0</td>\n",
              "      <td>0</td>\n",
              "      <td>0</td>\n",
              "      <td>0</td>\n",
              "      <td>0</td>\n",
              "      <td>0</td>\n",
              "      <td>0</td>\n",
              "      <td>0</td>\n",
              "      <td>0</td>\n",
              "    </tr>\n",
              "    <tr>\n",
              "      <th>3</th>\n",
              "      <td>-0.098690</td>\n",
              "      <td>0.595920</td>\n",
              "      <td>-0.534411</td>\n",
              "      <td>-0.263643</td>\n",
              "      <td>-0.887552</td>\n",
              "      <td>-0.639870</td>\n",
              "      <td>-0.542310</td>\n",
              "      <td>-0.273731</td>\n",
              "      <td>-0.998642</td>\n",
              "      <td>-0.744648</td>\n",
              "      <td>...</td>\n",
              "      <td>0</td>\n",
              "      <td>0</td>\n",
              "      <td>0</td>\n",
              "      <td>0</td>\n",
              "      <td>0</td>\n",
              "      <td>0</td>\n",
              "      <td>0</td>\n",
              "      <td>0</td>\n",
              "      <td>0</td>\n",
              "      <td>0</td>\n",
              "    </tr>\n",
              "    <tr>\n",
              "      <th>4</th>\n",
              "      <td>-0.098690</td>\n",
              "      <td>0.404262</td>\n",
              "      <td>-0.284639</td>\n",
              "      <td>-0.272861</td>\n",
              "      <td>-0.677327</td>\n",
              "      <td>-0.647869</td>\n",
              "      <td>-0.314249</td>\n",
              "      <td>-0.216504</td>\n",
              "      <td>-0.804357</td>\n",
              "      <td>-0.694570</td>\n",
              "      <td>...</td>\n",
              "      <td>0</td>\n",
              "      <td>0</td>\n",
              "      <td>0</td>\n",
              "      <td>0</td>\n",
              "      <td>0</td>\n",
              "      <td>1</td>\n",
              "      <td>0</td>\n",
              "      <td>0</td>\n",
              "      <td>0</td>\n",
              "      <td>0</td>\n",
              "    </tr>\n",
              "  </tbody>\n",
              "</table>\n",
              "<p>5 rows × 121 columns</p>\n",
              "</div>\n",
              "      <button class=\"colab-df-convert\" onclick=\"convertToInteractive('df-aa798581-4e0f-4cb6-b53f-10a4ae0b0942')\"\n",
              "              title=\"Convert this dataframe to an interactive table.\"\n",
              "              style=\"display:none;\">\n",
              "        \n",
              "  <svg xmlns=\"http://www.w3.org/2000/svg\" height=\"24px\"viewBox=\"0 0 24 24\"\n",
              "       width=\"24px\">\n",
              "    <path d=\"M0 0h24v24H0V0z\" fill=\"none\"/>\n",
              "    <path d=\"M18.56 5.44l.94 2.06.94-2.06 2.06-.94-2.06-.94-.94-2.06-.94 2.06-2.06.94zm-11 1L8.5 8.5l.94-2.06 2.06-.94-2.06-.94L8.5 2.5l-.94 2.06-2.06.94zm10 10l.94 2.06.94-2.06 2.06-.94-2.06-.94-.94-2.06-.94 2.06-2.06.94z\"/><path d=\"M17.41 7.96l-1.37-1.37c-.4-.4-.92-.59-1.43-.59-.52 0-1.04.2-1.43.59L10.3 9.45l-7.72 7.72c-.78.78-.78 2.05 0 2.83L4 21.41c.39.39.9.59 1.41.59.51 0 1.02-.2 1.41-.59l7.78-7.78 2.81-2.81c.8-.78.8-2.07 0-2.86zM5.41 20L4 18.59l7.72-7.72 1.47 1.35L5.41 20z\"/>\n",
              "  </svg>\n",
              "      </button>\n",
              "      \n",
              "  <style>\n",
              "    .colab-df-container {\n",
              "      display:flex;\n",
              "      flex-wrap:wrap;\n",
              "      gap: 12px;\n",
              "    }\n",
              "\n",
              "    .colab-df-convert {\n",
              "      background-color: #E8F0FE;\n",
              "      border: none;\n",
              "      border-radius: 50%;\n",
              "      cursor: pointer;\n",
              "      display: none;\n",
              "      fill: #1967D2;\n",
              "      height: 32px;\n",
              "      padding: 0 0 0 0;\n",
              "      width: 32px;\n",
              "    }\n",
              "\n",
              "    .colab-df-convert:hover {\n",
              "      background-color: #E2EBFA;\n",
              "      box-shadow: 0px 1px 2px rgba(60, 64, 67, 0.3), 0px 1px 3px 1px rgba(60, 64, 67, 0.15);\n",
              "      fill: #174EA6;\n",
              "    }\n",
              "\n",
              "    [theme=dark] .colab-df-convert {\n",
              "      background-color: #3B4455;\n",
              "      fill: #D2E3FC;\n",
              "    }\n",
              "\n",
              "    [theme=dark] .colab-df-convert:hover {\n",
              "      background-color: #434B5C;\n",
              "      box-shadow: 0px 1px 3px 1px rgba(0, 0, 0, 0.15);\n",
              "      filter: drop-shadow(0px 1px 2px rgba(0, 0, 0, 0.3));\n",
              "      fill: #FFFFFF;\n",
              "    }\n",
              "  </style>\n",
              "\n",
              "      <script>\n",
              "        const buttonEl =\n",
              "          document.querySelector('#df-aa798581-4e0f-4cb6-b53f-10a4ae0b0942 button.colab-df-convert');\n",
              "        buttonEl.style.display =\n",
              "          google.colab.kernel.accessAllowed ? 'block' : 'none';\n",
              "\n",
              "        async function convertToInteractive(key) {\n",
              "          const element = document.querySelector('#df-aa798581-4e0f-4cb6-b53f-10a4ae0b0942');\n",
              "          const dataTable =\n",
              "            await google.colab.kernel.invokeFunction('convertToInteractive',\n",
              "                                                     [key], {});\n",
              "          if (!dataTable) return;\n",
              "\n",
              "          const docLinkHtml = 'Like what you see? Visit the ' +\n",
              "            '<a target=\"_blank\" href=https://colab.research.google.com/notebooks/data_table.ipynb>data table notebook</a>'\n",
              "            + ' to learn more about interactive tables.';\n",
              "          element.innerHTML = '';\n",
              "          dataTable['output_type'] = 'display_data';\n",
              "          await google.colab.output.renderOutput(dataTable, element);\n",
              "          const docLink = document.createElement('div');\n",
              "          docLink.innerHTML = docLinkHtml;\n",
              "          element.appendChild(docLink);\n",
              "        }\n",
              "      </script>\n",
              "    </div>\n",
              "  </div>\n",
              "  "
            ]
          },
          "metadata": {},
          "execution_count": 39
        }
      ]
    },
    {
      "cell_type": "markdown",
      "source": [
        "### **h. Report the new shape (number of features)**"
      ],
      "metadata": {
        "id": "sy2mcEah-DUq"
      },
      "id": "sy2mcEah-DUq"
    },
    {
      "cell_type": "code",
      "source": [
        "data.shape"
      ],
      "metadata": {
        "colab": {
          "base_uri": "https://localhost:8080/"
        },
        "id": "WEkIqCZj2pGz",
        "outputId": "15a499da-5ed7-48d9-889c-18086330a07a"
      },
      "id": "WEkIqCZj2pGz",
      "execution_count": 40,
      "outputs": [
        {
          "output_type": "execute_result",
          "data": {
            "text/plain": [
              "(57797, 121)"
            ]
          },
          "metadata": {},
          "execution_count": 40
        }
      ]
    },
    {
      "cell_type": "markdown",
      "source": [
        "### **i. Apply principal component Analysis(PCA)**"
      ],
      "metadata": {
        "id": "i7oBaEak-Tvy"
      },
      "id": "i7oBaEak-Tvy"
    },
    {
      "cell_type": "code",
      "source": [
        "from sklearn.preprocessing import StandardScaler"
      ],
      "metadata": {
        "id": "XbZ0NX102ug5"
      },
      "id": "XbZ0NX102ug5",
      "execution_count": 41,
      "outputs": []
    },
    {
      "cell_type": "code",
      "source": [
        "scaler = StandardScaler()\n",
        "scaled_data = scaler.fit_transform(data.values)"
      ],
      "metadata": {
        "id": "mVp0xrKXNfvh"
      },
      "id": "mVp0xrKXNfvh",
      "execution_count": 42,
      "outputs": []
    },
    {
      "cell_type": "code",
      "source": [
        "scaled_df = pd.DataFrame(scaled_data)"
      ],
      "metadata": {
        "id": "jmTY_CdsNoV1"
      },
      "id": "jmTY_CdsNoV1",
      "execution_count": 43,
      "outputs": []
    },
    {
      "cell_type": "code",
      "source": [
        "scaled_df"
      ],
      "metadata": {
        "colab": {
          "base_uri": "https://localhost:8080/",
          "height": 487
        },
        "id": "L5WKLTwVQLIS",
        "outputId": "a380da6e-4129-4128-c2d6-712bf5a20411"
      },
      "id": "L5WKLTwVQLIS",
      "execution_count": 44,
      "outputs": [
        {
          "output_type": "execute_result",
          "data": {
            "text/plain": [
              "            0         1         2         3         4         5         6    \\\n",
              "0     -1.265520 -0.704991  0.271952  0.067087  0.521787  0.282594  0.204560   \n",
              "1     -0.682106  1.432869 -0.264268 -0.336281 -0.660185 -0.702974 -0.268887   \n",
              "2     -1.265520 -1.747848  0.789835  0.445015  0.818073  0.533504  0.562944   \n",
              "3     -0.098691  0.595925 -0.534415 -0.263645 -0.887560 -0.639876 -0.542315   \n",
              "4     -0.098691  0.404265 -0.284641 -0.272863 -0.677333 -0.647874 -0.314252   \n",
              "...         ...       ...       ...       ...       ...       ...       ...   \n",
              "57792 -0.682106  0.462784  0.795540  0.902953  1.095624  1.158556  0.788120   \n",
              "57793 -0.098691 -0.020785 -0.699845 -0.760666 -0.038078 -0.209153 -0.606651   \n",
              "57794 -0.682106 -0.114936  0.589364  0.506221  0.824107  0.726351  0.531601   \n",
              "57795  0.484724  0.949300 -0.754037 -0.758823 -0.224487 -0.342162 -0.852447   \n",
              "57796  2.234967  0.126403 -1.987016 -2.048939 -2.110179 -2.189175 -1.922239   \n",
              "\n",
              "            7         8         9    ...       111       112      113  \\\n",
              "0      0.054299  0.269411  0.153419  ... -0.229338 -0.052023 -0.10846   \n",
              "1     -0.347420 -0.766027 -0.809301  ... -0.229338 -0.052023 -0.10846   \n",
              "2      0.266380  0.631993  0.365873  ...  4.360368 -0.052023 -0.10846   \n",
              "3     -0.273734 -0.998651 -0.744654  ... -0.229338 -0.052023 -0.10846   \n",
              "4     -0.216506 -0.804364 -0.694576  ... -0.229338 -0.052023 -0.10846   \n",
              "...         ...       ...       ...  ...       ...       ...      ...   \n",
              "57792  0.811729  0.828229  0.794423  ... -0.229338 -0.052023 -0.10846   \n",
              "57793 -0.656751 -0.121761 -0.288789  ... -0.229338 -0.052023 -0.10846   \n",
              "57794  0.468361  0.436732  0.470582  ... -0.229338 -0.052023 -0.10846   \n",
              "57795 -0.869205 -0.518782 -0.518543  ... -0.229338 -0.052023 -0.10846   \n",
              "57796 -2.041446 -2.172494 -2.293748  ... -0.229338 -0.052023 -0.10846   \n",
              "\n",
              "            114       115       116       117       118       119       120  \n",
              "0     -0.249264 -0.158017 -0.478612 -0.110001 -0.153058 -0.043866 -0.061955  \n",
              "1     -0.249264 -0.158017 -0.478612 -0.110001 -0.153058 -0.043866 -0.061955  \n",
              "2     -0.249264 -0.158017 -0.478612 -0.110001 -0.153058 -0.043866 -0.061955  \n",
              "3     -0.249264 -0.158017 -0.478612 -0.110001 -0.153058 -0.043866 -0.061955  \n",
              "4     -0.249264 -0.158017  2.089374 -0.110001 -0.153058 -0.043866 -0.061955  \n",
              "...         ...       ...       ...       ...       ...       ...       ...  \n",
              "57792 -0.249264 -0.158017 -0.478612 -0.110001 -0.153058 -0.043866 -0.061955  \n",
              "57793 -0.249264 -0.158017 -0.478612 -0.110001 -0.153058 -0.043866 -0.061955  \n",
              "57794 -0.249264 -0.158017 -0.478612 -0.110001 -0.153058 -0.043866 -0.061955  \n",
              "57795 -0.249264 -0.158017  2.089374 -0.110001 -0.153058 -0.043866 -0.061955  \n",
              "57796  4.011813 -0.158017 -0.478612 -0.110001 -0.153058 -0.043866 -0.061955  \n",
              "\n",
              "[57797 rows x 121 columns]"
            ],
            "text/html": [
              "\n",
              "  <div id=\"df-d2bac5bd-46e1-4d38-b50a-3ce546a77a26\">\n",
              "    <div class=\"colab-df-container\">\n",
              "      <div>\n",
              "<style scoped>\n",
              "    .dataframe tbody tr th:only-of-type {\n",
              "        vertical-align: middle;\n",
              "    }\n",
              "\n",
              "    .dataframe tbody tr th {\n",
              "        vertical-align: top;\n",
              "    }\n",
              "\n",
              "    .dataframe thead th {\n",
              "        text-align: right;\n",
              "    }\n",
              "</style>\n",
              "<table border=\"1\" class=\"dataframe\">\n",
              "  <thead>\n",
              "    <tr style=\"text-align: right;\">\n",
              "      <th></th>\n",
              "      <th>0</th>\n",
              "      <th>1</th>\n",
              "      <th>2</th>\n",
              "      <th>3</th>\n",
              "      <th>4</th>\n",
              "      <th>5</th>\n",
              "      <th>6</th>\n",
              "      <th>7</th>\n",
              "      <th>8</th>\n",
              "      <th>9</th>\n",
              "      <th>...</th>\n",
              "      <th>111</th>\n",
              "      <th>112</th>\n",
              "      <th>113</th>\n",
              "      <th>114</th>\n",
              "      <th>115</th>\n",
              "      <th>116</th>\n",
              "      <th>117</th>\n",
              "      <th>118</th>\n",
              "      <th>119</th>\n",
              "      <th>120</th>\n",
              "    </tr>\n",
              "  </thead>\n",
              "  <tbody>\n",
              "    <tr>\n",
              "      <th>0</th>\n",
              "      <td>-1.265520</td>\n",
              "      <td>-0.704991</td>\n",
              "      <td>0.271952</td>\n",
              "      <td>0.067087</td>\n",
              "      <td>0.521787</td>\n",
              "      <td>0.282594</td>\n",
              "      <td>0.204560</td>\n",
              "      <td>0.054299</td>\n",
              "      <td>0.269411</td>\n",
              "      <td>0.153419</td>\n",
              "      <td>...</td>\n",
              "      <td>-0.229338</td>\n",
              "      <td>-0.052023</td>\n",
              "      <td>-0.10846</td>\n",
              "      <td>-0.249264</td>\n",
              "      <td>-0.158017</td>\n",
              "      <td>-0.478612</td>\n",
              "      <td>-0.110001</td>\n",
              "      <td>-0.153058</td>\n",
              "      <td>-0.043866</td>\n",
              "      <td>-0.061955</td>\n",
              "    </tr>\n",
              "    <tr>\n",
              "      <th>1</th>\n",
              "      <td>-0.682106</td>\n",
              "      <td>1.432869</td>\n",
              "      <td>-0.264268</td>\n",
              "      <td>-0.336281</td>\n",
              "      <td>-0.660185</td>\n",
              "      <td>-0.702974</td>\n",
              "      <td>-0.268887</td>\n",
              "      <td>-0.347420</td>\n",
              "      <td>-0.766027</td>\n",
              "      <td>-0.809301</td>\n",
              "      <td>...</td>\n",
              "      <td>-0.229338</td>\n",
              "      <td>-0.052023</td>\n",
              "      <td>-0.10846</td>\n",
              "      <td>-0.249264</td>\n",
              "      <td>-0.158017</td>\n",
              "      <td>-0.478612</td>\n",
              "      <td>-0.110001</td>\n",
              "      <td>-0.153058</td>\n",
              "      <td>-0.043866</td>\n",
              "      <td>-0.061955</td>\n",
              "    </tr>\n",
              "    <tr>\n",
              "      <th>2</th>\n",
              "      <td>-1.265520</td>\n",
              "      <td>-1.747848</td>\n",
              "      <td>0.789835</td>\n",
              "      <td>0.445015</td>\n",
              "      <td>0.818073</td>\n",
              "      <td>0.533504</td>\n",
              "      <td>0.562944</td>\n",
              "      <td>0.266380</td>\n",
              "      <td>0.631993</td>\n",
              "      <td>0.365873</td>\n",
              "      <td>...</td>\n",
              "      <td>4.360368</td>\n",
              "      <td>-0.052023</td>\n",
              "      <td>-0.10846</td>\n",
              "      <td>-0.249264</td>\n",
              "      <td>-0.158017</td>\n",
              "      <td>-0.478612</td>\n",
              "      <td>-0.110001</td>\n",
              "      <td>-0.153058</td>\n",
              "      <td>-0.043866</td>\n",
              "      <td>-0.061955</td>\n",
              "    </tr>\n",
              "    <tr>\n",
              "      <th>3</th>\n",
              "      <td>-0.098691</td>\n",
              "      <td>0.595925</td>\n",
              "      <td>-0.534415</td>\n",
              "      <td>-0.263645</td>\n",
              "      <td>-0.887560</td>\n",
              "      <td>-0.639876</td>\n",
              "      <td>-0.542315</td>\n",
              "      <td>-0.273734</td>\n",
              "      <td>-0.998651</td>\n",
              "      <td>-0.744654</td>\n",
              "      <td>...</td>\n",
              "      <td>-0.229338</td>\n",
              "      <td>-0.052023</td>\n",
              "      <td>-0.10846</td>\n",
              "      <td>-0.249264</td>\n",
              "      <td>-0.158017</td>\n",
              "      <td>-0.478612</td>\n",
              "      <td>-0.110001</td>\n",
              "      <td>-0.153058</td>\n",
              "      <td>-0.043866</td>\n",
              "      <td>-0.061955</td>\n",
              "    </tr>\n",
              "    <tr>\n",
              "      <th>4</th>\n",
              "      <td>-0.098691</td>\n",
              "      <td>0.404265</td>\n",
              "      <td>-0.284641</td>\n",
              "      <td>-0.272863</td>\n",
              "      <td>-0.677333</td>\n",
              "      <td>-0.647874</td>\n",
              "      <td>-0.314252</td>\n",
              "      <td>-0.216506</td>\n",
              "      <td>-0.804364</td>\n",
              "      <td>-0.694576</td>\n",
              "      <td>...</td>\n",
              "      <td>-0.229338</td>\n",
              "      <td>-0.052023</td>\n",
              "      <td>-0.10846</td>\n",
              "      <td>-0.249264</td>\n",
              "      <td>-0.158017</td>\n",
              "      <td>2.089374</td>\n",
              "      <td>-0.110001</td>\n",
              "      <td>-0.153058</td>\n",
              "      <td>-0.043866</td>\n",
              "      <td>-0.061955</td>\n",
              "    </tr>\n",
              "    <tr>\n",
              "      <th>...</th>\n",
              "      <td>...</td>\n",
              "      <td>...</td>\n",
              "      <td>...</td>\n",
              "      <td>...</td>\n",
              "      <td>...</td>\n",
              "      <td>...</td>\n",
              "      <td>...</td>\n",
              "      <td>...</td>\n",
              "      <td>...</td>\n",
              "      <td>...</td>\n",
              "      <td>...</td>\n",
              "      <td>...</td>\n",
              "      <td>...</td>\n",
              "      <td>...</td>\n",
              "      <td>...</td>\n",
              "      <td>...</td>\n",
              "      <td>...</td>\n",
              "      <td>...</td>\n",
              "      <td>...</td>\n",
              "      <td>...</td>\n",
              "      <td>...</td>\n",
              "    </tr>\n",
              "    <tr>\n",
              "      <th>57792</th>\n",
              "      <td>-0.682106</td>\n",
              "      <td>0.462784</td>\n",
              "      <td>0.795540</td>\n",
              "      <td>0.902953</td>\n",
              "      <td>1.095624</td>\n",
              "      <td>1.158556</td>\n",
              "      <td>0.788120</td>\n",
              "      <td>0.811729</td>\n",
              "      <td>0.828229</td>\n",
              "      <td>0.794423</td>\n",
              "      <td>...</td>\n",
              "      <td>-0.229338</td>\n",
              "      <td>-0.052023</td>\n",
              "      <td>-0.10846</td>\n",
              "      <td>-0.249264</td>\n",
              "      <td>-0.158017</td>\n",
              "      <td>-0.478612</td>\n",
              "      <td>-0.110001</td>\n",
              "      <td>-0.153058</td>\n",
              "      <td>-0.043866</td>\n",
              "      <td>-0.061955</td>\n",
              "    </tr>\n",
              "    <tr>\n",
              "      <th>57793</th>\n",
              "      <td>-0.098691</td>\n",
              "      <td>-0.020785</td>\n",
              "      <td>-0.699845</td>\n",
              "      <td>-0.760666</td>\n",
              "      <td>-0.038078</td>\n",
              "      <td>-0.209153</td>\n",
              "      <td>-0.606651</td>\n",
              "      <td>-0.656751</td>\n",
              "      <td>-0.121761</td>\n",
              "      <td>-0.288789</td>\n",
              "      <td>...</td>\n",
              "      <td>-0.229338</td>\n",
              "      <td>-0.052023</td>\n",
              "      <td>-0.10846</td>\n",
              "      <td>-0.249264</td>\n",
              "      <td>-0.158017</td>\n",
              "      <td>-0.478612</td>\n",
              "      <td>-0.110001</td>\n",
              "      <td>-0.153058</td>\n",
              "      <td>-0.043866</td>\n",
              "      <td>-0.061955</td>\n",
              "    </tr>\n",
              "    <tr>\n",
              "      <th>57794</th>\n",
              "      <td>-0.682106</td>\n",
              "      <td>-0.114936</td>\n",
              "      <td>0.589364</td>\n",
              "      <td>0.506221</td>\n",
              "      <td>0.824107</td>\n",
              "      <td>0.726351</td>\n",
              "      <td>0.531601</td>\n",
              "      <td>0.468361</td>\n",
              "      <td>0.436732</td>\n",
              "      <td>0.470582</td>\n",
              "      <td>...</td>\n",
              "      <td>-0.229338</td>\n",
              "      <td>-0.052023</td>\n",
              "      <td>-0.10846</td>\n",
              "      <td>-0.249264</td>\n",
              "      <td>-0.158017</td>\n",
              "      <td>-0.478612</td>\n",
              "      <td>-0.110001</td>\n",
              "      <td>-0.153058</td>\n",
              "      <td>-0.043866</td>\n",
              "      <td>-0.061955</td>\n",
              "    </tr>\n",
              "    <tr>\n",
              "      <th>57795</th>\n",
              "      <td>0.484724</td>\n",
              "      <td>0.949300</td>\n",
              "      <td>-0.754037</td>\n",
              "      <td>-0.758823</td>\n",
              "      <td>-0.224487</td>\n",
              "      <td>-0.342162</td>\n",
              "      <td>-0.852447</td>\n",
              "      <td>-0.869205</td>\n",
              "      <td>-0.518782</td>\n",
              "      <td>-0.518543</td>\n",
              "      <td>...</td>\n",
              "      <td>-0.229338</td>\n",
              "      <td>-0.052023</td>\n",
              "      <td>-0.10846</td>\n",
              "      <td>-0.249264</td>\n",
              "      <td>-0.158017</td>\n",
              "      <td>2.089374</td>\n",
              "      <td>-0.110001</td>\n",
              "      <td>-0.153058</td>\n",
              "      <td>-0.043866</td>\n",
              "      <td>-0.061955</td>\n",
              "    </tr>\n",
              "    <tr>\n",
              "      <th>57796</th>\n",
              "      <td>2.234967</td>\n",
              "      <td>0.126403</td>\n",
              "      <td>-1.987016</td>\n",
              "      <td>-2.048939</td>\n",
              "      <td>-2.110179</td>\n",
              "      <td>-2.189175</td>\n",
              "      <td>-1.922239</td>\n",
              "      <td>-2.041446</td>\n",
              "      <td>-2.172494</td>\n",
              "      <td>-2.293748</td>\n",
              "      <td>...</td>\n",
              "      <td>-0.229338</td>\n",
              "      <td>-0.052023</td>\n",
              "      <td>-0.10846</td>\n",
              "      <td>4.011813</td>\n",
              "      <td>-0.158017</td>\n",
              "      <td>-0.478612</td>\n",
              "      <td>-0.110001</td>\n",
              "      <td>-0.153058</td>\n",
              "      <td>-0.043866</td>\n",
              "      <td>-0.061955</td>\n",
              "    </tr>\n",
              "  </tbody>\n",
              "</table>\n",
              "<p>57797 rows × 121 columns</p>\n",
              "</div>\n",
              "      <button class=\"colab-df-convert\" onclick=\"convertToInteractive('df-d2bac5bd-46e1-4d38-b50a-3ce546a77a26')\"\n",
              "              title=\"Convert this dataframe to an interactive table.\"\n",
              "              style=\"display:none;\">\n",
              "        \n",
              "  <svg xmlns=\"http://www.w3.org/2000/svg\" height=\"24px\"viewBox=\"0 0 24 24\"\n",
              "       width=\"24px\">\n",
              "    <path d=\"M0 0h24v24H0V0z\" fill=\"none\"/>\n",
              "    <path d=\"M18.56 5.44l.94 2.06.94-2.06 2.06-.94-2.06-.94-.94-2.06-.94 2.06-2.06.94zm-11 1L8.5 8.5l.94-2.06 2.06-.94-2.06-.94L8.5 2.5l-.94 2.06-2.06.94zm10 10l.94 2.06.94-2.06 2.06-.94-2.06-.94-.94-2.06-.94 2.06-2.06.94z\"/><path d=\"M17.41 7.96l-1.37-1.37c-.4-.4-.92-.59-1.43-.59-.52 0-1.04.2-1.43.59L10.3 9.45l-7.72 7.72c-.78.78-.78 2.05 0 2.83L4 21.41c.39.39.9.59 1.41.59.51 0 1.02-.2 1.41-.59l7.78-7.78 2.81-2.81c.8-.78.8-2.07 0-2.86zM5.41 20L4 18.59l7.72-7.72 1.47 1.35L5.41 20z\"/>\n",
              "  </svg>\n",
              "      </button>\n",
              "      \n",
              "  <style>\n",
              "    .colab-df-container {\n",
              "      display:flex;\n",
              "      flex-wrap:wrap;\n",
              "      gap: 12px;\n",
              "    }\n",
              "\n",
              "    .colab-df-convert {\n",
              "      background-color: #E8F0FE;\n",
              "      border: none;\n",
              "      border-radius: 50%;\n",
              "      cursor: pointer;\n",
              "      display: none;\n",
              "      fill: #1967D2;\n",
              "      height: 32px;\n",
              "      padding: 0 0 0 0;\n",
              "      width: 32px;\n",
              "    }\n",
              "\n",
              "    .colab-df-convert:hover {\n",
              "      background-color: #E2EBFA;\n",
              "      box-shadow: 0px 1px 2px rgba(60, 64, 67, 0.3), 0px 1px 3px 1px rgba(60, 64, 67, 0.15);\n",
              "      fill: #174EA6;\n",
              "    }\n",
              "\n",
              "    [theme=dark] .colab-df-convert {\n",
              "      background-color: #3B4455;\n",
              "      fill: #D2E3FC;\n",
              "    }\n",
              "\n",
              "    [theme=dark] .colab-df-convert:hover {\n",
              "      background-color: #434B5C;\n",
              "      box-shadow: 0px 1px 3px 1px rgba(0, 0, 0, 0.15);\n",
              "      filter: drop-shadow(0px 1px 2px rgba(0, 0, 0, 0.3));\n",
              "      fill: #FFFFFF;\n",
              "    }\n",
              "  </style>\n",
              "\n",
              "      <script>\n",
              "        const buttonEl =\n",
              "          document.querySelector('#df-d2bac5bd-46e1-4d38-b50a-3ce546a77a26 button.colab-df-convert');\n",
              "        buttonEl.style.display =\n",
              "          google.colab.kernel.accessAllowed ? 'block' : 'none';\n",
              "\n",
              "        async function convertToInteractive(key) {\n",
              "          const element = document.querySelector('#df-d2bac5bd-46e1-4d38-b50a-3ce546a77a26');\n",
              "          const dataTable =\n",
              "            await google.colab.kernel.invokeFunction('convertToInteractive',\n",
              "                                                     [key], {});\n",
              "          if (!dataTable) return;\n",
              "\n",
              "          const docLinkHtml = 'Like what you see? Visit the ' +\n",
              "            '<a target=\"_blank\" href=https://colab.research.google.com/notebooks/data_table.ipynb>data table notebook</a>'\n",
              "            + ' to learn more about interactive tables.';\n",
              "          element.innerHTML = '';\n",
              "          dataTable['output_type'] = 'display_data';\n",
              "          await google.colab.output.renderOutput(dataTable, element);\n",
              "          const docLink = document.createElement('div');\n",
              "          docLink.innerHTML = docLinkHtml;\n",
              "          element.appendChild(docLink);\n",
              "        }\n",
              "      </script>\n",
              "    </div>\n",
              "  </div>\n",
              "  "
            ]
          },
          "metadata": {},
          "execution_count": 44
        }
      ]
    },
    {
      "cell_type": "code",
      "source": [
        "from sklearn.decomposition import PCA"
      ],
      "metadata": {
        "id": "OWFYMN5WQMfv"
      },
      "id": "OWFYMN5WQMfv",
      "execution_count": 45,
      "outputs": []
    },
    {
      "cell_type": "code",
      "source": [
        "sklearn_pca = PCA(n_components=2)"
      ],
      "metadata": {
        "id": "03mP7khBQQzY"
      },
      "id": "03mP7khBQQzY",
      "execution_count": 46,
      "outputs": []
    },
    {
      "cell_type": "code",
      "source": [
        "reduced_data = sklearn_pca.fit_transform(scaled_df.values)#ou sklearn_pca.fit_transform(scaled_data)"
      ],
      "metadata": {
        "id": "1k1HxDZOQS_q"
      },
      "id": "1k1HxDZOQS_q",
      "execution_count": 47,
      "outputs": []
    },
    {
      "cell_type": "code",
      "source": [
        "reduced_data"
      ],
      "metadata": {
        "id": "jo9R1wPvQVK3",
        "colab": {
          "base_uri": "https://localhost:8080/"
        },
        "outputId": "e853c419-1723-493e-a11d-b629e72d6bc3"
      },
      "id": "jo9R1wPvQVK3",
      "execution_count": 48,
      "outputs": [
        {
          "output_type": "execute_result",
          "data": {
            "text/plain": [
              "array([[ 0.3002095 , -2.58951694],\n",
              "       [-1.94601911, -1.11758627],\n",
              "       [ 2.0821806 , -4.50739787],\n",
              "       ...,\n",
              "       [ 1.80746518, -1.12109759],\n",
              "       [-1.97264395,  1.56091042],\n",
              "       [-6.76800198,  0.50077999]])"
            ]
          },
          "metadata": {},
          "execution_count": 48
        }
      ]
    },
    {
      "cell_type": "code",
      "source": [
        "print(data.shape)\n",
        "print(reduced_data.shape)"
      ],
      "metadata": {
        "id": "JtrR-H7eQXYW",
        "colab": {
          "base_uri": "https://localhost:8080/"
        },
        "outputId": "d85a6728-90a0-4bdb-b307-d4fa5942880d"
      },
      "id": "JtrR-H7eQXYW",
      "execution_count": 49,
      "outputs": [
        {
          "output_type": "stream",
          "name": "stdout",
          "text": [
            "(57797, 121)\n",
            "(57797, 2)\n"
          ]
        }
      ]
    },
    {
      "cell_type": "code",
      "source": [
        "print(\"Pourcentage de variance expliquée : \")\n",
        "print(sklearn_pca.explained_variance_ratio_)\n",
        "print(\"Composantes principales : \")\n",
        "print(sklearn_pca.components_)"
      ],
      "metadata": {
        "id": "HPv80itAQaP3",
        "colab": {
          "base_uri": "https://localhost:8080/"
        },
        "outputId": "77270ccc-b830-4ed5-efb6-69bdd4a7af59"
      },
      "id": "HPv80itAQaP3",
      "execution_count": 50,
      "outputs": [
        {
          "output_type": "stream",
          "name": "stdout",
          "text": [
            "Pourcentage de variance expliquée : \n",
            "[0.07305701 0.02768085]\n",
            "Composantes principales : \n",
            "[[-1.78164700e-01  2.21962533e-03  3.23880523e-01  3.22092780e-01\n",
            "   3.17263943e-01  3.17083623e-01  3.21816102e-01  3.21644634e-01\n",
            "   3.19831571e-01  3.20036816e-01 -1.24041256e-02  2.83789001e-01\n",
            "  -3.86825234e-02  2.41959150e-02  1.28575779e-04  7.53412879e-02\n",
            "  -1.30450453e-02 -1.24412539e-02  2.66485420e-02  4.29808871e-03\n",
            "  -7.75481427e-03  1.04974730e-02  1.32548001e-02 -7.28740561e-03\n",
            "   2.70552072e-02 -2.14754729e-02  1.23113822e-02  1.38980568e-02\n",
            "   5.87728279e-03 -2.71899445e-02  1.07477663e-02  4.46319015e-03\n",
            "   4.09233955e-02 -2.76857326e-02  1.97926247e-02  4.55751427e-03\n",
            "   3.91867550e-03 -1.96876437e-03  5.25512406e-03 -1.18188836e-02\n",
            "   2.31387384e-02 -3.09006064e-02 -3.41320608e-03 -5.97063808e-03\n",
            "  -3.32651996e-02  6.78159715e-03  7.53907964e-03 -3.27308212e-02\n",
            "   2.92220875e-02 -7.74917625e-04  9.51952079e-03  1.92555558e-02\n",
            "   1.20016403e-03  3.52066803e-02  2.93488723e-03  3.50603592e-03\n",
            "  -2.72370786e-02 -1.37512717e-02  2.73898194e-02 -7.12091168e-03\n",
            "  -9.32305353e-04  1.81456599e-03  2.34221413e-03 -6.26329221e-03\n",
            "  -5.05524727e-03 -1.07056770e-02 -8.41044330e-03 -9.58904257e-03\n",
            "   4.56918538e-02 -4.56918538e-02  4.04536288e-02 -4.04536288e-02\n",
            "  -9.52240408e-02  4.05074249e-02  3.41752857e-02  4.46882985e-02\n",
            "   5.60848503e-02 -5.94192810e-02  5.77237776e-02  2.64608291e-02\n",
            "  -1.55344544e-02  7.20331874e-02  5.38997106e-03 -3.74380602e-02\n",
            "   4.80570198e-03 -5.62068883e-03 -4.25598844e-03 -1.34617785e-03\n",
            "  -8.32618748e-03 -2.54229663e-02 -5.47122646e-03  2.61157720e-03\n",
            "   2.39069075e-03  9.54389588e-03  2.23472335e-03  1.37221846e-02\n",
            "  -1.89644774e-03  3.43906376e-04 -5.45882115e-03 -7.73154941e-04\n",
            "   6.11337402e-03  2.51771289e-03  1.56721351e-03 -6.91814807e-03\n",
            "   1.67137475e-03  2.36540865e-02  8.54727811e-04 -4.45771310e-03\n",
            "  -7.99373218e-03  5.13191945e-03  1.71645350e-02  3.60398508e-02\n",
            "   3.97895592e-03 -5.63253171e-03 -7.39030497e-03 -3.72205034e-03\n",
            "   1.26971121e-02  8.03396172e-03  9.86962057e-04  2.30673711e-03\n",
            "   7.47931781e-03]\n",
            " [ 3.08222315e-01  3.05828430e-01 -1.84927131e-02  1.58196411e-02\n",
            "  -2.00353241e-02  9.40495319e-03 -2.60613588e-02  6.50741152e-03\n",
            "  -2.89355332e-02 -2.26024918e-04  2.73873771e-01  5.53580090e-02\n",
            "   9.04997804e-02 -2.37508697e-02 -1.65569535e-02 -1.84118212e-02\n",
            "   4.00707391e-02  1.40523347e-01 -2.00703939e-01  1.37840313e-02\n",
            "   4.95325261e-02  1.23149822e-02  5.46468381e-02 -1.41225935e-01\n",
            "  -1.10835000e-01  1.50408777e-01  7.87224362e-02 -1.22195089e-04\n",
            "   1.20952577e-03 -3.32739089e-02  1.57002910e-02  2.82924442e-02\n",
            "   9.36047548e-02 -8.10651008e-02  1.13018810e-02  2.98873018e-02\n",
            "   2.41049344e-02  3.81631874e-02  1.37720379e-02 -9.17699962e-03\n",
            "   8.70999584e-03  1.34225811e-02  4.86896460e-04  5.60651009e-02\n",
            "  -1.34708405e-02 -1.74435413e-02  2.86149222e-03 -9.67210863e-02\n",
            "  -3.61299385e-02 -4.48908381e-05  5.18127564e-04  6.75847627e-03\n",
            "  -2.37034933e-03 -1.49327652e-02 -3.28351161e-02  2.51652003e-02\n",
            "   3.04246263e-02  4.74756489e-02  3.03084001e-02  3.28404438e-02\n",
            "  -1.25316456e-02 -4.69200020e-02  6.53245297e-03 -3.22995095e-03\n",
            "  -1.51545574e-02 -3.14898092e-02  4.59938475e-03  1.71371961e-02\n",
            "   3.78871996e-02 -3.78871996e-02  3.87454175e-01 -3.87454175e-01\n",
            "  -4.11181136e-02  2.37827777e-02  1.02951697e-01  1.17033919e-01\n",
            "   8.36847148e-02 -3.02915412e-01  1.92648985e-01  9.39684960e-02\n",
            "   3.92772800e-02 -3.21347315e-02  4.87337651e-02  3.97601239e-02\n",
            "  -1.70036653e-02  1.45423138e-02 -3.44016206e-02  5.72302807e-05\n",
            "   3.89925465e-02  2.54621048e-02  4.03180821e-02 -1.85067046e-03\n",
            "  -8.25227021e-03 -3.72158594e-03  3.29942177e-03 -1.57368229e-02\n",
            "   9.99953041e-03  3.50725480e-03 -4.81940835e-03 -1.01591859e-02\n",
            "  -2.95587412e-03  8.42108448e-03 -1.87435343e-02  2.97663988e-02\n",
            "  -5.34627260e-03 -4.63305372e-02 -3.76654083e-04  7.89068919e-03\n",
            "   2.67851552e-02 -1.28019900e-03  4.11905407e-03 -2.25610408e-01\n",
            "  -1.24375325e-02  1.16965428e-02 -1.38581209e-04  9.18164746e-03\n",
            "   5.87454892e-02 -4.09087706e-03  1.70046547e-02 -7.08105929e-03\n",
            "  -1.01258873e-02]]\n"
          ]
        }
      ]
    },
    {
      "cell_type": "markdown",
      "source": [
        "# **Part 2 : @Pr RADGUI**"
      ],
      "metadata": {
        "id": "oywhzYqT-m96"
      },
      "id": "oywhzYqT-m96"
    },
    {
      "cell_type": "markdown",
      "source": [
        "## **1. Apply the following classification models**\n"
      ],
      "metadata": {
        "id": "dtC1c0OB-uDL"
      },
      "id": "dtC1c0OB-uDL"
    },
    {
      "cell_type": "markdown",
      "source": [
        "### **Logistic regression**"
      ],
      "metadata": {
        "id": "0VpTp8n5-1FU"
      },
      "id": "0VpTp8n5-1FU"
    },
    {
      "cell_type": "markdown",
      "source": [
        "Model Construction"
      ],
      "metadata": {
        "id": "3ADT4jnvRydM"
      },
      "id": "3ADT4jnvRydM"
    },
    {
      "cell_type": "code",
      "source": [
        "from sklearn.linear_model import LogisticRegression\n",
        "from sklearn.neighbors import KNeighborsClassifier # KNN\n",
        "from sklearn.svm import SVC\n",
        "from sklearn import datasets\n",
        "from sklearn.model_selection import train_test_split\n",
        "from sklearn.linear_model import LogisticRegression"
      ],
      "metadata": {
        "id": "M1buszgsTmiD"
      },
      "id": "M1buszgsTmiD",
      "execution_count": null,
      "outputs": []
    },
    {
      "cell_type": "code",
      "source": [
        "x = data.drop(columns='IsBadBuy')\n",
        "y = data['IsBadBuy']\n",
        "x_train, x_test, y_train, y_test = train_test_split(x, y, test_size = 0.25, random_state=0)\n"
      ],
      "metadata": {
        "id": "HhzADXPrRzB0"
      },
      "id": "HhzADXPrRzB0",
      "execution_count": null,
      "outputs": []
    },
    {
      "cell_type": "code",
      "source": [
        "data"
      ],
      "metadata": {
        "id": "JIN17u5CVWxg",
        "colab": {
          "base_uri": "https://localhost:8080/",
          "height": 487
        },
        "outputId": "daf5da93-2a75-4440-ac09-8ad88058fcbb"
      },
      "id": "JIN17u5CVWxg",
      "execution_count": null,
      "outputs": [
        {
          "output_type": "execute_result",
          "data": {
            "text/plain": [
              "       VehicleAge    VehOdo  MMRAcquisitionAuctionAveragePrice  \\\n",
              "0       -1.265509 -0.704985                           0.271949   \n",
              "1       -0.682100  1.432857                          -0.264266   \n",
              "2       -1.265509 -1.747832                           0.789829   \n",
              "3       -0.098690  0.595920                          -0.534411   \n",
              "4       -0.098690  0.404262                          -0.284639   \n",
              "...           ...       ...                                ...   \n",
              "58381   -0.682100  0.462780                           0.795533   \n",
              "58382   -0.098690 -0.020785                          -0.699839   \n",
              "58383   -0.682100 -0.114935                           0.589359   \n",
              "58384    0.484719  0.949292                          -0.754031   \n",
              "58385    2.234948  0.126402                          -1.986999   \n",
              "\n",
              "       MMRAcquisitionAuctionCleanPrice  MMRAcquisitionRetailAveragePrice  \\\n",
              "0                             0.067087                          0.521782   \n",
              "1                            -0.336278                         -0.660179   \n",
              "2                             0.445011                          0.818066   \n",
              "3                            -0.263643                         -0.887552   \n",
              "4                            -0.272861                         -0.677327   \n",
              "...                                ...                               ...   \n",
              "58381                         0.902945                          1.095614   \n",
              "58382                        -0.760660                         -0.038077   \n",
              "58383                         0.506217                          0.824100   \n",
              "58384                        -0.758816                         -0.224486   \n",
              "58385                        -2.048921                         -2.110161   \n",
              "\n",
              "       MMRAcquisitonRetailCleanPrice  MMRCurrentAuctionAveragePrice  \\\n",
              "0                           0.282592                       0.204558   \n",
              "1                          -0.702968                      -0.268885   \n",
              "2                           0.533499                       0.562940   \n",
              "3                          -0.639870                      -0.542310   \n",
              "4                          -0.647869                      -0.314249   \n",
              "...                              ...                            ...   \n",
              "58381                       1.158546                       0.788114   \n",
              "58382                      -0.209151                      -0.606646   \n",
              "58383                       0.726345                       0.531597   \n",
              "58384                      -0.342159                      -0.852440   \n",
              "58385                      -2.189156                      -1.922223   \n",
              "\n",
              "       MMRCurrentAuctionCleanPrice  MMRCurrentRetailAveragePrice  \\\n",
              "0                         0.054299                      0.269409   \n",
              "1                        -0.347417                     -0.766020   \n",
              "2                         0.266377                      0.631988   \n",
              "3                        -0.273731                     -0.998642   \n",
              "4                        -0.216504                     -0.804357   \n",
              "...                            ...                           ...   \n",
              "58381                     0.811722                      0.828222   \n",
              "58382                    -0.656745                     -0.121760   \n",
              "58383                     0.468357                      0.436728   \n",
              "58384                    -0.869198                     -0.518778   \n",
              "58385                    -2.041428                     -2.172475   \n",
              "\n",
              "       MMRCurrentRetailCleanPrice  ...  VNST_OK  VNST_OR  VNST_PA  VNST_SC  \\\n",
              "0                        0.153418  ...        0        0        0        0   \n",
              "1                       -0.809294  ...        0        0        0        0   \n",
              "2                        0.365870  ...        1        0        0        0   \n",
              "3                       -0.744648  ...        0        0        0        0   \n",
              "4                       -0.694570  ...        0        0        0        0   \n",
              "...                           ...  ...      ...      ...      ...      ...   \n",
              "58381                    0.794416  ...        0        0        0        0   \n",
              "58382                   -0.288786  ...        0        0        0        0   \n",
              "58383                    0.470578  ...        0        0        0        0   \n",
              "58384                   -0.518538  ...        0        0        0        0   \n",
              "58385                   -2.293728  ...        0        0        0        1   \n",
              "\n",
              "       VNST_TN  VNST_TX  VNST_UT  VNST_VA  VNST_WA  VNST_WV  \n",
              "0            0        0        0        0        0        0  \n",
              "1            0        0        0        0        0        0  \n",
              "2            0        0        0        0        0        0  \n",
              "3            0        0        0        0        0        0  \n",
              "4            0        1        0        0        0        0  \n",
              "...        ...      ...      ...      ...      ...      ...  \n",
              "58381        0        0        0        0        0        0  \n",
              "58382        0        0        0        0        0        0  \n",
              "58383        0        0        0        0        0        0  \n",
              "58384        0        1        0        0        0        0  \n",
              "58385        0        0        0        0        0        0  \n",
              "\n",
              "[57797 rows x 121 columns]"
            ],
            "text/html": [
              "\n",
              "  <div id=\"df-4f2691d4-6abb-4ae4-8276-a3311ded78f5\">\n",
              "    <div class=\"colab-df-container\">\n",
              "      <div>\n",
              "<style scoped>\n",
              "    .dataframe tbody tr th:only-of-type {\n",
              "        vertical-align: middle;\n",
              "    }\n",
              "\n",
              "    .dataframe tbody tr th {\n",
              "        vertical-align: top;\n",
              "    }\n",
              "\n",
              "    .dataframe thead th {\n",
              "        text-align: right;\n",
              "    }\n",
              "</style>\n",
              "<table border=\"1\" class=\"dataframe\">\n",
              "  <thead>\n",
              "    <tr style=\"text-align: right;\">\n",
              "      <th></th>\n",
              "      <th>VehicleAge</th>\n",
              "      <th>VehOdo</th>\n",
              "      <th>MMRAcquisitionAuctionAveragePrice</th>\n",
              "      <th>MMRAcquisitionAuctionCleanPrice</th>\n",
              "      <th>MMRAcquisitionRetailAveragePrice</th>\n",
              "      <th>MMRAcquisitonRetailCleanPrice</th>\n",
              "      <th>MMRCurrentAuctionAveragePrice</th>\n",
              "      <th>MMRCurrentAuctionCleanPrice</th>\n",
              "      <th>MMRCurrentRetailAveragePrice</th>\n",
              "      <th>MMRCurrentRetailCleanPrice</th>\n",
              "      <th>...</th>\n",
              "      <th>VNST_OK</th>\n",
              "      <th>VNST_OR</th>\n",
              "      <th>VNST_PA</th>\n",
              "      <th>VNST_SC</th>\n",
              "      <th>VNST_TN</th>\n",
              "      <th>VNST_TX</th>\n",
              "      <th>VNST_UT</th>\n",
              "      <th>VNST_VA</th>\n",
              "      <th>VNST_WA</th>\n",
              "      <th>VNST_WV</th>\n",
              "    </tr>\n",
              "  </thead>\n",
              "  <tbody>\n",
              "    <tr>\n",
              "      <th>0</th>\n",
              "      <td>-1.265509</td>\n",
              "      <td>-0.704985</td>\n",
              "      <td>0.271949</td>\n",
              "      <td>0.067087</td>\n",
              "      <td>0.521782</td>\n",
              "      <td>0.282592</td>\n",
              "      <td>0.204558</td>\n",
              "      <td>0.054299</td>\n",
              "      <td>0.269409</td>\n",
              "      <td>0.153418</td>\n",
              "      <td>...</td>\n",
              "      <td>0</td>\n",
              "      <td>0</td>\n",
              "      <td>0</td>\n",
              "      <td>0</td>\n",
              "      <td>0</td>\n",
              "      <td>0</td>\n",
              "      <td>0</td>\n",
              "      <td>0</td>\n",
              "      <td>0</td>\n",
              "      <td>0</td>\n",
              "    </tr>\n",
              "    <tr>\n",
              "      <th>1</th>\n",
              "      <td>-0.682100</td>\n",
              "      <td>1.432857</td>\n",
              "      <td>-0.264266</td>\n",
              "      <td>-0.336278</td>\n",
              "      <td>-0.660179</td>\n",
              "      <td>-0.702968</td>\n",
              "      <td>-0.268885</td>\n",
              "      <td>-0.347417</td>\n",
              "      <td>-0.766020</td>\n",
              "      <td>-0.809294</td>\n",
              "      <td>...</td>\n",
              "      <td>0</td>\n",
              "      <td>0</td>\n",
              "      <td>0</td>\n",
              "      <td>0</td>\n",
              "      <td>0</td>\n",
              "      <td>0</td>\n",
              "      <td>0</td>\n",
              "      <td>0</td>\n",
              "      <td>0</td>\n",
              "      <td>0</td>\n",
              "    </tr>\n",
              "    <tr>\n",
              "      <th>2</th>\n",
              "      <td>-1.265509</td>\n",
              "      <td>-1.747832</td>\n",
              "      <td>0.789829</td>\n",
              "      <td>0.445011</td>\n",
              "      <td>0.818066</td>\n",
              "      <td>0.533499</td>\n",
              "      <td>0.562940</td>\n",
              "      <td>0.266377</td>\n",
              "      <td>0.631988</td>\n",
              "      <td>0.365870</td>\n",
              "      <td>...</td>\n",
              "      <td>1</td>\n",
              "      <td>0</td>\n",
              "      <td>0</td>\n",
              "      <td>0</td>\n",
              "      <td>0</td>\n",
              "      <td>0</td>\n",
              "      <td>0</td>\n",
              "      <td>0</td>\n",
              "      <td>0</td>\n",
              "      <td>0</td>\n",
              "    </tr>\n",
              "    <tr>\n",
              "      <th>3</th>\n",
              "      <td>-0.098690</td>\n",
              "      <td>0.595920</td>\n",
              "      <td>-0.534411</td>\n",
              "      <td>-0.263643</td>\n",
              "      <td>-0.887552</td>\n",
              "      <td>-0.639870</td>\n",
              "      <td>-0.542310</td>\n",
              "      <td>-0.273731</td>\n",
              "      <td>-0.998642</td>\n",
              "      <td>-0.744648</td>\n",
              "      <td>...</td>\n",
              "      <td>0</td>\n",
              "      <td>0</td>\n",
              "      <td>0</td>\n",
              "      <td>0</td>\n",
              "      <td>0</td>\n",
              "      <td>0</td>\n",
              "      <td>0</td>\n",
              "      <td>0</td>\n",
              "      <td>0</td>\n",
              "      <td>0</td>\n",
              "    </tr>\n",
              "    <tr>\n",
              "      <th>4</th>\n",
              "      <td>-0.098690</td>\n",
              "      <td>0.404262</td>\n",
              "      <td>-0.284639</td>\n",
              "      <td>-0.272861</td>\n",
              "      <td>-0.677327</td>\n",
              "      <td>-0.647869</td>\n",
              "      <td>-0.314249</td>\n",
              "      <td>-0.216504</td>\n",
              "      <td>-0.804357</td>\n",
              "      <td>-0.694570</td>\n",
              "      <td>...</td>\n",
              "      <td>0</td>\n",
              "      <td>0</td>\n",
              "      <td>0</td>\n",
              "      <td>0</td>\n",
              "      <td>0</td>\n",
              "      <td>1</td>\n",
              "      <td>0</td>\n",
              "      <td>0</td>\n",
              "      <td>0</td>\n",
              "      <td>0</td>\n",
              "    </tr>\n",
              "    <tr>\n",
              "      <th>...</th>\n",
              "      <td>...</td>\n",
              "      <td>...</td>\n",
              "      <td>...</td>\n",
              "      <td>...</td>\n",
              "      <td>...</td>\n",
              "      <td>...</td>\n",
              "      <td>...</td>\n",
              "      <td>...</td>\n",
              "      <td>...</td>\n",
              "      <td>...</td>\n",
              "      <td>...</td>\n",
              "      <td>...</td>\n",
              "      <td>...</td>\n",
              "      <td>...</td>\n",
              "      <td>...</td>\n",
              "      <td>...</td>\n",
              "      <td>...</td>\n",
              "      <td>...</td>\n",
              "      <td>...</td>\n",
              "      <td>...</td>\n",
              "      <td>...</td>\n",
              "    </tr>\n",
              "    <tr>\n",
              "      <th>58381</th>\n",
              "      <td>-0.682100</td>\n",
              "      <td>0.462780</td>\n",
              "      <td>0.795533</td>\n",
              "      <td>0.902945</td>\n",
              "      <td>1.095614</td>\n",
              "      <td>1.158546</td>\n",
              "      <td>0.788114</td>\n",
              "      <td>0.811722</td>\n",
              "      <td>0.828222</td>\n",
              "      <td>0.794416</td>\n",
              "      <td>...</td>\n",
              "      <td>0</td>\n",
              "      <td>0</td>\n",
              "      <td>0</td>\n",
              "      <td>0</td>\n",
              "      <td>0</td>\n",
              "      <td>0</td>\n",
              "      <td>0</td>\n",
              "      <td>0</td>\n",
              "      <td>0</td>\n",
              "      <td>0</td>\n",
              "    </tr>\n",
              "    <tr>\n",
              "      <th>58382</th>\n",
              "      <td>-0.098690</td>\n",
              "      <td>-0.020785</td>\n",
              "      <td>-0.699839</td>\n",
              "      <td>-0.760660</td>\n",
              "      <td>-0.038077</td>\n",
              "      <td>-0.209151</td>\n",
              "      <td>-0.606646</td>\n",
              "      <td>-0.656745</td>\n",
              "      <td>-0.121760</td>\n",
              "      <td>-0.288786</td>\n",
              "      <td>...</td>\n",
              "      <td>0</td>\n",
              "      <td>0</td>\n",
              "      <td>0</td>\n",
              "      <td>0</td>\n",
              "      <td>0</td>\n",
              "      <td>0</td>\n",
              "      <td>0</td>\n",
              "      <td>0</td>\n",
              "      <td>0</td>\n",
              "      <td>0</td>\n",
              "    </tr>\n",
              "    <tr>\n",
              "      <th>58383</th>\n",
              "      <td>-0.682100</td>\n",
              "      <td>-0.114935</td>\n",
              "      <td>0.589359</td>\n",
              "      <td>0.506217</td>\n",
              "      <td>0.824100</td>\n",
              "      <td>0.726345</td>\n",
              "      <td>0.531597</td>\n",
              "      <td>0.468357</td>\n",
              "      <td>0.436728</td>\n",
              "      <td>0.470578</td>\n",
              "      <td>...</td>\n",
              "      <td>0</td>\n",
              "      <td>0</td>\n",
              "      <td>0</td>\n",
              "      <td>0</td>\n",
              "      <td>0</td>\n",
              "      <td>0</td>\n",
              "      <td>0</td>\n",
              "      <td>0</td>\n",
              "      <td>0</td>\n",
              "      <td>0</td>\n",
              "    </tr>\n",
              "    <tr>\n",
              "      <th>58384</th>\n",
              "      <td>0.484719</td>\n",
              "      <td>0.949292</td>\n",
              "      <td>-0.754031</td>\n",
              "      <td>-0.758816</td>\n",
              "      <td>-0.224486</td>\n",
              "      <td>-0.342159</td>\n",
              "      <td>-0.852440</td>\n",
              "      <td>-0.869198</td>\n",
              "      <td>-0.518778</td>\n",
              "      <td>-0.518538</td>\n",
              "      <td>...</td>\n",
              "      <td>0</td>\n",
              "      <td>0</td>\n",
              "      <td>0</td>\n",
              "      <td>0</td>\n",
              "      <td>0</td>\n",
              "      <td>1</td>\n",
              "      <td>0</td>\n",
              "      <td>0</td>\n",
              "      <td>0</td>\n",
              "      <td>0</td>\n",
              "    </tr>\n",
              "    <tr>\n",
              "      <th>58385</th>\n",
              "      <td>2.234948</td>\n",
              "      <td>0.126402</td>\n",
              "      <td>-1.986999</td>\n",
              "      <td>-2.048921</td>\n",
              "      <td>-2.110161</td>\n",
              "      <td>-2.189156</td>\n",
              "      <td>-1.922223</td>\n",
              "      <td>-2.041428</td>\n",
              "      <td>-2.172475</td>\n",
              "      <td>-2.293728</td>\n",
              "      <td>...</td>\n",
              "      <td>0</td>\n",
              "      <td>0</td>\n",
              "      <td>0</td>\n",
              "      <td>1</td>\n",
              "      <td>0</td>\n",
              "      <td>0</td>\n",
              "      <td>0</td>\n",
              "      <td>0</td>\n",
              "      <td>0</td>\n",
              "      <td>0</td>\n",
              "    </tr>\n",
              "  </tbody>\n",
              "</table>\n",
              "<p>57797 rows × 121 columns</p>\n",
              "</div>\n",
              "      <button class=\"colab-df-convert\" onclick=\"convertToInteractive('df-4f2691d4-6abb-4ae4-8276-a3311ded78f5')\"\n",
              "              title=\"Convert this dataframe to an interactive table.\"\n",
              "              style=\"display:none;\">\n",
              "        \n",
              "  <svg xmlns=\"http://www.w3.org/2000/svg\" height=\"24px\"viewBox=\"0 0 24 24\"\n",
              "       width=\"24px\">\n",
              "    <path d=\"M0 0h24v24H0V0z\" fill=\"none\"/>\n",
              "    <path d=\"M18.56 5.44l.94 2.06.94-2.06 2.06-.94-2.06-.94-.94-2.06-.94 2.06-2.06.94zm-11 1L8.5 8.5l.94-2.06 2.06-.94-2.06-.94L8.5 2.5l-.94 2.06-2.06.94zm10 10l.94 2.06.94-2.06 2.06-.94-2.06-.94-.94-2.06-.94 2.06-2.06.94z\"/><path d=\"M17.41 7.96l-1.37-1.37c-.4-.4-.92-.59-1.43-.59-.52 0-1.04.2-1.43.59L10.3 9.45l-7.72 7.72c-.78.78-.78 2.05 0 2.83L4 21.41c.39.39.9.59 1.41.59.51 0 1.02-.2 1.41-.59l7.78-7.78 2.81-2.81c.8-.78.8-2.07 0-2.86zM5.41 20L4 18.59l7.72-7.72 1.47 1.35L5.41 20z\"/>\n",
              "  </svg>\n",
              "      </button>\n",
              "      \n",
              "  <style>\n",
              "    .colab-df-container {\n",
              "      display:flex;\n",
              "      flex-wrap:wrap;\n",
              "      gap: 12px;\n",
              "    }\n",
              "\n",
              "    .colab-df-convert {\n",
              "      background-color: #E8F0FE;\n",
              "      border: none;\n",
              "      border-radius: 50%;\n",
              "      cursor: pointer;\n",
              "      display: none;\n",
              "      fill: #1967D2;\n",
              "      height: 32px;\n",
              "      padding: 0 0 0 0;\n",
              "      width: 32px;\n",
              "    }\n",
              "\n",
              "    .colab-df-convert:hover {\n",
              "      background-color: #E2EBFA;\n",
              "      box-shadow: 0px 1px 2px rgba(60, 64, 67, 0.3), 0px 1px 3px 1px rgba(60, 64, 67, 0.15);\n",
              "      fill: #174EA6;\n",
              "    }\n",
              "\n",
              "    [theme=dark] .colab-df-convert {\n",
              "      background-color: #3B4455;\n",
              "      fill: #D2E3FC;\n",
              "    }\n",
              "\n",
              "    [theme=dark] .colab-df-convert:hover {\n",
              "      background-color: #434B5C;\n",
              "      box-shadow: 0px 1px 3px 1px rgba(0, 0, 0, 0.15);\n",
              "      filter: drop-shadow(0px 1px 2px rgba(0, 0, 0, 0.3));\n",
              "      fill: #FFFFFF;\n",
              "    }\n",
              "  </style>\n",
              "\n",
              "      <script>\n",
              "        const buttonEl =\n",
              "          document.querySelector('#df-4f2691d4-6abb-4ae4-8276-a3311ded78f5 button.colab-df-convert');\n",
              "        buttonEl.style.display =\n",
              "          google.colab.kernel.accessAllowed ? 'block' : 'none';\n",
              "\n",
              "        async function convertToInteractive(key) {\n",
              "          const element = document.querySelector('#df-4f2691d4-6abb-4ae4-8276-a3311ded78f5');\n",
              "          const dataTable =\n",
              "            await google.colab.kernel.invokeFunction('convertToInteractive',\n",
              "                                                     [key], {});\n",
              "          if (!dataTable) return;\n",
              "\n",
              "          const docLinkHtml = 'Like what you see? Visit the ' +\n",
              "            '<a target=\"_blank\" href=https://colab.research.google.com/notebooks/data_table.ipynb>data table notebook</a>'\n",
              "            + ' to learn more about interactive tables.';\n",
              "          element.innerHTML = '';\n",
              "          dataTable['output_type'] = 'display_data';\n",
              "          await google.colab.output.renderOutput(dataTable, element);\n",
              "          const docLink = document.createElement('div');\n",
              "          docLink.innerHTML = docLinkHtml;\n",
              "          element.appendChild(docLink);\n",
              "        }\n",
              "      </script>\n",
              "    </div>\n",
              "  </div>\n",
              "  "
            ]
          },
          "metadata": {},
          "execution_count": 41
        }
      ]
    },
    {
      "cell_type": "code",
      "source": [
        "print(x.shape, y.shape)\n"
      ],
      "metadata": {
        "id": "1UIcLBfpSf72",
        "colab": {
          "base_uri": "https://localhost:8080/"
        },
        "outputId": "64a4e06b-67c5-474a-d103-a3128fb3142d"
      },
      "id": "1UIcLBfpSf72",
      "execution_count": null,
      "outputs": [
        {
          "output_type": "stream",
          "name": "stdout",
          "text": [
            "(57797, 120) (57797,)\n"
          ]
        }
      ]
    },
    {
      "cell_type": "code",
      "source": [
        "LG = LogisticRegression()"
      ],
      "metadata": {
        "id": "oLl_teKbTMrH"
      },
      "id": "oLl_teKbTMrH",
      "execution_count": null,
      "outputs": []
    },
    {
      "cell_type": "code",
      "source": [
        "LG.fit(x_train,y_train)"
      ],
      "metadata": {
        "id": "Jr0O_Q54ThBi",
        "colab": {
          "base_uri": "https://localhost:8080/"
        },
        "outputId": "2a462653-b25f-48ae-9a9a-260aa4684a00"
      },
      "id": "Jr0O_Q54ThBi",
      "execution_count": null,
      "outputs": [
        {
          "output_type": "execute_result",
          "data": {
            "text/plain": [
              "LogisticRegression()"
            ]
          },
          "metadata": {},
          "execution_count": 44
        }
      ]
    },
    {
      "cell_type": "code",
      "source": [
        "y_pred = LG.predict(x_test)\n",
        "y_pred2 = LG.predict(x_train)"
      ],
      "metadata": {
        "id": "PVcj6pvsTqsN"
      },
      "id": "PVcj6pvsTqsN",
      "execution_count": null,
      "outputs": []
    },
    {
      "cell_type": "code",
      "source": [
        "#performance\n",
        "from sklearn.metrics import accuracy_score\n",
        "score_train = accuracy_score(y_train,y_pred2)\n",
        "print(' Score de performance entrainnement:')\n",
        "print(score_train)\n",
        "score_test = accuracy_score(y_test,y_pred)\n",
        "print(' Score de performance test:')\n",
        "print(score_test)"
      ],
      "metadata": {
        "id": "ut-yLKiE6Q_K",
        "colab": {
          "base_uri": "https://localhost:8080/"
        },
        "outputId": "e17497ec-0f44-46e3-e18d-37a68e7af7e1"
      },
      "id": "ut-yLKiE6Q_K",
      "execution_count": null,
      "outputs": [
        {
          "output_type": "stream",
          "name": "stdout",
          "text": [
            " Score de performance entrainnement:\n",
            "0.8767158050153413\n",
            " Score de performance test:\n",
            "0.8757785467128028\n"
          ]
        }
      ]
    },
    {
      "cell_type": "code",
      "source": [
        "from sklearn.metrics import confusion_matrix\n",
        "cm = confusion_matrix(y_test,y_pred)\n",
        "print(\"matrice de confusion\")\n",
        "print(cm)"
      ],
      "metadata": {
        "id": "OEpmC01h6mH4",
        "colab": {
          "base_uri": "https://localhost:8080/"
        },
        "outputId": "d341e2e4-b861-418c-b56e-cd6ae98e353a"
      },
      "id": "OEpmC01h6mH4",
      "execution_count": null,
      "outputs": [
        {
          "output_type": "stream",
          "name": "stdout",
          "text": [
            "matrice de confusion\n",
            "[[12653     5]\n",
            " [ 1790     2]]\n"
          ]
        }
      ]
    },
    {
      "cell_type": "markdown",
      "source": [
        "### **Support Vector machine**"
      ],
      "metadata": {
        "id": "_HD6hCO5_L33"
      },
      "id": "_HD6hCO5_L33"
    },
    {
      "cell_type": "code",
      "source": [
        "svm= SVC()"
      ],
      "metadata": {
        "id": "U2Aky6ux7AfU"
      },
      "id": "U2Aky6ux7AfU",
      "execution_count": null,
      "outputs": []
    },
    {
      "cell_type": "code",
      "source": [
        "svm.fit(x_train,y_train)"
      ],
      "metadata": {
        "id": "zUjU4wLd7FsY",
        "colab": {
          "base_uri": "https://localhost:8080/"
        },
        "outputId": "193990b5-5d23-43fc-a784-47c387001081"
      },
      "id": "zUjU4wLd7FsY",
      "execution_count": null,
      "outputs": [
        {
          "output_type": "execute_result",
          "data": {
            "text/plain": [
              "SVC()"
            ]
          },
          "metadata": {},
          "execution_count": 55
        }
      ]
    },
    {
      "cell_type": "code",
      "source": [
        "y_pred_svm = svm.predict(x_test)\n",
        "y_pred2_svm = svm.predict(x_train)"
      ],
      "metadata": {
        "id": "u1wV9UDC7Npe"
      },
      "id": "u1wV9UDC7Npe",
      "execution_count": null,
      "outputs": []
    },
    {
      "cell_type": "code",
      "source": [
        "score_train = accuracy_score(y_train,y_pred2_svm)\n",
        "print(' Score de performance entrainnement:')\n",
        "print(score_train)\n",
        "score_test = accuracy_score(y_test,y_pred_svm)\n",
        "print(' Score de performance test:')\n",
        "print(score_test)"
      ],
      "metadata": {
        "id": "tHZLMZ0-7QV2",
        "colab": {
          "base_uri": "https://localhost:8080/"
        },
        "outputId": "7ec55f7d-4bb3-4d61-9546-c3f51233c15d"
      },
      "id": "tHZLMZ0-7QV2",
      "execution_count": null,
      "outputs": [
        {
          "output_type": "stream",
          "name": "stdout",
          "text": [
            " Score de performance entrainnement:\n",
            "0.8768080836044017\n",
            " Score de performance test:\n",
            "0.8760553633217993\n"
          ]
        }
      ]
    },
    {
      "cell_type": "code",
      "source": [
        "cm = confusion_matrix(y_test,y_pred_svm)\n",
        "print(\"matrice de confusion\")\n",
        "print(cm)"
      ],
      "metadata": {
        "id": "cIA76A2P7U7V",
        "colab": {
          "base_uri": "https://localhost:8080/"
        },
        "outputId": "b7589ca8-93a5-42b0-a324-07712710fa3d"
      },
      "id": "cIA76A2P7U7V",
      "execution_count": null,
      "outputs": [
        {
          "output_type": "stream",
          "name": "stdout",
          "text": [
            "matrice de confusion\n",
            "[[12658   0]\n",
            " [ 1791    1]]\n"
          ]
        }
      ]
    },
    {
      "cell_type": "markdown",
      "source": [
        "### **K-Nearest neighbors**"
      ],
      "metadata": {
        "id": "_o55kWbL6tQN"
      },
      "id": "_o55kWbL6tQN"
    },
    {
      "cell_type": "code",
      "source": [
        "knn= KNeighborsClassifier()\n"
      ],
      "metadata": {
        "id": "9uOE7I6M6txU"
      },
      "id": "9uOE7I6M6txU",
      "execution_count": null,
      "outputs": []
    },
    {
      "cell_type": "code",
      "source": [
        "knn.fit(x_train,y_train)"
      ],
      "metadata": {
        "id": "hJaHSxx56wpw",
        "colab": {
          "base_uri": "https://localhost:8080/"
        },
        "outputId": "9665ace3-8dea-4feb-9455-c80b2c81762c"
      },
      "id": "hJaHSxx56wpw",
      "execution_count": null,
      "outputs": [
        {
          "output_type": "execute_result",
          "data": {
            "text/plain": [
              "KNeighborsClassifier()"
            ]
          },
          "metadata": {},
          "execution_count": 49
        }
      ]
    },
    {
      "cell_type": "code",
      "source": [
        "y_pred_knn = knn.predict(x_test)\n",
        "y_pred2_knn = knn.predict(x_train)"
      ],
      "metadata": {
        "id": "gB4HLgAQ6yd7"
      },
      "id": "gB4HLgAQ6yd7",
      "execution_count": null,
      "outputs": []
    },
    {
      "cell_type": "code",
      "source": [
        "score_train = accuracy_score(y_train,y_pred2_knn)\n",
        "print(' Score de performance entrainnement:')\n",
        "print(score_train)\n",
        "score_test = accuracy_score(y_test,y_pred_knn)\n",
        "print(' Score de performance test:')\n",
        "print(score_test)"
      ],
      "metadata": {
        "id": "kFEajSz461cv",
        "colab": {
          "base_uri": "https://localhost:8080/"
        },
        "outputId": "fbf4d29a-2959-457d-b5a5-f4ff2b823d24"
      },
      "id": "kFEajSz461cv",
      "execution_count": null,
      "outputs": [
        {
          "output_type": "stream",
          "name": "stdout",
          "text": [
            " Score de performance entrainnement:\n",
            "0.8846517636745335\n",
            " Score de performance test:\n",
            "0.8654671280276817\n"
          ]
        }
      ]
    },
    {
      "cell_type": "code",
      "source": [
        "cm = confusion_matrix(y_test,y_pred_knn)\n",
        "print(\"matrice de confusion\")\n",
        "print(cm)"
      ],
      "metadata": {
        "id": "rfpMNY9F65sB",
        "colab": {
          "base_uri": "https://localhost:8080/"
        },
        "outputId": "b871ab4e-925c-41bf-872b-b441dae459ce"
      },
      "id": "rfpMNY9F65sB",
      "execution_count": null,
      "outputs": [
        {
          "output_type": "stream",
          "name": "stdout",
          "text": [
            "matrice de confusion\n",
            "[[12417   241]\n",
            " [ 1703    89]]\n"
          ]
        }
      ]
    },
    {
      "cell_type": "markdown",
      "source": [
        "### **Deep Neural Network**"
      ],
      "metadata": {
        "id": "9kXUoLub7bpI"
      },
      "id": "9kXUoLub7bpI"
    },
    {
      "cell_type": "code",
      "source": [
        "pip install tensorflow "
      ],
      "metadata": {
        "id": "0eX3IfYK7cwD",
        "colab": {
          "base_uri": "https://localhost:8080/"
        },
        "outputId": "83cfd805-4c44-4faa-f325-edfca1beb56b"
      },
      "id": "0eX3IfYK7cwD",
      "execution_count": null,
      "outputs": [
        {
          "output_type": "stream",
          "name": "stdout",
          "text": [
            "Requirement already satisfied: tensorflow in /usr/local/lib/python3.7/dist-packages (2.8.0)\n",
            "Requirement already satisfied: absl-py>=0.4.0 in /usr/local/lib/python3.7/dist-packages (from tensorflow) (1.0.0)\n",
            "Requirement already satisfied: astunparse>=1.6.0 in /usr/local/lib/python3.7/dist-packages (from tensorflow) (1.6.3)\n",
            "Requirement already satisfied: libclang>=9.0.1 in /usr/local/lib/python3.7/dist-packages (from tensorflow) (13.0.0)\n",
            "Requirement already satisfied: gast>=0.2.1 in /usr/local/lib/python3.7/dist-packages (from tensorflow) (0.5.3)\n",
            "Requirement already satisfied: tensorboard<2.9,>=2.8 in /usr/local/lib/python3.7/dist-packages (from tensorflow) (2.8.0)\n",
            "Requirement already satisfied: numpy>=1.20 in /usr/local/lib/python3.7/dist-packages (from tensorflow) (1.21.5)\n",
            "Requirement already satisfied: protobuf>=3.9.2 in /usr/local/lib/python3.7/dist-packages (from tensorflow) (3.17.3)\n",
            "Requirement already satisfied: h5py>=2.9.0 in /usr/local/lib/python3.7/dist-packages (from tensorflow) (3.1.0)\n",
            "Requirement already satisfied: typing-extensions>=3.6.6 in /usr/local/lib/python3.7/dist-packages (from tensorflow) (3.10.0.2)\n",
            "Requirement already satisfied: tensorflow-io-gcs-filesystem>=0.23.1 in /usr/local/lib/python3.7/dist-packages (from tensorflow) (0.24.0)\n",
            "Requirement already satisfied: flatbuffers>=1.12 in /usr/local/lib/python3.7/dist-packages (from tensorflow) (2.0)\n",
            "Requirement already satisfied: opt-einsum>=2.3.2 in /usr/local/lib/python3.7/dist-packages (from tensorflow) (3.3.0)\n",
            "Requirement already satisfied: grpcio<2.0,>=1.24.3 in /usr/local/lib/python3.7/dist-packages (from tensorflow) (1.44.0)\n",
            "Requirement already satisfied: six>=1.12.0 in /usr/local/lib/python3.7/dist-packages (from tensorflow) (1.15.0)\n",
            "Requirement already satisfied: wrapt>=1.11.0 in /usr/local/lib/python3.7/dist-packages (from tensorflow) (1.14.0)\n",
            "Requirement already satisfied: google-pasta>=0.1.1 in /usr/local/lib/python3.7/dist-packages (from tensorflow) (0.2.0)\n",
            "Requirement already satisfied: tf-estimator-nightly==2.8.0.dev2021122109 in /usr/local/lib/python3.7/dist-packages (from tensorflow) (2.8.0.dev2021122109)\n",
            "Requirement already satisfied: termcolor>=1.1.0 in /usr/local/lib/python3.7/dist-packages (from tensorflow) (1.1.0)\n",
            "Requirement already satisfied: keras<2.9,>=2.8.0rc0 in /usr/local/lib/python3.7/dist-packages (from tensorflow) (2.8.0)\n",
            "Requirement already satisfied: setuptools in /usr/local/lib/python3.7/dist-packages (from tensorflow) (57.4.0)\n",
            "Requirement already satisfied: keras-preprocessing>=1.1.1 in /usr/local/lib/python3.7/dist-packages (from tensorflow) (1.1.2)\n",
            "Requirement already satisfied: wheel<1.0,>=0.23.0 in /usr/local/lib/python3.7/dist-packages (from astunparse>=1.6.0->tensorflow) (0.37.1)\n",
            "Requirement already satisfied: cached-property in /usr/local/lib/python3.7/dist-packages (from h5py>=2.9.0->tensorflow) (1.5.2)\n",
            "Requirement already satisfied: tensorboard-plugin-wit>=1.6.0 in /usr/local/lib/python3.7/dist-packages (from tensorboard<2.9,>=2.8->tensorflow) (1.8.1)\n",
            "Requirement already satisfied: werkzeug>=0.11.15 in /usr/local/lib/python3.7/dist-packages (from tensorboard<2.9,>=2.8->tensorflow) (1.0.1)\n",
            "Requirement already satisfied: requests<3,>=2.21.0 in /usr/local/lib/python3.7/dist-packages (from tensorboard<2.9,>=2.8->tensorflow) (2.23.0)\n",
            "Requirement already satisfied: tensorboard-data-server<0.7.0,>=0.6.0 in /usr/local/lib/python3.7/dist-packages (from tensorboard<2.9,>=2.8->tensorflow) (0.6.1)\n",
            "Requirement already satisfied: google-auth<3,>=1.6.3 in /usr/local/lib/python3.7/dist-packages (from tensorboard<2.9,>=2.8->tensorflow) (1.35.0)\n",
            "Requirement already satisfied: markdown>=2.6.8 in /usr/local/lib/python3.7/dist-packages (from tensorboard<2.9,>=2.8->tensorflow) (3.3.6)\n",
            "Requirement already satisfied: google-auth-oauthlib<0.5,>=0.4.1 in /usr/local/lib/python3.7/dist-packages (from tensorboard<2.9,>=2.8->tensorflow) (0.4.6)\n",
            "Requirement already satisfied: pyasn1-modules>=0.2.1 in /usr/local/lib/python3.7/dist-packages (from google-auth<3,>=1.6.3->tensorboard<2.9,>=2.8->tensorflow) (0.2.8)\n",
            "Requirement already satisfied: cachetools<5.0,>=2.0.0 in /usr/local/lib/python3.7/dist-packages (from google-auth<3,>=1.6.3->tensorboard<2.9,>=2.8->tensorflow) (4.2.4)\n",
            "Requirement already satisfied: rsa<5,>=3.1.4 in /usr/local/lib/python3.7/dist-packages (from google-auth<3,>=1.6.3->tensorboard<2.9,>=2.8->tensorflow) (4.8)\n",
            "Requirement already satisfied: requests-oauthlib>=0.7.0 in /usr/local/lib/python3.7/dist-packages (from google-auth-oauthlib<0.5,>=0.4.1->tensorboard<2.9,>=2.8->tensorflow) (1.3.1)\n",
            "Requirement already satisfied: importlib-metadata>=4.4 in /usr/local/lib/python3.7/dist-packages (from markdown>=2.6.8->tensorboard<2.9,>=2.8->tensorflow) (4.11.3)\n",
            "Requirement already satisfied: zipp>=0.5 in /usr/local/lib/python3.7/dist-packages (from importlib-metadata>=4.4->markdown>=2.6.8->tensorboard<2.9,>=2.8->tensorflow) (3.7.0)\n",
            "Requirement already satisfied: pyasn1<0.5.0,>=0.4.6 in /usr/local/lib/python3.7/dist-packages (from pyasn1-modules>=0.2.1->google-auth<3,>=1.6.3->tensorboard<2.9,>=2.8->tensorflow) (0.4.8)\n",
            "Requirement already satisfied: chardet<4,>=3.0.2 in /usr/local/lib/python3.7/dist-packages (from requests<3,>=2.21.0->tensorboard<2.9,>=2.8->tensorflow) (3.0.4)\n",
            "Requirement already satisfied: certifi>=2017.4.17 in /usr/local/lib/python3.7/dist-packages (from requests<3,>=2.21.0->tensorboard<2.9,>=2.8->tensorflow) (2021.10.8)\n",
            "Requirement already satisfied: idna<3,>=2.5 in /usr/local/lib/python3.7/dist-packages (from requests<3,>=2.21.0->tensorboard<2.9,>=2.8->tensorflow) (2.10)\n",
            "Requirement already satisfied: urllib3!=1.25.0,!=1.25.1,<1.26,>=1.21.1 in /usr/local/lib/python3.7/dist-packages (from requests<3,>=2.21.0->tensorboard<2.9,>=2.8->tensorflow) (1.24.3)\n",
            "Requirement already satisfied: oauthlib>=3.0.0 in /usr/local/lib/python3.7/dist-packages (from requests-oauthlib>=0.7.0->google-auth-oauthlib<0.5,>=0.4.1->tensorboard<2.9,>=2.8->tensorflow) (3.2.0)\n"
          ]
        }
      ]
    },
    {
      "cell_type": "code",
      "source": [
        "data.rename(columns = {'Color_NOT AVAIL':'Color_NOT_AVAIL'}, inplace = True)\n",
        "data.drop(columns='Color_NOT_AVAIL', axis=1, inplace=True)\n"
      ],
      "metadata": {
        "id": "akCl3s59L3OY"
      },
      "id": "akCl3s59L3OY",
      "execution_count": null,
      "outputs": []
    },
    {
      "cell_type": "code",
      "source": [
        "from sklearn.metrics import confusion_matrix,classification_report\n",
        "import tensorflow as tf"
      ],
      "metadata": {
        "id": "Tw3cAmnu8KWF"
      },
      "id": "Tw3cAmnu8KWF",
      "execution_count": null,
      "outputs": []
    },
    {
      "cell_type": "code",
      "source": [
        "data.rename(columns = {'Make_TOYOTA SCION':'Make_TOYOTA_SCION'}, inplace = True)\n",
        "data.rename(columns = {'Size_LARGE SUV':'Size_LARGE_SUV'}, inplace = True)\n",
        "data.rename(columns = {'Size_MEDIUM SUV':'Size_MEDIUM_SUV'}, inplace = True)\n",
        "data.rename(columns = {'Size_SMALL SUV':'Size_SMALL_SUV'}, inplace = True)\n",
        "data.rename(columns = {'Size_SMALL SUV':'Size_SMALL_SUV'}, inplace = True)\n",
        "data.rename(columns = {'Size_SMALL TRUCK':'Size_SMALL_TRUCK'}, inplace = True)\n",
        "data.rename(columns = {'Size_LARGE TRUCK':'Size_LARGE_TRUCK'}, inplace = True)\n",
        "\n",
        "data.drop(columns='Make_TOYOTA_SCION', axis=1, inplace=True)\n",
        "data.drop(columns='Size_LARGE_SUV', axis=1, inplace=True)\n",
        "data.drop(columns='Size_LARGE_TRUCK', axis=1, inplace=True)\n",
        "\n",
        "data.drop(columns='Size_MEDIUM_SUV', axis=1, inplace=True)\n",
        "data.drop(columns='Size_SMALL_SUV', axis=1, inplace=True)\n",
        "data.drop(columns='Size_SMALL_TRUCK', axis=1, inplace=True)\n"
      ],
      "metadata": {
        "id": "100a4Ty_CWOw"
      },
      "id": "100a4Ty_CWOw",
      "execution_count": null,
      "outputs": []
    },
    {
      "cell_type": "code",
      "source": [
        "x_train, x_test, y_train, y_test = train_test_split(x, y, test_size = 0.3, random_state=101)\n",
        "\n"
      ],
      "metadata": {
        "id": "DmHFPMBdDQkc"
      },
      "id": "DmHFPMBdDQkc",
      "execution_count": null,
      "outputs": []
    },
    {
      "cell_type": "code",
      "source": [
        "def create_feature_column():\n",
        "  feature_columnss=[]\n",
        "  cols=data[:].columns.tolist()[0:120]\n",
        "  cols.remove('IsBadBuy')\n",
        "  for col in cols:\n",
        "      col = tf.feature_column.numeric_column(col)\n",
        "      feature_columnss.append(col)\n",
        "  return (feature_columnss)\n",
        "\n",
        "feature_columnss = create_feature_column()\n"
      ],
      "metadata": {
        "id": "p6lurbC28Q1t"
      },
      "id": "p6lurbC28Q1t",
      "execution_count": null,
      "outputs": []
    },
    {
      "cell_type": "code",
      "source": [
        "dnnmodel = tf.compat.v1.estimator.DNNClassifier(hidden_units=[512,256,128], feature_columns=feature_columnss, n_classes = 2, activation_fn = tf.nn.softmax, dropout = None, optimizer = tf.compat.v1.train.AdamOptimizer(learning_rate=0.00001)\n",
        ")"
      ],
      "metadata": {
        "id": "p2H-ScLPAH0O",
        "colab": {
          "base_uri": "https://localhost:8080/"
        },
        "outputId": "83d955fb-40e2-46f7-b3ca-38890d8fa9a3"
      },
      "id": "p2H-ScLPAH0O",
      "execution_count": null,
      "outputs": [
        {
          "output_type": "stream",
          "name": "stdout",
          "text": [
            "INFO:tensorflow:Using default config.\n",
            "WARNING:tensorflow:Using temporary folder as model directory: /tmp/tmpmuaus2cc\n",
            "INFO:tensorflow:Using config: {'_model_dir': '/tmp/tmpmuaus2cc', '_tf_random_seed': None, '_save_summary_steps': 100, '_save_checkpoints_steps': None, '_save_checkpoints_secs': 600, '_session_config': allow_soft_placement: true\n",
            "graph_options {\n",
            "  rewrite_options {\n",
            "    meta_optimizer_iterations: ONE\n",
            "  }\n",
            "}\n",
            ", '_keep_checkpoint_max': 5, '_keep_checkpoint_every_n_hours': 10000, '_log_step_count_steps': 100, '_train_distribute': None, '_device_fn': None, '_protocol': None, '_eval_distribute': None, '_experimental_distribute': None, '_experimental_max_worker_delay_secs': None, '_session_creation_timeout_secs': 7200, '_checkpoint_save_graph_def': True, '_service': None, '_cluster_spec': ClusterSpec({}), '_task_type': 'worker', '_task_id': 0, '_global_id_in_cluster': 0, '_master': '', '_evaluation_master': '', '_is_chief': True, '_num_ps_replicas': 0, '_num_worker_replicas': 1}\n"
          ]
        }
      ]
    },
    {
      "cell_type": "code",
      "source": [
        "#entrainement du model\n",
        "#création des données d'entrés selon le model tensorflow\n",
        "input_fun1 = tf.compat.v1.estimator.inputs.pandas_input_fn(x_train,y_train, batch_size=50,num_epochs=10000, shuffle = True)\n",
        "dnnmodel.train(input_fn=input_fun1, steps = 1000)"
      ],
      "metadata": {
        "id": "AoZijPzzANY8",
        "colab": {
          "base_uri": "https://localhost:8080/"
        },
        "outputId": "51a8354d-12fe-4e59-ddca-916f88dad335"
      },
      "id": "AoZijPzzANY8",
      "execution_count": null,
      "outputs": [
        {
          "output_type": "stream",
          "name": "stdout",
          "text": [
            "WARNING:tensorflow:From /usr/local/lib/python3.7/dist-packages/tensorflow/python/training/training_util.py:397: Variable.initialized_value (from tensorflow.python.ops.variables) is deprecated and will be removed in a future version.\n",
            "Instructions for updating:\n",
            "Use Variable.read_value. Variables in 2.X are initialized automatically both in eager and graph (inside tf.defun) contexts.\n",
            "WARNING:tensorflow:From /usr/local/lib/python3.7/dist-packages/tensorflow_estimator/python/estimator/inputs/queues/feeding_queue_runner.py:65: QueueRunner.__init__ (from tensorflow.python.training.queue_runner_impl) is deprecated and will be removed in a future version.\n",
            "Instructions for updating:\n",
            "To construct input pipelines, use the `tf.data` module.\n",
            "WARNING:tensorflow:From /usr/local/lib/python3.7/dist-packages/tensorflow_estimator/python/estimator/inputs/queues/feeding_functions.py:491: add_queue_runner (from tensorflow.python.training.queue_runner_impl) is deprecated and will be removed in a future version.\n",
            "Instructions for updating:\n",
            "To construct input pipelines, use the `tf.data` module.\n",
            "INFO:tensorflow:Calling model_fn.\n",
            "INFO:tensorflow:Done calling model_fn.\n",
            "INFO:tensorflow:Create CheckpointSaverHook.\n",
            "INFO:tensorflow:Graph was finalized.\n",
            "INFO:tensorflow:Running local_init_op.\n",
            "INFO:tensorflow:Done running local_init_op.\n",
            "WARNING:tensorflow:From /usr/local/lib/python3.7/dist-packages/tensorflow/python/training/monitored_session.py:914: start_queue_runners (from tensorflow.python.training.queue_runner_impl) is deprecated and will be removed in a future version.\n",
            "Instructions for updating:\n",
            "To construct input pipelines, use the `tf.data` module.\n",
            "INFO:tensorflow:Calling checkpoint listeners before saving checkpoint 0...\n",
            "INFO:tensorflow:Saving checkpoints for 0 into /tmp/tmpmuaus2cc/model.ckpt.\n",
            "INFO:tensorflow:Calling checkpoint listeners after saving checkpoint 0...\n",
            "INFO:tensorflow:loss = 34.197227, step = 0\n",
            "INFO:tensorflow:global_step/sec: 18.838\n",
            "INFO:tensorflow:loss = 34.072227, step = 100 (5.312 sec)\n",
            "INFO:tensorflow:global_step/sec: 17.0522\n",
            "INFO:tensorflow:loss = 34.060936, step = 200 (5.864 sec)\n",
            "INFO:tensorflow:global_step/sec: 18.7229\n",
            "INFO:tensorflow:loss = 33.849216, step = 300 (5.340 sec)\n",
            "INFO:tensorflow:global_step/sec: 16.4913\n",
            "INFO:tensorflow:loss = 34.122475, step = 400 (6.071 sec)\n",
            "INFO:tensorflow:global_step/sec: 16.0947\n",
            "INFO:tensorflow:loss = 33.936775, step = 500 (6.215 sec)\n",
            "INFO:tensorflow:global_step/sec: 14.4656\n",
            "INFO:tensorflow:loss = 33.774662, step = 600 (6.905 sec)\n",
            "INFO:tensorflow:global_step/sec: 16.4842\n",
            "INFO:tensorflow:loss = 33.727886, step = 700 (6.067 sec)\n",
            "INFO:tensorflow:global_step/sec: 17.6208\n",
            "INFO:tensorflow:loss = 33.72562, step = 800 (5.675 sec)\n",
            "INFO:tensorflow:global_step/sec: 18.7263\n",
            "INFO:tensorflow:loss = 33.87012, step = 900 (5.343 sec)\n",
            "INFO:tensorflow:Calling checkpoint listeners before saving checkpoint 1000...\n",
            "INFO:tensorflow:Saving checkpoints for 1000 into /tmp/tmpmuaus2cc/model.ckpt.\n",
            "INFO:tensorflow:Calling checkpoint listeners after saving checkpoint 1000...\n",
            "INFO:tensorflow:Loss for final step: 33.5892.\n"
          ]
        },
        {
          "output_type": "execute_result",
          "data": {
            "text/plain": [
              "<tensorflow_estimator.python.estimator.canned.dnn.DNNClassifier at 0x7f39f0b7ed10>"
            ]
          },
          "metadata": {},
          "execution_count": 66
        }
      ]
    },
    {
      "cell_type": "code",
      "source": [
        "cols=data[:].columns.tolist()[0:121]\n",
        "for col in cols:\n",
        "  print(col)"
      ],
      "metadata": {
        "id": "FGaxqgw1BbeO",
        "colab": {
          "base_uri": "https://localhost:8080/"
        },
        "outputId": "aa23b143-e326-4594-8e0a-5dff277c3c01"
      },
      "id": "FGaxqgw1BbeO",
      "execution_count": null,
      "outputs": [
        {
          "output_type": "stream",
          "name": "stdout",
          "text": [
            "VehicleAge\n",
            "VehOdo\n",
            "MMRAcquisitionAuctionAveragePrice\n",
            "MMRAcquisitionAuctionCleanPrice\n",
            "MMRAcquisitionRetailAveragePrice\n",
            "MMRAcquisitonRetailCleanPrice\n",
            "MMRCurrentAuctionAveragePrice\n",
            "MMRCurrentAuctionCleanPrice\n",
            "MMRCurrentRetailAveragePrice\n",
            "MMRCurrentRetailCleanPrice\n",
            "WarrantyCost\n",
            "VehBCost\n",
            "IsBadBuy\n",
            "purch_day\n",
            "purch_month\n",
            "purch_year\n",
            "Auction_ADESA\n",
            "Auction_MANHEIM\n",
            "Auction_OTHER\n",
            "Make_ACURA\n",
            "Make_BUICK\n",
            "Make_CADILLAC\n",
            "Make_CHEVROLET\n",
            "Make_CHRYSLER\n",
            "Make_DODGE\n",
            "Make_FORD\n",
            "Make_GMC\n",
            "Make_HONDA\n",
            "Make_HUMMER\n",
            "Make_HYUNDAI\n",
            "Make_INFINITI\n",
            "Make_ISUZU\n",
            "Make_JEEP\n",
            "Make_KIA\n",
            "Make_LEXUS\n",
            "Make_LINCOLN\n",
            "Make_MAZDA\n",
            "Make_MERCURY\n",
            "Make_MINI\n",
            "Make_MITSUBISHI\n",
            "Make_NISSAN\n",
            "Make_OLDSMOBILE\n",
            "Make_PLYMOUTH\n",
            "Make_PONTIAC\n",
            "Make_SATURN\n",
            "Make_SCION\n",
            "Make_SUBARU\n",
            "Make_SUZUKI\n",
            "Make_TOYOTA\n",
            "Make_VOLKSWAGEN\n",
            "Make_VOLVO\n",
            "Color_BEIGE\n",
            "Color_BLACK\n",
            "Color_BLUE\n",
            "Color_BROWN\n",
            "Color_GOLD\n",
            "Color_GREEN\n",
            "Color_GREY\n",
            "Color_MAROON\n",
            "Color_ORANGE\n",
            "Color_OTHER\n",
            "Color_PURPLE\n",
            "Color_RED\n",
            "Color_SILVER\n",
            "Color_WHITE\n",
            "Color_YELLOW\n",
            "Transmission_AUTO\n",
            "Transmission_MANUAL\n",
            "WheelType_Alloy\n",
            "WheelType_Covers\n",
            "Size_COMPACT\n",
            "Size_CROSSOVER\n",
            "Size_LARGE\n",
            "Size_MEDIUM\n",
            "Size_SPECIALTY\n",
            "Size_SPORTS\n",
            "Size_VAN\n",
            "VNST_AL\n",
            "VNST_AR\n",
            "VNST_AZ\n",
            "VNST_CA\n",
            "VNST_CO\n",
            "VNST_FL\n",
            "VNST_GA\n",
            "VNST_IA\n",
            "VNST_ID\n",
            "VNST_IL\n",
            "VNST_IN\n",
            "VNST_KY\n",
            "VNST_LA\n",
            "VNST_MA\n",
            "VNST_MD\n",
            "VNST_MI\n",
            "VNST_MN\n",
            "VNST_MO\n",
            "VNST_MS\n",
            "VNST_NC\n",
            "VNST_NE\n",
            "VNST_NH\n",
            "VNST_NJ\n",
            "VNST_NM\n",
            "VNST_NV\n",
            "VNST_NY\n",
            "VNST_OH\n",
            "VNST_OK\n",
            "VNST_OR\n",
            "VNST_PA\n",
            "VNST_SC\n",
            "VNST_TN\n",
            "VNST_TX\n",
            "VNST_UT\n",
            "VNST_VA\n",
            "VNST_WA\n",
            "VNST_WV\n"
          ]
        }
      ]
    },
    {
      "cell_type": "markdown",
      "source": [
        "## **2. Analyze vehicle price learning based on a regression model using this dataset**"
      ],
      "metadata": {
        "id": "_H_lysCCAAQG"
      },
      "id": "_H_lysCCAAQG"
    },
    {
      "cell_type": "code",
      "source": [
        "#evaluation du modèle\n",
        "eval_func = tf.compat.v1.estimator.inputs.pandas_input_fn(x_test,y_test, batch_size=50,num_epochs=1, shuffle = False)\n",
        "dnnmodel.evaluate(eval_func)"
      ],
      "metadata": {
        "id": "KfHZrf11Bfga",
        "colab": {
          "base_uri": "https://localhost:8080/"
        },
        "outputId": "f29d7ec6-62cf-448f-b2a8-685c498f5f0b"
      },
      "id": "KfHZrf11Bfga",
      "execution_count": null,
      "outputs": [
        {
          "output_type": "stream",
          "name": "stdout",
          "text": [
            "INFO:tensorflow:Calling model_fn.\n",
            "WARNING:tensorflow:From /usr/local/lib/python3.7/dist-packages/tensorflow_estimator/python/estimator/canned/head.py:640: auc (from tensorflow.python.ops.metrics_impl) is deprecated and will be removed in a future version.\n",
            "Instructions for updating:\n",
            "The value of AUC returned by this may race with the update so this is deprecated. Please use tf.keras.metrics.AUC instead.\n",
            "WARNING:tensorflow:Trapezoidal rule is known to produce incorrect PR-AUCs; please switch to \"careful_interpolation\" instead.\n",
            "WARNING:tensorflow:Trapezoidal rule is known to produce incorrect PR-AUCs; please switch to \"careful_interpolation\" instead.\n",
            "INFO:tensorflow:Done calling model_fn.\n",
            "INFO:tensorflow:Starting evaluation at 2022-04-01T22:51:52\n",
            "INFO:tensorflow:Graph was finalized.\n",
            "INFO:tensorflow:Restoring parameters from /tmp/tmpmuaus2cc/model.ckpt-1000\n",
            "INFO:tensorflow:Running local_init_op.\n",
            "INFO:tensorflow:Done running local_init_op.\n",
            "INFO:tensorflow:Inference Time : 8.99432s\n",
            "INFO:tensorflow:Finished evaluation at 2022-04-01-22:52:01\n",
            "INFO:tensorflow:Saving dict for global step 1000: accuracy = 0.8785467, accuracy_baseline = 0.8785467, auc = 0.5, auc_precision_recall = 0.56072664, average_loss = 0.6748023, global_step = 1000, label/mean = 0.121453285, loss = 33.72067, precision = 0.0, prediction/mean = 0.487686, recall = 0.0\n",
            "INFO:tensorflow:Saving 'checkpoint_path' summary for global step 1000: /tmp/tmpmuaus2cc/model.ckpt-1000\n"
          ]
        },
        {
          "output_type": "execute_result",
          "data": {
            "text/plain": [
              "{'accuracy': 0.8785467,\n",
              " 'accuracy_baseline': 0.8785467,\n",
              " 'auc': 0.5,\n",
              " 'auc_precision_recall': 0.56072664,\n",
              " 'average_loss': 0.6748023,\n",
              " 'global_step': 1000,\n",
              " 'label/mean': 0.121453285,\n",
              " 'loss': 33.72067,\n",
              " 'precision': 0.0,\n",
              " 'prediction/mean': 0.487686,\n",
              " 'recall': 0.0}"
            ]
          },
          "metadata": {},
          "execution_count": 68
        }
      ]
    },
    {
      "cell_type": "code",
      "source": [
        "#prediction\n",
        "predict_input_fn = tf.compat.v1.estimator.inputs.pandas_input_fn(x=x_test,num_epochs=1,shuffle=False)\n",
        "predictions = list(dnnmodel.predict(input_fn=predict_input_fn))\n",
        "prediction = [p[\"class_ids\"][0] for p in predictions]\n",
        "dt = classification_report(y_test, prediction)\n",
        "conmat = confusion_matrix(y_test, prediction)"
      ],
      "metadata": {
        "id": "sIb1fRF7Xb6Z",
        "colab": {
          "base_uri": "https://localhost:8080/"
        },
        "outputId": "81e6617e-39e2-48fd-98b1-983079ed3a99"
      },
      "id": "sIb1fRF7Xb6Z",
      "execution_count": null,
      "outputs": [
        {
          "output_type": "stream",
          "name": "stdout",
          "text": [
            "INFO:tensorflow:Calling model_fn.\n",
            "INFO:tensorflow:Done calling model_fn.\n",
            "INFO:tensorflow:Graph was finalized.\n",
            "INFO:tensorflow:Restoring parameters from /tmp/tmpmuaus2cc/model.ckpt-1000\n",
            "INFO:tensorflow:Running local_init_op.\n",
            "INFO:tensorflow:Done running local_init_op.\n"
          ]
        },
        {
          "output_type": "stream",
          "name": "stderr",
          "text": [
            "/usr/local/lib/python3.7/dist-packages/sklearn/metrics/_classification.py:1318: UndefinedMetricWarning: Precision and F-score are ill-defined and being set to 0.0 in labels with no predicted samples. Use `zero_division` parameter to control this behavior.\n",
            "  _warn_prf(average, modifier, msg_start, len(result))\n",
            "/usr/local/lib/python3.7/dist-packages/sklearn/metrics/_classification.py:1318: UndefinedMetricWarning: Precision and F-score are ill-defined and being set to 0.0 in labels with no predicted samples. Use `zero_division` parameter to control this behavior.\n",
            "  _warn_prf(average, modifier, msg_start, len(result))\n",
            "/usr/local/lib/python3.7/dist-packages/sklearn/metrics/_classification.py:1318: UndefinedMetricWarning: Precision and F-score are ill-defined and being set to 0.0 in labels with no predicted samples. Use `zero_division` parameter to control this behavior.\n",
            "  _warn_prf(average, modifier, msg_start, len(result))\n"
          ]
        }
      ]
    },
    {
      "cell_type": "code",
      "source": [
        "\n",
        "print(conmat)\n",
        "print(dt)"
      ],
      "metadata": {
        "colab": {
          "base_uri": "https://localhost:8080/"
        },
        "id": "C55zoD4cF3p6",
        "outputId": "04ebc62b-630f-486d-871c-963e5afaeb37"
      },
      "id": "C55zoD4cF3p6",
      "execution_count": null,
      "outputs": [
        {
          "output_type": "stream",
          "name": "stdout",
          "text": [
            "[[15234     0]\n",
            " [ 2106     0]]\n",
            "              precision    recall  f1-score   support\n",
            "\n",
            "           0       0.88      1.00      0.94     15234\n",
            "           1       0.00      0.00      0.00      2106\n",
            "\n",
            "    accuracy                           0.88     17340\n",
            "   macro avg       0.44      0.50      0.47     17340\n",
            "weighted avg       0.77      0.88      0.82     17340\n",
            "\n"
          ]
        }
      ]
    },
    {
      "cell_type": "markdown",
      "source": [
        "Let's  consider  the  'VehBCost'  column,  the  target  data  of  this  dataset.  Analyze  vehicle  price learning based on a regression model using this dataset."
      ],
      "metadata": {
        "id": "AgzESrMkSlct"
      },
      "id": "AgzESrMkSlct"
    },
    {
      "cell_type": "code",
      "source": [
        "data.drop(columns='IsBadBuy', axis=1, inplace=True)\n",
        "list_var=data.columns.drop(\"VehBCost\")\n",
        "y=data.VehBCost\n",
        "X=data[list_var]# change to list var for multiple\n",
        "y"
      ],
      "metadata": {
        "colab": {
          "base_uri": "https://localhost:8080/"
        },
        "id": "zoozp6DhSmB_",
        "outputId": "4e81f60a-fc8c-420d-ac27-256c25d22e46"
      },
      "id": "zoozp6DhSmB_",
      "execution_count": null,
      "outputs": [
        {
          "output_type": "execute_result",
          "data": {
            "text/plain": [
              "0        6100.0\n",
              "1        4000.0\n",
              "2        7500.0\n",
              "3        4725.0\n",
              "4        5670.0\n",
              "          ...  \n",
              "58381    7205.0\n",
              "58382    4690.0\n",
              "58383    7000.0\n",
              "58384    5525.0\n",
              "58385    3240.0\n",
              "Name: VehBCost, Length: 57797, dtype: float64"
            ]
          },
          "metadata": {},
          "execution_count": 72
        }
      ]
    },
    {
      "cell_type": "code",
      "source": [
        "X_train, X_test, y_train, y_test = train_test_split(X, y, test_size = 0.25, random_state = 0)\n"
      ],
      "metadata": {
        "id": "tqoDuOH3TyP8"
      },
      "id": "tqoDuOH3TyP8",
      "execution_count": null,
      "outputs": []
    },
    {
      "cell_type": "code",
      "source": [
        "from sklearn.linear_model import LinearRegression\n",
        "#créer un objet reg lin\n",
        "regressor = LinearRegression()\n",
        "regressor.fit(X_train, y_train)"
      ],
      "metadata": {
        "colab": {
          "base_uri": "https://localhost:8080/"
        },
        "id": "UH9xVmt1VSKy",
        "outputId": "9574a593-f800-4386-9529-5070b0049f71"
      },
      "id": "UH9xVmt1VSKy",
      "execution_count": null,
      "outputs": [
        {
          "output_type": "execute_result",
          "data": {
            "text/plain": [
              "LinearRegression()"
            ]
          },
          "metadata": {},
          "execution_count": 74
        }
      ]
    },
    {
      "cell_type": "code",
      "source": [
        "#calculer intercept ()\n",
        "intercept=regressor.intercept_\n",
        "print(\"β0 = \"+ str(intercept))"
      ],
      "metadata": {
        "colab": {
          "base_uri": "https://localhost:8080/"
        },
        "id": "n61U95uFVVfb",
        "outputId": "a074fef0-2922-440c-f6b7-673667f56995"
      },
      "id": "n61U95uFVVfb",
      "execution_count": null,
      "outputs": [
        {
          "output_type": "stream",
          "name": "stdout",
          "text": [
            "β0 = 7926.484209071719\n"
          ]
        }
      ]
    },
    {
      "cell_type": "code",
      "source": [
        "regressor.coef_"
      ],
      "metadata": {
        "colab": {
          "base_uri": "https://localhost:8080/"
        },
        "id": "PHD0nz5AVZr3",
        "outputId": "2363d400-7db1-42cc-fa43-5c8afbc960f8"
      },
      "id": "PHD0nz5AVZr3",
      "execution_count": null,
      "outputs": [
        {
          "output_type": "execute_result",
          "data": {
            "text/plain": [
              "array([ 9.40150733e+01, -2.85479477e+02,  1.55707968e+03, -6.15675629e+02,\n",
              "       -3.98425504e+02,  9.73749537e+01,  2.58741036e+02, -6.28425241e+01,\n",
              "        3.05520449e+02, -2.77522217e+01, -7.17363351e+01,  7.30124901e+01,\n",
              "        7.30025275e+00,  2.56787606e+02,  2.79237473e+01,  2.64585101e+01,\n",
              "       -5.43822574e+01,  1.50359254e+02, -8.63882989e+02, -3.07860713e+02,\n",
              "       -5.41921854e+02, -7.46298930e+02, -6.46710679e+02, -8.06298625e+02,\n",
              "       -1.44864107e+02,  8.22620050e+02, -1.16616817e+03, -7.84050222e+02,\n",
              "       -3.24499759e+02, -1.13387068e+03, -1.18076141e+03, -9.78615475e+02,\n",
              "        1.12972247e+03, -7.45660177e+02, -4.16465338e+02, -1.08815972e+03,\n",
              "        1.15005097e+03, -5.58628410e+02,  9.35503864e+01, -7.99932906e+02,\n",
              "       -4.44515535e-11, -4.98691565e+02, -1.01689237e+03, -1.58891119e+01,\n",
              "        1.55534414e+02, -1.23691499e+03,  3.96003587e+02, -3.68285309e+02,\n",
              "       -9.00007164e+02,  1.83164535e+00,  3.72141486e+01,  2.27468451e+00,\n",
              "       -3.13285746e+01, -2.65277996e+01, -3.32336437e+01,  3.40864746e+01,\n",
              "        5.74880398e+01,  9.96770347e+01, -6.15118877e+01, -3.78270827e+01,\n",
              "        5.33388665e+01, -1.43421407e+01, -2.78666056e+01,  1.45845983e+02,\n",
              "        3.28071971e+02, -3.28071971e+02,  5.74119993e+01, -5.74119993e+01,\n",
              "       -1.85729656e+03, -2.45689609e+02, -7.57699040e+02, -1.34331866e+03,\n",
              "        3.19393377e+02, -4.68056108e+02, -1.02762152e+03,  1.93326562e+02,\n",
              "       -3.08024066e+02,  9.04997722e+01,  1.56119974e+00, -6.07016093e+01,\n",
              "        1.18442635e+02,  1.73104137e+02,  5.80801690e+01,  1.42734153e+02,\n",
              "        1.05283239e+02,  8.46660693e+01,  2.46102301e+02,  1.13425065e+02,\n",
              "       -1.64972952e+02, -1.10495424e+02, -8.95325509e+01,  9.92125730e+01,\n",
              "        1.36035532e+02,  9.88955587e+01,  7.46840198e+01, -2.09229342e+01,\n",
              "       -1.06491872e+03, -5.33820171e+01, -2.55707172e+02, -1.77864947e+02,\n",
              "        1.42753124e+02,  2.22717657e+02,  1.94589210e+01, -9.91800114e+01,\n",
              "        5.09647950e+01,  1.87246244e+02,  4.99408143e+01,  3.65586213e+01,\n",
              "       -2.83841272e+01, -2.27398591e+01, -9.87643966e+01,  1.09897622e+02])"
            ]
          },
          "metadata": {},
          "execution_count": 76
        }
      ]
    },
    {
      "cell_type": "code",
      "source": [
        "y_pred = regressor.predict(X_test)"
      ],
      "metadata": {
        "id": "FSE-ho8IVdjc"
      },
      "id": "FSE-ho8IVdjc",
      "execution_count": null,
      "outputs": []
    },
    {
      "cell_type": "code",
      "source": [
        "regressor.coef_.shape"
      ],
      "metadata": {
        "colab": {
          "base_uri": "https://localhost:8080/"
        },
        "id": "nYvjZ-TjbGqf",
        "outputId": "02554d0a-f153-4d1d-ea4f-87fbb13698aa"
      },
      "id": "nYvjZ-TjbGqf",
      "execution_count": null,
      "outputs": [
        {
          "output_type": "execute_result",
          "data": {
            "text/plain": [
              "(112,)"
            ]
          },
          "metadata": {},
          "execution_count": 91
        }
      ]
    },
    {
      "cell_type": "code",
      "source": [
        "from sklearn.metrics import r2_score\n",
        "r2_score(y_test, y_pred)"
      ],
      "metadata": {
        "colab": {
          "base_uri": "https://localhost:8080/"
        },
        "id": "I1vcjF6gVhWP",
        "outputId": "655502e6-40da-41cf-f352-9cdb51988e43"
      },
      "id": "I1vcjF6gVhWP",
      "execution_count": null,
      "outputs": [
        {
          "output_type": "execute_result",
          "data": {
            "text/plain": [
              "0.783299902234405"
            ]
          },
          "metadata": {},
          "execution_count": 78
        }
      ]
    },
    {
      "cell_type": "code",
      "source": [
        "plt.plot(y_test, y_pred,'.')\n",
        "plt.show()"
      ],
      "metadata": {
        "colab": {
          "base_uri": "https://localhost:8080/",
          "height": 265
        },
        "id": "_yS8Wi3mVkSj",
        "outputId": "102dce3d-7f7b-45a5-aa0d-ed090bb3cace"
      },
      "id": "_yS8Wi3mVkSj",
      "execution_count": null,
      "outputs": [
        {
          "output_type": "display_data",
          "data": {
            "text/plain": [
              "<Figure size 432x288 with 1 Axes>"
            ],
            "image/png": "[encoded data removed]"
          },
          "metadata": {
            "needs_background": "light"
          }
        }
      ]
    },
    {
      "cell_type": "code",
      "source": [
        "data.describe()"
      ],
      "metadata": {
        "colab": {
          "base_uri": "https://localhost:8080/",
          "height": 393
        },
        "id": "0kklJBGDVm8n",
        "outputId": "ca57cf4b-c0c5-46ad-ac93-667c4a758b6d"
      },
      "id": "0kklJBGDVm8n",
      "execution_count": null,
      "outputs": [
        {
          "output_type": "execute_result",
          "data": {
            "text/plain": [
              "         VehicleAge        VehOdo  MMRAcquisitionAuctionAveragePrice  \\\n",
              "count  5.779700e+04  5.779700e+04                       5.779700e+04   \n",
              "mean  -5.367304e-16 -1.303951e-16                       1.051271e-16   \n",
              "std    1.000000e+00  1.000000e+00                       1.000000e+00   \n",
              "min   -2.432328e+00 -4.566859e+00                      -2.497137e+00   \n",
              "25%   -6.820997e-01 -6.646247e-01                      -7.544380e-01   \n",
              "50%   -9.869015e-02  1.281836e-01                      -1.204916e-02   \n",
              "75%    4.847194e-01  7.506444e-01                       6.659613e-01   \n",
              "max    2.818357e+00  3.031767e+00                       1.205809e+01   \n",
              "\n",
              "       MMRAcquisitionAuctionCleanPrice  MMRAcquisitionRetailAveragePrice  \\\n",
              "count                     5.779700e+04                      5.779700e+04   \n",
              "mean                      1.058462e-15                     -4.185259e-17   \n",
              "std                       1.000000e+00                      1.000000e+00   \n",
              "min                      -2.718493e+00                     -2.698283e+00   \n",
              "25%                      -7.230517e-01                     -7.040022e-01   \n",
              "50%                      -2.287756e-02                     -1.584816e-02   \n",
              "75%                       6.050301e-01                      6.834205e-01   \n",
              "max                       1.087167e+01                      9.711989e+00   \n",
              "\n",
              "       MMRAcquisitonRetailCleanPrice  MMRCurrentAuctionAveragePrice  \\\n",
              "count                   5.779700e+04                   5.779700e+04   \n",
              "mean                    7.021814e-16                   2.274420e-15   \n",
              "std                     1.000000e+00                   1.000000e+00   \n",
              "min                    -2.918180e+00                  -2.528873e+00   \n",
              "25%                    -6.961542e-01                  -7.608856e-01   \n",
              "50%                    -1.630498e-02                  -2.309022e-02   \n",
              "75%                     6.608782e-01                   6.606799e-01   \n",
              "max                     9.370058e+00                   1.220312e+01   \n",
              "\n",
              "       MMRCurrentAuctionCleanPrice  MMRCurrentRetailAveragePrice  \\\n",
              "count                 5.779700e+04                  5.779700e+04   \n",
              "mean                 -3.667422e-15                  1.297379e-14   \n",
              "std                   1.000000e+00                  1.000000e+00   \n",
              "min                  -2.764066e+00                 -2.851173e+00   \n",
              "25%                  -7.345444e-01                 -7.224846e-01   \n",
              "50%                  -2.312703e-02                 -7.073758e-03   \n",
              "75%                   6.037581e-01                  6.891685e-01   \n",
              "max                   1.102254e+01                  9.845582e+00   \n",
              "\n",
              "       MMRCurrentRetailCleanPrice  ...       VNST_OK       VNST_OR  \\\n",
              "count                5.779700e+04  ...  57797.000000  57797.000000   \n",
              "mean                -4.258407e-16  ...      0.049968      0.002699   \n",
              "std                  1.000000e+00  ...      0.217881      0.051883   \n",
              "min                 -3.078890e+00  ...      0.000000      0.000000   \n",
              "25%                 -7.106557e-01  ...      0.000000      0.000000   \n",
              "50%                 -8.956487e-03  ...      0.000000      0.000000   \n",
              "75%                  6.563223e-01  ...      0.000000      0.000000   \n",
              "max                  9.383554e+00  ...      1.000000      1.000000   \n",
              "\n",
              "            VNST_PA       VNST_SC       VNST_TN       VNST_TX       VNST_UT  \\\n",
              "count  57797.000000  57797.000000  57797.000000  57797.000000  57797.000000   \n",
              "mean       0.011627      0.058498      0.024361      0.186376      0.011956   \n",
              "std        0.107200      0.234684      0.154169      0.389414      0.108687   \n",
              "min        0.000000      0.000000      0.000000      0.000000      0.000000   \n",
              "25%        0.000000      0.000000      0.000000      0.000000      0.000000   \n",
              "50%        0.000000      0.000000      0.000000      0.000000      0.000000   \n",
              "75%        0.000000      0.000000      0.000000      0.000000      0.000000   \n",
              "max        1.000000      1.000000      1.000000      1.000000      1.000000   \n",
              "\n",
              "            VNST_VA       VNST_WA       VNST_WV  \n",
              "count  57797.000000  57797.000000  57797.000000  \n",
              "mean       0.022890      0.001921      0.003824  \n",
              "std        0.149556      0.043782      0.061718  \n",
              "min        0.000000      0.000000      0.000000  \n",
              "25%        0.000000      0.000000      0.000000  \n",
              "50%        0.000000      0.000000      0.000000  \n",
              "75%        0.000000      0.000000      0.000000  \n",
              "max        1.000000      1.000000      1.000000  \n",
              "\n",
              "[8 rows x 113 columns]"
            ],
            "text/html": [
              "\n",
              "  <div id=\"df-53e5e6b6-d1c6-4b4c-b4d6-3d4a29c57f26\">\n",
              "    <div class=\"colab-df-container\">\n",
              "      <div>\n",
              "<style scoped>\n",
              "    .dataframe tbody tr th:only-of-type {\n",
              "        vertical-align: middle;\n",
              "    }\n",
              "\n",
              "    .dataframe tbody tr th {\n",
              "        vertical-align: top;\n",
              "    }\n",
              "\n",
              "    .dataframe thead th {\n",
              "        text-align: right;\n",
              "    }\n",
              "</style>\n",
              "<table border=\"1\" class=\"dataframe\">\n",
              "  <thead>\n",
              "    <tr style=\"text-align: right;\">\n",
              "      <th></th>\n",
              "      <th>VehicleAge</th>\n",
              "      <th>VehOdo</th>\n",
              "      <th>MMRAcquisitionAuctionAveragePrice</th>\n",
              "      <th>MMRAcquisitionAuctionCleanPrice</th>\n",
              "      <th>MMRAcquisitionRetailAveragePrice</th>\n",
              "      <th>MMRAcquisitonRetailCleanPrice</th>\n",
              "      <th>MMRCurrentAuctionAveragePrice</th>\n",
              "      <th>MMRCurrentAuctionCleanPrice</th>\n",
              "      <th>MMRCurrentRetailAveragePrice</th>\n",
              "      <th>MMRCurrentRetailCleanPrice</th>\n",
              "      <th>...</th>\n",
              "      <th>VNST_OK</th>\n",
              "      <th>VNST_OR</th>\n",
              "      <th>VNST_PA</th>\n",
              "      <th>VNST_SC</th>\n",
              "      <th>VNST_TN</th>\n",
              "      <th>VNST_TX</th>\n",
              "      <th>VNST_UT</th>\n",
              "      <th>VNST_VA</th>\n",
              "      <th>VNST_WA</th>\n",
              "      <th>VNST_WV</th>\n",
              "    </tr>\n",
              "  </thead>\n",
              "  <tbody>\n",
              "    <tr>\n",
              "      <th>count</th>\n",
              "      <td>5.779700e+04</td>\n",
              "      <td>5.779700e+04</td>\n",
              "      <td>5.779700e+04</td>\n",
              "      <td>5.779700e+04</td>\n",
              "      <td>5.779700e+04</td>\n",
              "      <td>5.779700e+04</td>\n",
              "      <td>5.779700e+04</td>\n",
              "      <td>5.779700e+04</td>\n",
              "      <td>5.779700e+04</td>\n",
              "      <td>5.779700e+04</td>\n",
              "      <td>...</td>\n",
              "      <td>57797.000000</td>\n",
              "      <td>57797.000000</td>\n",
              "      <td>57797.000000</td>\n",
              "      <td>57797.000000</td>\n",
              "      <td>57797.000000</td>\n",
              "      <td>57797.000000</td>\n",
              "      <td>57797.000000</td>\n",
              "      <td>57797.000000</td>\n",
              "      <td>57797.000000</td>\n",
              "      <td>57797.000000</td>\n",
              "    </tr>\n",
              "    <tr>\n",
              "      <th>mean</th>\n",
              "      <td>-5.367304e-16</td>\n",
              "      <td>-1.303951e-16</td>\n",
              "      <td>1.051271e-16</td>\n",
              "      <td>1.058462e-15</td>\n",
              "      <td>-4.185259e-17</td>\n",
              "      <td>7.021814e-16</td>\n",
              "      <td>2.274420e-15</td>\n",
              "      <td>-3.667422e-15</td>\n",
              "      <td>1.297379e-14</td>\n",
              "      <td>-4.258407e-16</td>\n",
              "      <td>...</td>\n",
              "      <td>0.049968</td>\n",
              "      <td>0.002699</td>\n",
              "      <td>0.011627</td>\n",
              "      <td>0.058498</td>\n",
              "      <td>0.024361</td>\n",
              "      <td>0.186376</td>\n",
              "      <td>0.011956</td>\n",
              "      <td>0.022890</td>\n",
              "      <td>0.001921</td>\n",
              "      <td>0.003824</td>\n",
              "    </tr>\n",
              "    <tr>\n",
              "      <th>std</th>\n",
              "      <td>1.000000e+00</td>\n",
              "      <td>1.000000e+00</td>\n",
              "      <td>1.000000e+00</td>\n",
              "      <td>1.000000e+00</td>\n",
              "      <td>1.000000e+00</td>\n",
              "      <td>1.000000e+00</td>\n",
              "      <td>1.000000e+00</td>\n",
              "      <td>1.000000e+00</td>\n",
              "      <td>1.000000e+00</td>\n",
              "      <td>1.000000e+00</td>\n",
              "      <td>...</td>\n",
              "      <td>0.217881</td>\n",
              "      <td>0.051883</td>\n",
              "      <td>0.107200</td>\n",
              "      <td>0.234684</td>\n",
              "      <td>0.154169</td>\n",
              "      <td>0.389414</td>\n",
              "      <td>0.108687</td>\n",
              "      <td>0.149556</td>\n",
              "      <td>0.043782</td>\n",
              "      <td>0.061718</td>\n",
              "    </tr>\n",
              "    <tr>\n",
              "      <th>min</th>\n",
              "      <td>-2.432328e+00</td>\n",
              "      <td>-4.566859e+00</td>\n",
              "      <td>-2.497137e+00</td>\n",
              "      <td>-2.718493e+00</td>\n",
              "      <td>-2.698283e+00</td>\n",
              "      <td>-2.918180e+00</td>\n",
              "      <td>-2.528873e+00</td>\n",
              "      <td>-2.764066e+00</td>\n",
              "      <td>-2.851173e+00</td>\n",
              "      <td>-3.078890e+00</td>\n",
              "      <td>...</td>\n",
              "      <td>0.000000</td>\n",
              "      <td>0.000000</td>\n",
              "      <td>0.000000</td>\n",
              "      <td>0.000000</td>\n",
              "      <td>0.000000</td>\n",
              "      <td>0.000000</td>\n",
              "      <td>0.000000</td>\n",
              "      <td>0.000000</td>\n",
              "      <td>0.000000</td>\n",
              "      <td>0.000000</td>\n",
              "    </tr>\n",
              "    <tr>\n",
              "      <th>25%</th>\n",
              "      <td>-6.820997e-01</td>\n",
              "      <td>-6.646247e-01</td>\n",
              "      <td>-7.544380e-01</td>\n",
              "      <td>-7.230517e-01</td>\n",
              "      <td>-7.040022e-01</td>\n",
              "      <td>-6.961542e-01</td>\n",
              "      <td>-7.608856e-01</td>\n",
              "      <td>-7.345444e-01</td>\n",
              "      <td>-7.224846e-01</td>\n",
              "      <td>-7.106557e-01</td>\n",
              "      <td>...</td>\n",
              "      <td>0.000000</td>\n",
              "      <td>0.000000</td>\n",
              "      <td>0.000000</td>\n",
              "      <td>0.000000</td>\n",
              "      <td>0.000000</td>\n",
              "      <td>0.000000</td>\n",
              "      <td>0.000000</td>\n",
              "      <td>0.000000</td>\n",
              "      <td>0.000000</td>\n",
              "      <td>0.000000</td>\n",
              "    </tr>\n",
              "    <tr>\n",
              "      <th>50%</th>\n",
              "      <td>-9.869015e-02</td>\n",
              "      <td>1.281836e-01</td>\n",
              "      <td>-1.204916e-02</td>\n",
              "      <td>-2.287756e-02</td>\n",
              "      <td>-1.584816e-02</td>\n",
              "      <td>-1.630498e-02</td>\n",
              "      <td>-2.309022e-02</td>\n",
              "      <td>-2.312703e-02</td>\n",
              "      <td>-7.073758e-03</td>\n",
              "      <td>-8.956487e-03</td>\n",
              "      <td>...</td>\n",
              "      <td>0.000000</td>\n",
              "      <td>0.000000</td>\n",
              "      <td>0.000000</td>\n",
              "      <td>0.000000</td>\n",
              "      <td>0.000000</td>\n",
              "      <td>0.000000</td>\n",
              "      <td>0.000000</td>\n",
              "      <td>0.000000</td>\n",
              "      <td>0.000000</td>\n",
              "      <td>0.000000</td>\n",
              "    </tr>\n",
              "    <tr>\n",
              "      <th>75%</th>\n",
              "      <td>4.847194e-01</td>\n",
              "      <td>7.506444e-01</td>\n",
              "      <td>6.659613e-01</td>\n",
              "      <td>6.050301e-01</td>\n",
              "      <td>6.834205e-01</td>\n",
              "      <td>6.608782e-01</td>\n",
              "      <td>6.606799e-01</td>\n",
              "      <td>6.037581e-01</td>\n",
              "      <td>6.891685e-01</td>\n",
              "      <td>6.563223e-01</td>\n",
              "      <td>...</td>\n",
              "      <td>0.000000</td>\n",
              "      <td>0.000000</td>\n",
              "      <td>0.000000</td>\n",
              "      <td>0.000000</td>\n",
              "      <td>0.000000</td>\n",
              "      <td>0.000000</td>\n",
              "      <td>0.000000</td>\n",
              "      <td>0.000000</td>\n",
              "      <td>0.000000</td>\n",
              "      <td>0.000000</td>\n",
              "    </tr>\n",
              "    <tr>\n",
              "      <th>max</th>\n",
              "      <td>2.818357e+00</td>\n",
              "      <td>3.031767e+00</td>\n",
              "      <td>1.205809e+01</td>\n",
              "      <td>1.087167e+01</td>\n",
              "      <td>9.711989e+00</td>\n",
              "      <td>9.370058e+00</td>\n",
              "      <td>1.220312e+01</td>\n",
              "      <td>1.102254e+01</td>\n",
              "      <td>9.845582e+00</td>\n",
              "      <td>9.383554e+00</td>\n",
              "      <td>...</td>\n",
              "      <td>1.000000</td>\n",
              "      <td>1.000000</td>\n",
              "      <td>1.000000</td>\n",
              "      <td>1.000000</td>\n",
              "      <td>1.000000</td>\n",
              "      <td>1.000000</td>\n",
              "      <td>1.000000</td>\n",
              "      <td>1.000000</td>\n",
              "      <td>1.000000</td>\n",
              "      <td>1.000000</td>\n",
              "    </tr>\n",
              "  </tbody>\n",
              "</table>\n",
              "<p>8 rows × 113 columns</p>\n",
              "</div>\n",
              "      <button class=\"colab-df-convert\" onclick=\"convertToInteractive('df-53e5e6b6-d1c6-4b4c-b4d6-3d4a29c57f26')\"\n",
              "              title=\"Convert this dataframe to an interactive table.\"\n",
              "              style=\"display:none;\">\n",
              "        \n",
              "  <svg xmlns=\"http://www.w3.org/2000/svg\" height=\"24px\"viewBox=\"0 0 24 24\"\n",
              "       width=\"24px\">\n",
              "    <path d=\"M0 0h24v24H0V0z\" fill=\"none\"/>\n",
              "    <path d=\"M18.56 5.44l.94 2.06.94-2.06 2.06-.94-2.06-.94-.94-2.06-.94 2.06-2.06.94zm-11 1L8.5 8.5l.94-2.06 2.06-.94-2.06-.94L8.5 2.5l-.94 2.06-2.06.94zm10 10l.94 2.06.94-2.06 2.06-.94-2.06-.94-.94-2.06-.94 2.06-2.06.94z\"/><path d=\"M17.41 7.96l-1.37-1.37c-.4-.4-.92-.59-1.43-.59-.52 0-1.04.2-1.43.59L10.3 9.45l-7.72 7.72c-.78.78-.78 2.05 0 2.83L4 21.41c.39.39.9.59 1.41.59.51 0 1.02-.2 1.41-.59l7.78-7.78 2.81-2.81c.8-.78.8-2.07 0-2.86zM5.41 20L4 18.59l7.72-7.72 1.47 1.35L5.41 20z\"/>\n",
              "  </svg>\n",
              "      </button>\n",
              "      \n",
              "  <style>\n",
              "    .colab-df-container {\n",
              "      display:flex;\n",
              "      flex-wrap:wrap;\n",
              "      gap: 12px;\n",
              "    }\n",
              "\n",
              "    .colab-df-convert {\n",
              "      background-color: #E8F0FE;\n",
              "      border: none;\n",
              "      border-radius: 50%;\n",
              "      cursor: pointer;\n",
              "      display: none;\n",
              "      fill: #1967D2;\n",
              "      height: 32px;\n",
              "      padding: 0 0 0 0;\n",
              "      width: 32px;\n",
              "    }\n",
              "\n",
              "    .colab-df-convert:hover {\n",
              "      background-color: #E2EBFA;\n",
              "      box-shadow: 0px 1px 2px rgba(60, 64, 67, 0.3), 0px 1px 3px 1px rgba(60, 64, 67, 0.15);\n",
              "      fill: #174EA6;\n",
              "    }\n",
              "\n",
              "    [theme=dark] .colab-df-convert {\n",
              "      background-color: #3B4455;\n",
              "      fill: #D2E3FC;\n",
              "    }\n",
              "\n",
              "    [theme=dark] .colab-df-convert:hover {\n",
              "      background-color: #434B5C;\n",
              "      box-shadow: 0px 1px 3px 1px rgba(0, 0, 0, 0.15);\n",
              "      filter: drop-shadow(0px 1px 2px rgba(0, 0, 0, 0.3));\n",
              "      fill: #FFFFFF;\n",
              "    }\n",
              "  </style>\n",
              "\n",
              "      <script>\n",
              "        const buttonEl =\n",
              "          document.querySelector('#df-53e5e6b6-d1c6-4b4c-b4d6-3d4a29c57f26 button.colab-df-convert');\n",
              "        buttonEl.style.display =\n",
              "          google.colab.kernel.accessAllowed ? 'block' : 'none';\n",
              "\n",
              "        async function convertToInteractive(key) {\n",
              "          const element = document.querySelector('#df-53e5e6b6-d1c6-4b4c-b4d6-3d4a29c57f26');\n",
              "          const dataTable =\n",
              "            await google.colab.kernel.invokeFunction('convertToInteractive',\n",
              "                                                     [key], {});\n",
              "          if (!dataTable) return;\n",
              "\n",
              "          const docLinkHtml = 'Like what you see? Visit the ' +\n",
              "            '<a target=\"_blank\" href=https://colab.research.google.com/notebooks/data_table.ipynb>data table notebook</a>'\n",
              "            + ' to learn more about interactive tables.';\n",
              "          element.innerHTML = '';\n",
              "          dataTable['output_type'] = 'display_data';\n",
              "          await google.colab.output.renderOutput(dataTable, element);\n",
              "          const docLink = document.createElement('div');\n",
              "          docLink.innerHTML = docLinkHtml;\n",
              "          element.appendChild(docLink);\n",
              "        }\n",
              "      </script>\n",
              "    </div>\n",
              "  </div>\n",
              "  "
            ]
          },
          "metadata": {},
          "execution_count": 80
        }
      ]
    },
    {
      "cell_type": "code",
      "source": [
        "import random\n",
        "randomlist = []\n",
        "for i in range(0,12):\n",
        "\n",
        "  n = random.randint(1,5)\n",
        "  randomlist.append(n)"
      ],
      "metadata": {
        "id": "4lGBL2o3WGCF"
      },
      "id": "4lGBL2o3WGCF",
      "execution_count": null,
      "outputs": []
    },
    {
      "cell_type": "code",
      "source": [
        "for i in range(0,100):\n",
        "\n",
        "  n = random.randint(0,1)\n",
        "  randomlist.append(n)"
      ],
      "metadata": {
        "id": "W818wVbVYJFo"
      },
      "id": "W818wVbVYJFo",
      "execution_count": null,
      "outputs": []
    },
    {
      "cell_type": "code",
      "source": [
        "new_y=regressor.predict(np.array(randomlist).reshape(1, -1))"
      ],
      "metadata": {
        "colab": {
          "base_uri": "https://localhost:8080/"
        },
        "id": "MYK8OvigaMhO",
        "outputId": "c9e6f596-ecc5-4d5d-bf56-2f1a39999a61"
      },
      "id": "MYK8OvigaMhO",
      "execution_count": null,
      "outputs": [
        {
          "output_type": "stream",
          "name": "stderr",
          "text": [
            "/usr/local/lib/python3.7/dist-packages/sklearn/base.py:451: UserWarning: X does not have valid feature names, but LinearRegression was fitted with feature names\n",
            "  \"X does not have valid feature names, but\"\n"
          ]
        }
      ]
    },
    {
      "cell_type": "code",
      "source": [
        "len(randomlist)\n"
      ],
      "metadata": {
        "colab": {
          "base_uri": "https://localhost:8080/"
        },
        "id": "yBzj9poLaUQn",
        "outputId": "cd9629ce-e38c-4caa-84af-619f111667bd"
      },
      "id": "yBzj9poLaUQn",
      "execution_count": null,
      "outputs": [
        {
          "output_type": "execute_result",
          "data": {
            "text/plain": [
              "112"
            ]
          },
          "metadata": {},
          "execution_count": 98
        }
      ]
    },
    {
      "cell_type": "code",
      "source": [
        "new_y"
      ],
      "metadata": {
        "colab": {
          "base_uri": "https://localhost:8080/"
        },
        "id": "xzAXOsGfb4SV",
        "outputId": "990d5b1e-20a6-426f-e1fa-35ac3827f54a"
      },
      "id": "xzAXOsGfb4SV",
      "execution_count": null,
      "outputs": [
        {
          "output_type": "execute_result",
          "data": {
            "text/plain": [
              "array([3751.46967096])"
            ]
          },
          "metadata": {},
          "execution_count": 100
        }
      ]
    }
  ],
  "metadata": {
    "kernelspec": {
      "display_name": "Python 3 (ipykernel)",
      "language": "python",
      "name": "python3"
    },
    "language_info": {
      "codemirror_mode": {
        "name": "ipython",
        "version": 3
      },
      "file_extension": ".py",
      "mimetype": "text/x-python",
      "name": "python",
      "nbconvert_exporter": "python",
      "pygments_lexer": "ipython3",
      "version": "3.9.7"
    },
    "colab": {
      "name": "BOUARAFA_ELOUALI_MELIANI.ipynb",
      "provenance": []
    }
  },
  "nbformat": 4,
  "nbformat_minor": 5
}
